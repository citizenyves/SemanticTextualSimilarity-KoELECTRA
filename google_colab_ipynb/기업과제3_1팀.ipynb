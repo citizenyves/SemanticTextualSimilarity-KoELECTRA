{
  "nbformat": 4,
  "nbformat_minor": 0,
  "metadata": {
    "colab": {
      "name": "기업과제3_1팀.ipynb",
      "provenance": [],
      "collapsed_sections": [],
      "machine_shape": "hm",
      "include_colab_link": true
    },
    "kernelspec": {
      "name": "python3",
      "display_name": "Python 3"
    },
    "language_info": {
      "name": "python"
    },
    "widgets": {
      "application/vnd.jupyter.widget-state+json": {
        "32ae5813e2d240a6aa92006e9c3b03f1": {
          "model_module": "@jupyter-widgets/controls",
          "model_name": "HBoxModel",
          "model_module_version": "1.5.0",
          "state": {
            "_dom_classes": [],
            "_model_module": "@jupyter-widgets/controls",
            "_model_module_version": "1.5.0",
            "_model_name": "HBoxModel",
            "_view_count": null,
            "_view_module": "@jupyter-widgets/controls",
            "_view_module_version": "1.5.0",
            "_view_name": "HBoxView",
            "box_style": "",
            "children": [
              "IPY_MODEL_53c06632cb314bda978949b04ce46e72",
              "IPY_MODEL_6f97a141db4c4c6a9987df2b80536e3a",
              "IPY_MODEL_09412eb793a448859e78da95ffb209d2"
            ],
            "layout": "IPY_MODEL_1aa26ddca01d415db08f611f297450d5"
          }
        },
        "53c06632cb314bda978949b04ce46e72": {
          "model_module": "@jupyter-widgets/controls",
          "model_name": "HTMLModel",
          "model_module_version": "1.5.0",
          "state": {
            "_dom_classes": [],
            "_model_module": "@jupyter-widgets/controls",
            "_model_module_version": "1.5.0",
            "_model_name": "HTMLModel",
            "_view_count": null,
            "_view_module": "@jupyter-widgets/controls",
            "_view_module_version": "1.5.0",
            "_view_name": "HTMLView",
            "description": "",
            "description_tooltip": null,
            "layout": "IPY_MODEL_ba4cb13cdbd648e3b24e17916e0e6241",
            "placeholder": "​",
            "style": "IPY_MODEL_0a1c949229d848b280a4b1b4383270cc",
            "value": "Downloading: 100%"
          }
        },
        "6f97a141db4c4c6a9987df2b80536e3a": {
          "model_module": "@jupyter-widgets/controls",
          "model_name": "FloatProgressModel",
          "model_module_version": "1.5.0",
          "state": {
            "_dom_classes": [],
            "_model_module": "@jupyter-widgets/controls",
            "_model_module_version": "1.5.0",
            "_model_name": "FloatProgressModel",
            "_view_count": null,
            "_view_module": "@jupyter-widgets/controls",
            "_view_module_version": "1.5.0",
            "_view_name": "ProgressView",
            "bar_style": "success",
            "description": "",
            "description_tooltip": null,
            "layout": "IPY_MODEL_762202d4aef44dab9800e5d95fc72533",
            "max": 263326,
            "min": 0,
            "orientation": "horizontal",
            "style": "IPY_MODEL_a2f3bde53a8a48d2ba7c933be85be12d",
            "value": 263326
          }
        },
        "09412eb793a448859e78da95ffb209d2": {
          "model_module": "@jupyter-widgets/controls",
          "model_name": "HTMLModel",
          "model_module_version": "1.5.0",
          "state": {
            "_dom_classes": [],
            "_model_module": "@jupyter-widgets/controls",
            "_model_module_version": "1.5.0",
            "_model_name": "HTMLModel",
            "_view_count": null,
            "_view_module": "@jupyter-widgets/controls",
            "_view_module_version": "1.5.0",
            "_view_name": "HTMLView",
            "description": "",
            "description_tooltip": null,
            "layout": "IPY_MODEL_ec94f4cb101b498e8dc7d5ce50c3d465",
            "placeholder": "​",
            "style": "IPY_MODEL_d1285b41ad8b4b4682f6c78e39394837",
            "value": " 257k/257k [00:00&lt;00:00, 899kB/s]"
          }
        },
        "1aa26ddca01d415db08f611f297450d5": {
          "model_module": "@jupyter-widgets/base",
          "model_name": "LayoutModel",
          "model_module_version": "1.2.0",
          "state": {
            "_model_module": "@jupyter-widgets/base",
            "_model_module_version": "1.2.0",
            "_model_name": "LayoutModel",
            "_view_count": null,
            "_view_module": "@jupyter-widgets/base",
            "_view_module_version": "1.2.0",
            "_view_name": "LayoutView",
            "align_content": null,
            "align_items": null,
            "align_self": null,
            "border": null,
            "bottom": null,
            "display": null,
            "flex": null,
            "flex_flow": null,
            "grid_area": null,
            "grid_auto_columns": null,
            "grid_auto_flow": null,
            "grid_auto_rows": null,
            "grid_column": null,
            "grid_gap": null,
            "grid_row": null,
            "grid_template_areas": null,
            "grid_template_columns": null,
            "grid_template_rows": null,
            "height": null,
            "justify_content": null,
            "justify_items": null,
            "left": null,
            "margin": null,
            "max_height": null,
            "max_width": null,
            "min_height": null,
            "min_width": null,
            "object_fit": null,
            "object_position": null,
            "order": null,
            "overflow": null,
            "overflow_x": null,
            "overflow_y": null,
            "padding": null,
            "right": null,
            "top": null,
            "visibility": null,
            "width": null
          }
        },
        "ba4cb13cdbd648e3b24e17916e0e6241": {
          "model_module": "@jupyter-widgets/base",
          "model_name": "LayoutModel",
          "model_module_version": "1.2.0",
          "state": {
            "_model_module": "@jupyter-widgets/base",
            "_model_module_version": "1.2.0",
            "_model_name": "LayoutModel",
            "_view_count": null,
            "_view_module": "@jupyter-widgets/base",
            "_view_module_version": "1.2.0",
            "_view_name": "LayoutView",
            "align_content": null,
            "align_items": null,
            "align_self": null,
            "border": null,
            "bottom": null,
            "display": null,
            "flex": null,
            "flex_flow": null,
            "grid_area": null,
            "grid_auto_columns": null,
            "grid_auto_flow": null,
            "grid_auto_rows": null,
            "grid_column": null,
            "grid_gap": null,
            "grid_row": null,
            "grid_template_areas": null,
            "grid_template_columns": null,
            "grid_template_rows": null,
            "height": null,
            "justify_content": null,
            "justify_items": null,
            "left": null,
            "margin": null,
            "max_height": null,
            "max_width": null,
            "min_height": null,
            "min_width": null,
            "object_fit": null,
            "object_position": null,
            "order": null,
            "overflow": null,
            "overflow_x": null,
            "overflow_y": null,
            "padding": null,
            "right": null,
            "top": null,
            "visibility": null,
            "width": null
          }
        },
        "0a1c949229d848b280a4b1b4383270cc": {
          "model_module": "@jupyter-widgets/controls",
          "model_name": "DescriptionStyleModel",
          "model_module_version": "1.5.0",
          "state": {
            "_model_module": "@jupyter-widgets/controls",
            "_model_module_version": "1.5.0",
            "_model_name": "DescriptionStyleModel",
            "_view_count": null,
            "_view_module": "@jupyter-widgets/base",
            "_view_module_version": "1.2.0",
            "_view_name": "StyleView",
            "description_width": ""
          }
        },
        "762202d4aef44dab9800e5d95fc72533": {
          "model_module": "@jupyter-widgets/base",
          "model_name": "LayoutModel",
          "model_module_version": "1.2.0",
          "state": {
            "_model_module": "@jupyter-widgets/base",
            "_model_module_version": "1.2.0",
            "_model_name": "LayoutModel",
            "_view_count": null,
            "_view_module": "@jupyter-widgets/base",
            "_view_module_version": "1.2.0",
            "_view_name": "LayoutView",
            "align_content": null,
            "align_items": null,
            "align_self": null,
            "border": null,
            "bottom": null,
            "display": null,
            "flex": null,
            "flex_flow": null,
            "grid_area": null,
            "grid_auto_columns": null,
            "grid_auto_flow": null,
            "grid_auto_rows": null,
            "grid_column": null,
            "grid_gap": null,
            "grid_row": null,
            "grid_template_areas": null,
            "grid_template_columns": null,
            "grid_template_rows": null,
            "height": null,
            "justify_content": null,
            "justify_items": null,
            "left": null,
            "margin": null,
            "max_height": null,
            "max_width": null,
            "min_height": null,
            "min_width": null,
            "object_fit": null,
            "object_position": null,
            "order": null,
            "overflow": null,
            "overflow_x": null,
            "overflow_y": null,
            "padding": null,
            "right": null,
            "top": null,
            "visibility": null,
            "width": null
          }
        },
        "a2f3bde53a8a48d2ba7c933be85be12d": {
          "model_module": "@jupyter-widgets/controls",
          "model_name": "ProgressStyleModel",
          "model_module_version": "1.5.0",
          "state": {
            "_model_module": "@jupyter-widgets/controls",
            "_model_module_version": "1.5.0",
            "_model_name": "ProgressStyleModel",
            "_view_count": null,
            "_view_module": "@jupyter-widgets/base",
            "_view_module_version": "1.2.0",
            "_view_name": "StyleView",
            "bar_color": null,
            "description_width": ""
          }
        },
        "ec94f4cb101b498e8dc7d5ce50c3d465": {
          "model_module": "@jupyter-widgets/base",
          "model_name": "LayoutModel",
          "model_module_version": "1.2.0",
          "state": {
            "_model_module": "@jupyter-widgets/base",
            "_model_module_version": "1.2.0",
            "_model_name": "LayoutModel",
            "_view_count": null,
            "_view_module": "@jupyter-widgets/base",
            "_view_module_version": "1.2.0",
            "_view_name": "LayoutView",
            "align_content": null,
            "align_items": null,
            "align_self": null,
            "border": null,
            "bottom": null,
            "display": null,
            "flex": null,
            "flex_flow": null,
            "grid_area": null,
            "grid_auto_columns": null,
            "grid_auto_flow": null,
            "grid_auto_rows": null,
            "grid_column": null,
            "grid_gap": null,
            "grid_row": null,
            "grid_template_areas": null,
            "grid_template_columns": null,
            "grid_template_rows": null,
            "height": null,
            "justify_content": null,
            "justify_items": null,
            "left": null,
            "margin": null,
            "max_height": null,
            "max_width": null,
            "min_height": null,
            "min_width": null,
            "object_fit": null,
            "object_position": null,
            "order": null,
            "overflow": null,
            "overflow_x": null,
            "overflow_y": null,
            "padding": null,
            "right": null,
            "top": null,
            "visibility": null,
            "width": null
          }
        },
        "d1285b41ad8b4b4682f6c78e39394837": {
          "model_module": "@jupyter-widgets/controls",
          "model_name": "DescriptionStyleModel",
          "model_module_version": "1.5.0",
          "state": {
            "_model_module": "@jupyter-widgets/controls",
            "_model_module_version": "1.5.0",
            "_model_name": "DescriptionStyleModel",
            "_view_count": null,
            "_view_module": "@jupyter-widgets/base",
            "_view_module_version": "1.2.0",
            "_view_name": "StyleView",
            "description_width": ""
          }
        },
        "b713bc4923e542a486789397ccb0353d": {
          "model_module": "@jupyter-widgets/controls",
          "model_name": "HBoxModel",
          "model_module_version": "1.5.0",
          "state": {
            "_dom_classes": [],
            "_model_module": "@jupyter-widgets/controls",
            "_model_module_version": "1.5.0",
            "_model_name": "HBoxModel",
            "_view_count": null,
            "_view_module": "@jupyter-widgets/controls",
            "_view_module_version": "1.5.0",
            "_view_name": "HBoxView",
            "box_style": "",
            "children": [
              "IPY_MODEL_4e2938f3cd99431ca6e52f81cfb25024",
              "IPY_MODEL_6066295039d84c3697efe80c228af6fb",
              "IPY_MODEL_51895ca89bff4e51a7f27e80d5875ea8"
            ],
            "layout": "IPY_MODEL_5564287c6f6248c9b2779ecd3f229ac4"
          }
        },
        "4e2938f3cd99431ca6e52f81cfb25024": {
          "model_module": "@jupyter-widgets/controls",
          "model_name": "HTMLModel",
          "model_module_version": "1.5.0",
          "state": {
            "_dom_classes": [],
            "_model_module": "@jupyter-widgets/controls",
            "_model_module_version": "1.5.0",
            "_model_name": "HTMLModel",
            "_view_count": null,
            "_view_module": "@jupyter-widgets/controls",
            "_view_module_version": "1.5.0",
            "_view_name": "HTMLView",
            "description": "",
            "description_tooltip": null,
            "layout": "IPY_MODEL_9e4a231ed5164329a75ee4dda7013a67",
            "placeholder": "​",
            "style": "IPY_MODEL_6e30b824b6a2482da9e87fc78b449d73",
            "value": "Downloading: 100%"
          }
        },
        "6066295039d84c3697efe80c228af6fb": {
          "model_module": "@jupyter-widgets/controls",
          "model_name": "FloatProgressModel",
          "model_module_version": "1.5.0",
          "state": {
            "_dom_classes": [],
            "_model_module": "@jupyter-widgets/controls",
            "_model_module_version": "1.5.0",
            "_model_name": "FloatProgressModel",
            "_view_count": null,
            "_view_module": "@jupyter-widgets/controls",
            "_view_module_version": "1.5.0",
            "_view_name": "ProgressView",
            "bar_style": "success",
            "description": "",
            "description_tooltip": null,
            "layout": "IPY_MODEL_23984b45a797430aa60d5aa8eb49a0c9",
            "max": 61,
            "min": 0,
            "orientation": "horizontal",
            "style": "IPY_MODEL_cf39f67479b944f5adc730dc4fc048d4",
            "value": 61
          }
        },
        "51895ca89bff4e51a7f27e80d5875ea8": {
          "model_module": "@jupyter-widgets/controls",
          "model_name": "HTMLModel",
          "model_module_version": "1.5.0",
          "state": {
            "_dom_classes": [],
            "_model_module": "@jupyter-widgets/controls",
            "_model_module_version": "1.5.0",
            "_model_name": "HTMLModel",
            "_view_count": null,
            "_view_module": "@jupyter-widgets/controls",
            "_view_module_version": "1.5.0",
            "_view_name": "HTMLView",
            "description": "",
            "description_tooltip": null,
            "layout": "IPY_MODEL_cda2f6607be643cc9eec67a5ac14a1c7",
            "placeholder": "​",
            "style": "IPY_MODEL_616c451945844fc893230e72d9406377",
            "value": " 61.0/61.0 [00:00&lt;00:00, 2.49kB/s]"
          }
        },
        "5564287c6f6248c9b2779ecd3f229ac4": {
          "model_module": "@jupyter-widgets/base",
          "model_name": "LayoutModel",
          "model_module_version": "1.2.0",
          "state": {
            "_model_module": "@jupyter-widgets/base",
            "_model_module_version": "1.2.0",
            "_model_name": "LayoutModel",
            "_view_count": null,
            "_view_module": "@jupyter-widgets/base",
            "_view_module_version": "1.2.0",
            "_view_name": "LayoutView",
            "align_content": null,
            "align_items": null,
            "align_self": null,
            "border": null,
            "bottom": null,
            "display": null,
            "flex": null,
            "flex_flow": null,
            "grid_area": null,
            "grid_auto_columns": null,
            "grid_auto_flow": null,
            "grid_auto_rows": null,
            "grid_column": null,
            "grid_gap": null,
            "grid_row": null,
            "grid_template_areas": null,
            "grid_template_columns": null,
            "grid_template_rows": null,
            "height": null,
            "justify_content": null,
            "justify_items": null,
            "left": null,
            "margin": null,
            "max_height": null,
            "max_width": null,
            "min_height": null,
            "min_width": null,
            "object_fit": null,
            "object_position": null,
            "order": null,
            "overflow": null,
            "overflow_x": null,
            "overflow_y": null,
            "padding": null,
            "right": null,
            "top": null,
            "visibility": null,
            "width": null
          }
        },
        "9e4a231ed5164329a75ee4dda7013a67": {
          "model_module": "@jupyter-widgets/base",
          "model_name": "LayoutModel",
          "model_module_version": "1.2.0",
          "state": {
            "_model_module": "@jupyter-widgets/base",
            "_model_module_version": "1.2.0",
            "_model_name": "LayoutModel",
            "_view_count": null,
            "_view_module": "@jupyter-widgets/base",
            "_view_module_version": "1.2.0",
            "_view_name": "LayoutView",
            "align_content": null,
            "align_items": null,
            "align_self": null,
            "border": null,
            "bottom": null,
            "display": null,
            "flex": null,
            "flex_flow": null,
            "grid_area": null,
            "grid_auto_columns": null,
            "grid_auto_flow": null,
            "grid_auto_rows": null,
            "grid_column": null,
            "grid_gap": null,
            "grid_row": null,
            "grid_template_areas": null,
            "grid_template_columns": null,
            "grid_template_rows": null,
            "height": null,
            "justify_content": null,
            "justify_items": null,
            "left": null,
            "margin": null,
            "max_height": null,
            "max_width": null,
            "min_height": null,
            "min_width": null,
            "object_fit": null,
            "object_position": null,
            "order": null,
            "overflow": null,
            "overflow_x": null,
            "overflow_y": null,
            "padding": null,
            "right": null,
            "top": null,
            "visibility": null,
            "width": null
          }
        },
        "6e30b824b6a2482da9e87fc78b449d73": {
          "model_module": "@jupyter-widgets/controls",
          "model_name": "DescriptionStyleModel",
          "model_module_version": "1.5.0",
          "state": {
            "_model_module": "@jupyter-widgets/controls",
            "_model_module_version": "1.5.0",
            "_model_name": "DescriptionStyleModel",
            "_view_count": null,
            "_view_module": "@jupyter-widgets/base",
            "_view_module_version": "1.2.0",
            "_view_name": "StyleView",
            "description_width": ""
          }
        },
        "23984b45a797430aa60d5aa8eb49a0c9": {
          "model_module": "@jupyter-widgets/base",
          "model_name": "LayoutModel",
          "model_module_version": "1.2.0",
          "state": {
            "_model_module": "@jupyter-widgets/base",
            "_model_module_version": "1.2.0",
            "_model_name": "LayoutModel",
            "_view_count": null,
            "_view_module": "@jupyter-widgets/base",
            "_view_module_version": "1.2.0",
            "_view_name": "LayoutView",
            "align_content": null,
            "align_items": null,
            "align_self": null,
            "border": null,
            "bottom": null,
            "display": null,
            "flex": null,
            "flex_flow": null,
            "grid_area": null,
            "grid_auto_columns": null,
            "grid_auto_flow": null,
            "grid_auto_rows": null,
            "grid_column": null,
            "grid_gap": null,
            "grid_row": null,
            "grid_template_areas": null,
            "grid_template_columns": null,
            "grid_template_rows": null,
            "height": null,
            "justify_content": null,
            "justify_items": null,
            "left": null,
            "margin": null,
            "max_height": null,
            "max_width": null,
            "min_height": null,
            "min_width": null,
            "object_fit": null,
            "object_position": null,
            "order": null,
            "overflow": null,
            "overflow_x": null,
            "overflow_y": null,
            "padding": null,
            "right": null,
            "top": null,
            "visibility": null,
            "width": null
          }
        },
        "cf39f67479b944f5adc730dc4fc048d4": {
          "model_module": "@jupyter-widgets/controls",
          "model_name": "ProgressStyleModel",
          "model_module_version": "1.5.0",
          "state": {
            "_model_module": "@jupyter-widgets/controls",
            "_model_module_version": "1.5.0",
            "_model_name": "ProgressStyleModel",
            "_view_count": null,
            "_view_module": "@jupyter-widgets/base",
            "_view_module_version": "1.2.0",
            "_view_name": "StyleView",
            "bar_color": null,
            "description_width": ""
          }
        },
        "cda2f6607be643cc9eec67a5ac14a1c7": {
          "model_module": "@jupyter-widgets/base",
          "model_name": "LayoutModel",
          "model_module_version": "1.2.0",
          "state": {
            "_model_module": "@jupyter-widgets/base",
            "_model_module_version": "1.2.0",
            "_model_name": "LayoutModel",
            "_view_count": null,
            "_view_module": "@jupyter-widgets/base",
            "_view_module_version": "1.2.0",
            "_view_name": "LayoutView",
            "align_content": null,
            "align_items": null,
            "align_self": null,
            "border": null,
            "bottom": null,
            "display": null,
            "flex": null,
            "flex_flow": null,
            "grid_area": null,
            "grid_auto_columns": null,
            "grid_auto_flow": null,
            "grid_auto_rows": null,
            "grid_column": null,
            "grid_gap": null,
            "grid_row": null,
            "grid_template_areas": null,
            "grid_template_columns": null,
            "grid_template_rows": null,
            "height": null,
            "justify_content": null,
            "justify_items": null,
            "left": null,
            "margin": null,
            "max_height": null,
            "max_width": null,
            "min_height": null,
            "min_width": null,
            "object_fit": null,
            "object_position": null,
            "order": null,
            "overflow": null,
            "overflow_x": null,
            "overflow_y": null,
            "padding": null,
            "right": null,
            "top": null,
            "visibility": null,
            "width": null
          }
        },
        "616c451945844fc893230e72d9406377": {
          "model_module": "@jupyter-widgets/controls",
          "model_name": "DescriptionStyleModel",
          "model_module_version": "1.5.0",
          "state": {
            "_model_module": "@jupyter-widgets/controls",
            "_model_module_version": "1.5.0",
            "_model_name": "DescriptionStyleModel",
            "_view_count": null,
            "_view_module": "@jupyter-widgets/base",
            "_view_module_version": "1.2.0",
            "_view_name": "StyleView",
            "description_width": ""
          }
        },
        "539bbb022db34f06b22151071f678b1f": {
          "model_module": "@jupyter-widgets/controls",
          "model_name": "HBoxModel",
          "model_module_version": "1.5.0",
          "state": {
            "_dom_classes": [],
            "_model_module": "@jupyter-widgets/controls",
            "_model_module_version": "1.5.0",
            "_model_name": "HBoxModel",
            "_view_count": null,
            "_view_module": "@jupyter-widgets/controls",
            "_view_module_version": "1.5.0",
            "_view_name": "HBoxView",
            "box_style": "",
            "children": [
              "IPY_MODEL_4991777804544cd2b553a0bc0c6dc683",
              "IPY_MODEL_01b415b8097c46ea919eb420223160d4",
              "IPY_MODEL_5c6e3d76088f4f0c9cab2a019a646138"
            ],
            "layout": "IPY_MODEL_33744c0b92ff4779a759674a6580aa29"
          }
        },
        "4991777804544cd2b553a0bc0c6dc683": {
          "model_module": "@jupyter-widgets/controls",
          "model_name": "HTMLModel",
          "model_module_version": "1.5.0",
          "state": {
            "_dom_classes": [],
            "_model_module": "@jupyter-widgets/controls",
            "_model_module_version": "1.5.0",
            "_model_name": "HTMLModel",
            "_view_count": null,
            "_view_module": "@jupyter-widgets/controls",
            "_view_module_version": "1.5.0",
            "_view_name": "HTMLView",
            "description": "",
            "description_tooltip": null,
            "layout": "IPY_MODEL_a4b8c1ff1858420cbd4387cf788ec26b",
            "placeholder": "​",
            "style": "IPY_MODEL_13cb5945eb2646329af10bae3bd05799",
            "value": "Downloading: 100%"
          }
        },
        "01b415b8097c46ea919eb420223160d4": {
          "model_module": "@jupyter-widgets/controls",
          "model_name": "FloatProgressModel",
          "model_module_version": "1.5.0",
          "state": {
            "_dom_classes": [],
            "_model_module": "@jupyter-widgets/controls",
            "_model_module_version": "1.5.0",
            "_model_name": "FloatProgressModel",
            "_view_count": null,
            "_view_module": "@jupyter-widgets/controls",
            "_view_module_version": "1.5.0",
            "_view_name": "ProgressView",
            "bar_style": "success",
            "description": "",
            "description_tooltip": null,
            "layout": "IPY_MODEL_a94ddb5bc7024fdf9721d6c8e92677de",
            "max": 467,
            "min": 0,
            "orientation": "horizontal",
            "style": "IPY_MODEL_dbad2f7ce1374862b857f716072eb176",
            "value": 467
          }
        },
        "5c6e3d76088f4f0c9cab2a019a646138": {
          "model_module": "@jupyter-widgets/controls",
          "model_name": "HTMLModel",
          "model_module_version": "1.5.0",
          "state": {
            "_dom_classes": [],
            "_model_module": "@jupyter-widgets/controls",
            "_model_module_version": "1.5.0",
            "_model_name": "HTMLModel",
            "_view_count": null,
            "_view_module": "@jupyter-widgets/controls",
            "_view_module_version": "1.5.0",
            "_view_name": "HTMLView",
            "description": "",
            "description_tooltip": null,
            "layout": "IPY_MODEL_936c8cdf238b437aa090ae0f7ccd6c13",
            "placeholder": "​",
            "style": "IPY_MODEL_ea9eeaabb470489883166e73b5cce432",
            "value": " 467/467 [00:00&lt;00:00, 17.8kB/s]"
          }
        },
        "33744c0b92ff4779a759674a6580aa29": {
          "model_module": "@jupyter-widgets/base",
          "model_name": "LayoutModel",
          "model_module_version": "1.2.0",
          "state": {
            "_model_module": "@jupyter-widgets/base",
            "_model_module_version": "1.2.0",
            "_model_name": "LayoutModel",
            "_view_count": null,
            "_view_module": "@jupyter-widgets/base",
            "_view_module_version": "1.2.0",
            "_view_name": "LayoutView",
            "align_content": null,
            "align_items": null,
            "align_self": null,
            "border": null,
            "bottom": null,
            "display": null,
            "flex": null,
            "flex_flow": null,
            "grid_area": null,
            "grid_auto_columns": null,
            "grid_auto_flow": null,
            "grid_auto_rows": null,
            "grid_column": null,
            "grid_gap": null,
            "grid_row": null,
            "grid_template_areas": null,
            "grid_template_columns": null,
            "grid_template_rows": null,
            "height": null,
            "justify_content": null,
            "justify_items": null,
            "left": null,
            "margin": null,
            "max_height": null,
            "max_width": null,
            "min_height": null,
            "min_width": null,
            "object_fit": null,
            "object_position": null,
            "order": null,
            "overflow": null,
            "overflow_x": null,
            "overflow_y": null,
            "padding": null,
            "right": null,
            "top": null,
            "visibility": null,
            "width": null
          }
        },
        "a4b8c1ff1858420cbd4387cf788ec26b": {
          "model_module": "@jupyter-widgets/base",
          "model_name": "LayoutModel",
          "model_module_version": "1.2.0",
          "state": {
            "_model_module": "@jupyter-widgets/base",
            "_model_module_version": "1.2.0",
            "_model_name": "LayoutModel",
            "_view_count": null,
            "_view_module": "@jupyter-widgets/base",
            "_view_module_version": "1.2.0",
            "_view_name": "LayoutView",
            "align_content": null,
            "align_items": null,
            "align_self": null,
            "border": null,
            "bottom": null,
            "display": null,
            "flex": null,
            "flex_flow": null,
            "grid_area": null,
            "grid_auto_columns": null,
            "grid_auto_flow": null,
            "grid_auto_rows": null,
            "grid_column": null,
            "grid_gap": null,
            "grid_row": null,
            "grid_template_areas": null,
            "grid_template_columns": null,
            "grid_template_rows": null,
            "height": null,
            "justify_content": null,
            "justify_items": null,
            "left": null,
            "margin": null,
            "max_height": null,
            "max_width": null,
            "min_height": null,
            "min_width": null,
            "object_fit": null,
            "object_position": null,
            "order": null,
            "overflow": null,
            "overflow_x": null,
            "overflow_y": null,
            "padding": null,
            "right": null,
            "top": null,
            "visibility": null,
            "width": null
          }
        },
        "13cb5945eb2646329af10bae3bd05799": {
          "model_module": "@jupyter-widgets/controls",
          "model_name": "DescriptionStyleModel",
          "model_module_version": "1.5.0",
          "state": {
            "_model_module": "@jupyter-widgets/controls",
            "_model_module_version": "1.5.0",
            "_model_name": "DescriptionStyleModel",
            "_view_count": null,
            "_view_module": "@jupyter-widgets/base",
            "_view_module_version": "1.2.0",
            "_view_name": "StyleView",
            "description_width": ""
          }
        },
        "a94ddb5bc7024fdf9721d6c8e92677de": {
          "model_module": "@jupyter-widgets/base",
          "model_name": "LayoutModel",
          "model_module_version": "1.2.0",
          "state": {
            "_model_module": "@jupyter-widgets/base",
            "_model_module_version": "1.2.0",
            "_model_name": "LayoutModel",
            "_view_count": null,
            "_view_module": "@jupyter-widgets/base",
            "_view_module_version": "1.2.0",
            "_view_name": "LayoutView",
            "align_content": null,
            "align_items": null,
            "align_self": null,
            "border": null,
            "bottom": null,
            "display": null,
            "flex": null,
            "flex_flow": null,
            "grid_area": null,
            "grid_auto_columns": null,
            "grid_auto_flow": null,
            "grid_auto_rows": null,
            "grid_column": null,
            "grid_gap": null,
            "grid_row": null,
            "grid_template_areas": null,
            "grid_template_columns": null,
            "grid_template_rows": null,
            "height": null,
            "justify_content": null,
            "justify_items": null,
            "left": null,
            "margin": null,
            "max_height": null,
            "max_width": null,
            "min_height": null,
            "min_width": null,
            "object_fit": null,
            "object_position": null,
            "order": null,
            "overflow": null,
            "overflow_x": null,
            "overflow_y": null,
            "padding": null,
            "right": null,
            "top": null,
            "visibility": null,
            "width": null
          }
        },
        "dbad2f7ce1374862b857f716072eb176": {
          "model_module": "@jupyter-widgets/controls",
          "model_name": "ProgressStyleModel",
          "model_module_version": "1.5.0",
          "state": {
            "_model_module": "@jupyter-widgets/controls",
            "_model_module_version": "1.5.0",
            "_model_name": "ProgressStyleModel",
            "_view_count": null,
            "_view_module": "@jupyter-widgets/base",
            "_view_module_version": "1.2.0",
            "_view_name": "StyleView",
            "bar_color": null,
            "description_width": ""
          }
        },
        "936c8cdf238b437aa090ae0f7ccd6c13": {
          "model_module": "@jupyter-widgets/base",
          "model_name": "LayoutModel",
          "model_module_version": "1.2.0",
          "state": {
            "_model_module": "@jupyter-widgets/base",
            "_model_module_version": "1.2.0",
            "_model_name": "LayoutModel",
            "_view_count": null,
            "_view_module": "@jupyter-widgets/base",
            "_view_module_version": "1.2.0",
            "_view_name": "LayoutView",
            "align_content": null,
            "align_items": null,
            "align_self": null,
            "border": null,
            "bottom": null,
            "display": null,
            "flex": null,
            "flex_flow": null,
            "grid_area": null,
            "grid_auto_columns": null,
            "grid_auto_flow": null,
            "grid_auto_rows": null,
            "grid_column": null,
            "grid_gap": null,
            "grid_row": null,
            "grid_template_areas": null,
            "grid_template_columns": null,
            "grid_template_rows": null,
            "height": null,
            "justify_content": null,
            "justify_items": null,
            "left": null,
            "margin": null,
            "max_height": null,
            "max_width": null,
            "min_height": null,
            "min_width": null,
            "object_fit": null,
            "object_position": null,
            "order": null,
            "overflow": null,
            "overflow_x": null,
            "overflow_y": null,
            "padding": null,
            "right": null,
            "top": null,
            "visibility": null,
            "width": null
          }
        },
        "ea9eeaabb470489883166e73b5cce432": {
          "model_module": "@jupyter-widgets/controls",
          "model_name": "DescriptionStyleModel",
          "model_module_version": "1.5.0",
          "state": {
            "_model_module": "@jupyter-widgets/controls",
            "_model_module_version": "1.5.0",
            "_model_name": "DescriptionStyleModel",
            "_view_count": null,
            "_view_module": "@jupyter-widgets/base",
            "_view_module_version": "1.2.0",
            "_view_name": "StyleView",
            "description_width": ""
          }
        }
      }
    },
    "accelerator": "GPU"
  },
  "cells": [
    {
      "cell_type": "markdown",
      "metadata": {
        "id": "view-in-github",
        "colab_type": "text"
      },
      "source": [
        "<a href=\"https://colab.research.google.com/github/citizenyves/SemanticTextualSimilarity-KoELECTRA/blob/main/google_colab_ipynb/%E1%84%80%E1%85%B5%E1%84%8B%E1%85%A5%E1%86%B8%E1%84%80%E1%85%AA%E1%84%8C%E1%85%A63_1%E1%84%90%E1%85%B5%E1%86%B7.ipynb\" target=\"_parent\"><img src=\"https://colab.research.google.com/assets/colab-badge.svg\" alt=\"Open In Colab\"/></a>"
      ]
    },
    {
      "cell_type": "markdown",
      "source": [
        "# REST API 서버코드 주소\n",
        "https://github.com/citizenyves/SemanticTextualSimilarity-KoELECTRA/tree/main/API"
      ],
      "metadata": {
        "id": "pVBM7oBranQt"
      }
    },
    {
      "cell_type": "code",
      "source": [
        "from google.colab import drive\n",
        "drive.mount('/content/drive')"
      ],
      "metadata": {
        "colab": {
          "base_uri": "https://localhost:8080/"
        },
        "id": "876Q7LjCBi8f",
        "outputId": "2d4b54d7-e4f3-4d34-9a9d-e3d51ba558f4"
      },
      "execution_count": null,
      "outputs": [
        {
          "output_type": "stream",
          "name": "stdout",
          "text": [
            "Mounted at /content/drive\n"
          ]
        }
      ]
    },
    {
      "cell_type": "markdown",
      "source": [
        "# pip"
      ],
      "metadata": {
        "id": "7LGUdeU7gtjk"
      }
    },
    {
      "cell_type": "code",
      "source": [
        "!pip install fastprogress"
      ],
      "metadata": {
        "id": "OLdu2p2ogpQ8",
        "colab": {
          "base_uri": "https://localhost:8080/"
        },
        "outputId": "43286fdc-e448-4dff-8a34-6c8c584892d6"
      },
      "execution_count": null,
      "outputs": [
        {
          "output_type": "stream",
          "name": "stdout",
          "text": [
            "Requirement already satisfied: fastprogress in /usr/local/lib/python3.7/dist-packages (1.0.2)\n"
          ]
        }
      ]
    },
    {
      "cell_type": "code",
      "source": [
        "!pip install transformers"
      ],
      "metadata": {
        "id": "y7A_YHbZZeRi",
        "colab": {
          "base_uri": "https://localhost:8080/"
        },
        "outputId": "142c57a4-d40a-4312-b9d6-78a8856c758d"
      },
      "execution_count": null,
      "outputs": [
        {
          "output_type": "stream",
          "name": "stdout",
          "text": [
            "Collecting transformers\n",
            "  Downloading transformers-4.17.0-py3-none-any.whl (3.8 MB)\n",
            "\u001b[K     |████████████████████████████████| 3.8 MB 7.8 MB/s \n",
            "\u001b[?25hRequirement already satisfied: importlib-metadata in /usr/local/lib/python3.7/dist-packages (from transformers) (4.11.3)\n",
            "Requirement already satisfied: filelock in /usr/local/lib/python3.7/dist-packages (from transformers) (3.6.0)\n",
            "Requirement already satisfied: requests in /usr/local/lib/python3.7/dist-packages (from transformers) (2.23.0)\n",
            "Requirement already satisfied: regex!=2019.12.17 in /usr/local/lib/python3.7/dist-packages (from transformers) (2019.12.20)\n",
            "Collecting huggingface-hub<1.0,>=0.1.0\n",
            "  Downloading huggingface_hub-0.4.0-py3-none-any.whl (67 kB)\n",
            "\u001b[K     |████████████████████████████████| 67 kB 6.6 MB/s \n",
            "\u001b[?25hCollecting tokenizers!=0.11.3,>=0.11.1\n",
            "  Downloading tokenizers-0.11.6-cp37-cp37m-manylinux_2_12_x86_64.manylinux2010_x86_64.whl (6.5 MB)\n",
            "\u001b[K     |████████████████████████████████| 6.5 MB 84.6 MB/s \n",
            "\u001b[?25hRequirement already satisfied: tqdm>=4.27 in /usr/local/lib/python3.7/dist-packages (from transformers) (4.63.0)\n",
            "Collecting pyyaml>=5.1\n",
            "  Downloading PyYAML-6.0-cp37-cp37m-manylinux_2_5_x86_64.manylinux1_x86_64.manylinux_2_12_x86_64.manylinux2010_x86_64.whl (596 kB)\n",
            "\u001b[K     |████████████████████████████████| 596 kB 64.5 MB/s \n",
            "\u001b[?25hRequirement already satisfied: packaging>=20.0 in /usr/local/lib/python3.7/dist-packages (from transformers) (21.3)\n",
            "Requirement already satisfied: numpy>=1.17 in /usr/local/lib/python3.7/dist-packages (from transformers) (1.21.5)\n",
            "Collecting sacremoses\n",
            "  Downloading sacremoses-0.0.49-py3-none-any.whl (895 kB)\n",
            "\u001b[K     |████████████████████████████████| 895 kB 79.5 MB/s \n",
            "\u001b[?25hRequirement already satisfied: typing-extensions>=3.7.4.3 in /usr/local/lib/python3.7/dist-packages (from huggingface-hub<1.0,>=0.1.0->transformers) (3.10.0.2)\n",
            "Requirement already satisfied: pyparsing!=3.0.5,>=2.0.2 in /usr/local/lib/python3.7/dist-packages (from packaging>=20.0->transformers) (3.0.7)\n",
            "Requirement already satisfied: zipp>=0.5 in /usr/local/lib/python3.7/dist-packages (from importlib-metadata->transformers) (3.7.0)\n",
            "Requirement already satisfied: chardet<4,>=3.0.2 in /usr/local/lib/python3.7/dist-packages (from requests->transformers) (3.0.4)\n",
            "Requirement already satisfied: idna<3,>=2.5 in /usr/local/lib/python3.7/dist-packages (from requests->transformers) (2.10)\n",
            "Requirement already satisfied: urllib3!=1.25.0,!=1.25.1,<1.26,>=1.21.1 in /usr/local/lib/python3.7/dist-packages (from requests->transformers) (1.24.3)\n",
            "Requirement already satisfied: certifi>=2017.4.17 in /usr/local/lib/python3.7/dist-packages (from requests->transformers) (2021.10.8)\n",
            "Requirement already satisfied: joblib in /usr/local/lib/python3.7/dist-packages (from sacremoses->transformers) (1.1.0)\n",
            "Requirement already satisfied: click in /usr/local/lib/python3.7/dist-packages (from sacremoses->transformers) (7.1.2)\n",
            "Requirement already satisfied: six in /usr/local/lib/python3.7/dist-packages (from sacremoses->transformers) (1.15.0)\n",
            "Installing collected packages: pyyaml, tokenizers, sacremoses, huggingface-hub, transformers\n",
            "  Attempting uninstall: pyyaml\n",
            "    Found existing installation: PyYAML 3.13\n",
            "    Uninstalling PyYAML-3.13:\n",
            "      Successfully uninstalled PyYAML-3.13\n",
            "Successfully installed huggingface-hub-0.4.0 pyyaml-6.0 sacremoses-0.0.49 tokenizers-0.11.6 transformers-4.17.0\n"
          ]
        }
      ]
    },
    {
      "cell_type": "markdown",
      "source": [
        "# Preset"
      ],
      "metadata": {
        "id": "qGhOyXq_bLyM"
      }
    },
    {
      "cell_type": "code",
      "execution_count": null,
      "metadata": {
        "id": "dfQgMpCc3oUf"
      },
      "outputs": [],
      "source": [
        "import os\n",
        "import copy\n",
        "import json\n",
        "import logging\n",
        "import re\n",
        "from tqdm import tqdm\n",
        "\n",
        "# Data\n",
        "import pandas as pd\n",
        "import tarfile\n",
        "import json\n",
        "import numpy as np\n",
        "import random\n",
        "import torch\n",
        "import transformers\n",
        "from numpy.lib.function_base import average\n",
        "from sklearn.model_selection import train_test_split\n",
        "from torch.utils.data import TensorDataset \n",
        "from torch.utils.data import DataLoader, RandomSampler, SequentialSampler\n",
        "from torch.utils.tensorboard import SummaryWriter\n",
        "# Visualize Loss \n",
        "import seaborn as sns\n",
        "import matplotlib.pyplot as plt\n",
        "\n",
        "# Metrics\n",
        "from scipy.stats import pearsonr, spearmanr\n",
        "from sklearn import metrics as sklearn_metrics\n",
        "\n",
        "# Modeling\n",
        "from transformers import (\n",
        "    ElectraConfig,\n",
        "    ElectraTokenizer,\n",
        "    ElectraForSequenceClassification\n",
        ")\n",
        "from transformers import (\n",
        "    AdamW,\n",
        "    get_linear_schedule_with_warmup\n",
        ")\n",
        "\n",
        "# Train\n",
        "from fastprogress.fastprogress import master_bar, progress_bar"
      ]
    },
    {
      "cell_type": "code",
      "source": [
        "# device type\n",
        "if torch.cuda.is_available():\n",
        "    device = torch.device(\"cuda\")\n",
        "    print(f\"# available GPUs : {torch.cuda.device_count()}\")\n",
        "    print(f\"GPU name : {torch.cuda.get_device_name()}\")\n",
        "else:\n",
        "    device = torch.device(\"cpu\")\n",
        "print(device)"
      ],
      "metadata": {
        "colab": {
          "base_uri": "https://localhost:8080/"
        },
        "id": "qXQFnWOU9LGW",
        "outputId": "7d74c6fd-b9d4-403a-faf2-5ae14ae6881e"
      },
      "execution_count": null,
      "outputs": [
        {
          "output_type": "stream",
          "name": "stdout",
          "text": [
            "# available GPUs : 1\n",
            "GPU name : Tesla P100-PCIE-16GB\n",
            "cuda\n"
          ]
        }
      ]
    },
    {
      "cell_type": "code",
      "source": [
        "## Version.\n",
        "print(\"[VERSION]\")\n",
        "print(f\"torch: {torch.__version__}\")\n",
        "print(f\"transformers: {transformers.__version__}\")"
      ],
      "metadata": {
        "id": "gQuDm9vYjzAb",
        "colab": {
          "base_uri": "https://localhost:8080/"
        },
        "outputId": "4f13cad9-a305-4224-955c-3638bef290e9"
      },
      "execution_count": null,
      "outputs": [
        {
          "output_type": "stream",
          "name": "stdout",
          "text": [
            "[VERSION]\n",
            "torch: 1.10.0+cu111\n",
            "transformers: 4.17.0\n"
          ]
        }
      ]
    },
    {
      "cell_type": "code",
      "source": [
        "# # seed\n",
        "# seed = 7777\n",
        "# np.random.seed(seed)\n",
        "# random.seed(seed)\n",
        "# torch.manual_seed(seed)\n",
        "# torch.cuda.manual_seed_all(seed)"
      ],
      "metadata": {
        "id": "uWVTP19bHQ-m"
      },
      "execution_count": null,
      "outputs": []
    },
    {
      "cell_type": "markdown",
      "source": [
        "# Modules"
      ],
      "metadata": {
        "id": "KiGcOmjsCmuU"
      }
    },
    {
      "cell_type": "markdown",
      "source": [
        "## Args"
      ],
      "metadata": {
        "id": "HvTa4RTDAewg"
      }
    },
    {
      "cell_type": "code",
      "source": [
        "args = {\n",
        "  \"task\": \"korsts\",\n",
        "  \"evaluate_test_during_training\": False,\n",
        "  \"do_lower_case\": False,\n",
        "  \"do_train\": True,\n",
        "  \"max_seq_len\": 128,\n",
        "  \"num_train_epochs\": 20,\n",
        "  \"weight_decay\": 0.0,   # default = 1e-2\n",
        "  \"gradient_accumulation_steps\": 1,\n",
        "  \"betas\": (0.9, 0.999), # default\n",
        "  \"adam_epsilon\": 1e-8,  # default\n",
        "  \"warmup_proportion\": 0.2,\n",
        "  \"max_steps\": -1,\n",
        "  \"max_grad_norm\": 1.0,\n",
        "  \"no_cuda\": False,\n",
        "  \"model_type\": \"koelectra-base-v3\",\n",
        "  \"model_name_or_path\": \"monologg/koelectra-base-v3-discriminator\",\n",
        "  \"seed\": 42,\n",
        "  \"train_batch_size\": 32,\n",
        "  \"eval_batch_size\": 64,\n",
        "  \"learning_rate\": 5e-5,\n",
        "  \"output_mode\":\"regression\"\n",
        "}\n"
      ],
      "metadata": {
        "id": "t41QDqUKZkur"
      },
      "execution_count": null,
      "outputs": []
    },
    {
      "cell_type": "markdown",
      "source": [
        "## Data"
      ],
      "metadata": {
        "id": "H6BkbGaiCohc"
      }
    },
    {
      "cell_type": "code",
      "source": [
        "def make_seed_dataset(df, col1, col2, f_label, b_label):\n",
        "    # sentence pairs\n",
        "    sent_pairs = [(sent1, sent2) for sent1, sent2 in zip(df[col1], df[col2])]\n",
        "    \n",
        "    # labels(float)\n",
        "    labels = [label for label in df[f_label]]\n",
        "\n",
        "    # labels(binary)\n",
        "    b_labels = [label for label in df[b_label]]\n",
        "    \n",
        "    return sent_pairs, labels, b_labels\n",
        "\n",
        "\n",
        "def batch_encode(tokenizer, sent_pairs):\n",
        "    batch_encoding = tokenizer.batch_encode_plus(\n",
        "                              [(pairs[0], pairs[1]) for pairs in tqdm(sent_pairs, total=len(sent_pairs))],\n",
        "                              max_length=128,\n",
        "                              padding=\"max_length\",    \n",
        "                              add_special_tokens=True,\n",
        "                              truncation=True,\n",
        "                              )\n",
        "    return batch_encoding\n",
        "\n",
        "\n",
        "def make_features(sent_pairs, batch_encoding, labels):\n",
        "    features = []\n",
        "    for i in tqdm(range(len(sent_pairs)), total=len(sent_pairs)):\n",
        "        inputs = {k: batch_encoding[k][i] for k in batch_encoding}\n",
        "        if \"token_type_ids\" not in inputs:\n",
        "            inputs[\"token_type_ids\"] = [0] * len(inputs[\"input_ids\"])\n",
        "\n",
        "        feature = {'input_ids':inputs['input_ids'],\n",
        "                  'attention_mask':inputs['attention_mask'],\n",
        "                  'token_type_ids':inputs['token_type_ids'],\n",
        "                  'label':labels[i]\n",
        "                  }\n",
        "        \n",
        "        features.append(feature)\n",
        "    \n",
        "    return features\n",
        "\n",
        "\n",
        "def make_inputs(features, output_mode:str=\"regression\"):\n",
        "    assert output_mode in [\"classification\", \"regression\"]\n",
        "\n",
        "    # inputs\n",
        "    all_input_ids = torch.tensor([f['input_ids'] for f in features], dtype=torch.long)\n",
        "    all_attention_mask = torch.tensor([f['attention_mask'] for f in features], dtype=torch.long)\n",
        "    all_token_type_ids = torch.tensor([f['token_type_ids'] for f in features], dtype=torch.long)\n",
        "\n",
        "    # label\n",
        "    if output_mode == \"classification\":\n",
        "        all_labels = torch.tensor([f['label'] for f in features], dtype=torch.long)\n",
        "    elif output_mode == \"regression\":\n",
        "        all_labels = torch.tensor([f['label'] for f in features], dtype=torch.float)\n",
        "    else:\n",
        "        raise AssertionError(output_mode)\n",
        "\n",
        "    # dataset\n",
        "    dataset = TensorDataset(all_input_ids, all_attention_mask, all_token_type_ids, all_labels)\n",
        "\n",
        "    return dataset\n",
        "\n",
        "\n",
        "def make_dataloader(dataset, mode:str):\n",
        "    assert mode in ['train', 'valid', 'dev']\n",
        "\n",
        "    if mode == \"train\":\n",
        "        dataloader = DataLoader(dataset = dataset, # (input_ids, attention_mask, token_type_ids, labels)\n",
        "                                sampler = RandomSampler(dataset), \n",
        "                                batch_size = args['train_batch_size'])\n",
        "    elif mode == \"valid\":\n",
        "        dataloader = DataLoader(dataset = dataset, \n",
        "                                sampler = RandomSampler(dataset), \n",
        "                                batch_size = args['eval_batch_size'])\n",
        "    elif mode == \"dev\":\n",
        "        dataloader = DataLoader(dataset = dataset, \n",
        "                                sampler = SequentialSampler(dataset), \n",
        "                                batch_size = args['eval_batch_size'])\n",
        "    else:\n",
        "        raise AssertionError(mode)\n",
        "\n",
        "    return dataloader"
      ],
      "metadata": {
        "id": "sxpNLHytD4or"
      },
      "execution_count": null,
      "outputs": []
    },
    {
      "cell_type": "markdown",
      "source": [
        "## Utils"
      ],
      "metadata": {
        "id": "jsj-U62Tbwo4"
      }
    },
    {
      "cell_type": "code",
      "source": [
        "def init_logger():\n",
        "    logging.basicConfig(\n",
        "        format=\"%(asctime)s - %(levelname)s - %(name)s -   %(message)s\",\n",
        "        datefmt=\"%m/%d/%Y %H:%M:%S\",\n",
        "        level=logging.INFO,\n",
        "    )\n",
        "\n",
        "def set_seed(args):\n",
        "    random.seed(args['seed'])\n",
        "    np.random.seed(args['seed'])\n",
        "    torch.manual_seed(args['seed'])\n",
        "    if not args['no_cuda'] and torch.cuda.is_available():\n",
        "        torch.cuda.manual_seed_all(args['seed'])\n",
        "\n",
        "\n",
        "def pearson_and_spearman(labels, preds):\n",
        "    pearson_corr = pearsonr(preds, labels)[0]\n",
        "    spearman_corr = spearmanr(preds, labels)[0]\n",
        "    return {\n",
        "        \"pearson\": pearson_corr,\n",
        "        \"spearmanr\": spearman_corr,\n",
        "        \"corr\": (pearson_corr + spearman_corr) / 2,\n",
        "    }\n",
        "\n",
        "\n",
        "def f1_pre_rec(labels, preds):\n",
        "    return {\n",
        "        \"precision\": sklearn_metrics.precision_score(labels, preds, average=\"macro\"),\n",
        "        \"recall\": sklearn_metrics.recall_score(labels, preds, average=\"macro\"),\n",
        "        \"f1\": sklearn_metrics.f1_score(labels, preds, average=\"macro\"),\n",
        "    }\n",
        "\n",
        "\n",
        "def compute_metrics(metric_name, labels, preds):\n",
        "    assert len(preds) == len(labels)\n",
        "    if metric_name == \"pearson_and_spearman\":\n",
        "        return pearson_and_spearman(labels, preds)\n",
        "    elif metric_name == \"f1_pre_rec\":\n",
        "        return f1_pre_rec(labels, preds)\n",
        "    else:\n",
        "        raise KeyError(metric_name)"
      ],
      "metadata": {
        "id": "uNO1t9D5dFiA"
      },
      "execution_count": null,
      "outputs": []
    },
    {
      "cell_type": "markdown",
      "source": [
        "## Processor"
      ],
      "metadata": {
        "id": "gK8jGZB5aWDK"
      }
    },
    {
      "cell_type": "code",
      "source": [
        "class STSProcessor(object):\n",
        "    \"\"\"Processor for the KorSTS data set \"\"\"\n",
        "\n",
        "    def __init__(self, args):\n",
        "        self.args = args\n",
        "\n",
        "    def get_labels(self): # (need)\n",
        "        return [None]"
      ],
      "metadata": {
        "id": "dhPNfFD2afso"
      },
      "execution_count": null,
      "outputs": []
    },
    {
      "cell_type": "code",
      "source": [
        "seq_cls_processors = {\n",
        "    \"korsts\": STSProcessor\n",
        "}\n",
        "\n",
        "seq_cls_tasks_num_labels = {\n",
        "    \"korsts\": 1\n",
        "}\n",
        "\n",
        "seq_cls_output_modes = {\n",
        "    \"korsts\": \"regression\"\n",
        "}\n",
        "\n",
        "CONFIG_CLASSES = {\n",
        "    \"koelectra-base-v3\": ElectraConfig\n",
        "}\n",
        "\n",
        "TOKENIZER_CLASSES = {\n",
        "    \"koelectra-base-v3\": ElectraTokenizer\n",
        "}\n",
        "\n",
        "MODEL_FOR_SEQUENCE_CLASSIFICATION = {\n",
        "    \"koelectra-base-v3\": ElectraForSequenceClassification\n",
        "}"
      ],
      "metadata": {
        "id": "h9s8ksXFaZb9"
      },
      "execution_count": null,
      "outputs": []
    },
    {
      "cell_type": "markdown",
      "source": [
        "## Run"
      ],
      "metadata": {
        "id": "khG6gBFOGLnZ"
      }
    },
    {
      "cell_type": "code",
      "source": [
        "def save_checkpoint(path, model, optimizer, scheduler, epoch, loss):\n",
        "    file_name = f'{path}/model.ckpt.{epoch}'\n",
        "    torch.save(\n",
        "        {\n",
        "          'epoch': epoch,\n",
        "          'model_state_dict': model.state_dict(),\n",
        "          'optimizer_state_dict': optimizer.state_dict(),\n",
        "          'scheduler_state_dict': scheduler.state_dict(),\n",
        "          'loss' : loss\n",
        "        },\n",
        "        file_name\n",
        "    )\n",
        "\n",
        "    print(f\"Saving epoch {epoch} checkpoint at {file_name}\")\n",
        "\n",
        "\n",
        "class Initializer():\n",
        "    def __init__(self, args):\n",
        "        self.args = args\n",
        "        self.config = CONFIG_CLASSES[args['model_type']].from_pretrained(\n",
        "                args['model_name_or_path'],\n",
        "                num_labels=seq_cls_tasks_num_labels[args['task']]\n",
        "            )\n",
        "        self.model = MODEL_FOR_SEQUENCE_CLASSIFICATION[args['model_type']].from_pretrained(\n",
        "            args['model_name_or_path'],\n",
        "            config=self.config\n",
        "        )\n",
        "\n",
        "    def model_initializer(self):\n",
        "        \"\"\"\n",
        "        모델을 초기화한 후 반환\n",
        "        \"\"\"\n",
        "\n",
        "        return self.model\n",
        "\n",
        "\n",
        "    def opt_sch_initializer(self, model, train_dataloader):\n",
        "        \"\"\"\n",
        "        옵티마이저, 스케쥴러를 초기화한 후 반환\n",
        "        \"\"\"\n",
        "\n",
        "        # optimizer\n",
        "        no_decay = ['bias', 'LayerNorm.weight']\n",
        "        optimizer_grouped_parameters = [\n",
        "            {'params': [p for n, p in model.named_parameters() if not any(nd in n for nd in no_decay)],\n",
        "            'weight_decay': self.args['weight_decay']}, #weight_decay = 0.0\n",
        "            {'params': [p for n, p in model.named_parameters() if any(nd in n for nd in no_decay)], \n",
        "            'weight_decay': 0.0}\n",
        "        ]\n",
        "        optimizer = AdamW(optimizer_grouped_parameters,\n",
        "                          lr=self.args['learning_rate'],\n",
        "                          eps=self.args['adam_epsilon'])\n",
        "        \n",
        "        # scheduler\n",
        "        if self.args['max_steps'] > 0: \n",
        "            t_total = self.args['max_steps']\n",
        "            self.args['num_train_epochs'] = self.args['max_steps'] // (len(train_dataloader) // self.args['gradient_accumulation_steps']) + 1\n",
        "        else:\n",
        "            t_total = len(train_dataloader) // self.args['gradient_accumulation_steps'] * self.args['num_train_epochs']\n",
        "\n",
        "        scheduler = get_linear_schedule_with_warmup(optimizer=optimizer,\n",
        "                                                    num_warmup_steps=int(t_total * self.args['warmup_proportion']), #0 \n",
        "                                                    num_training_steps=t_total)\n",
        "        \n",
        "        return optimizer, scheduler, t_total"
      ],
      "metadata": {
        "id": "h7heZnvfGNzO"
      },
      "execution_count": null,
      "outputs": []
    },
    {
      "cell_type": "markdown",
      "source": [
        "# Load Data"
      ],
      "metadata": {
        "id": "jNkUn7o8D0TN"
      }
    },
    {
      "cell_type": "code",
      "source": [
        "# train, dev json 로드\n",
        "train_json = \"klue-sts-v1.1_train.json\"\n",
        "dev_json = \"klue-sts-v1.1_dev.json\"\n",
        "\n",
        "with open(f\"/content/drive/MyDrive/Colab Notebooks/wanted_preonboarding/기업과제/3.STS/data/{train_json}\", \"r\") as train_json:\n",
        "    train = json.load(train_json)\n",
        "\n",
        "with open(f\"/content/drive/MyDrive/Colab Notebooks/wanted_preonboarding/기업과제/3.STS/data/{dev_json}\", \"r\") as dev_json:\n",
        "    dev = json.load(dev_json)\n",
        "\n",
        "\n",
        "# json to csv\n",
        "train = pd.json_normalize(train).iloc[:, 0:7]\n",
        "dev = pd.json_normalize(dev).iloc[:, 0:7]"
      ],
      "metadata": {
        "id": "UFQJPqMk3tpF"
      },
      "execution_count": null,
      "outputs": []
    },
    {
      "cell_type": "code",
      "source": [
        "# # CSV파일로 저장하기\n",
        "# train.to_csv(\"/content/drive/MyDrive/preon_nlp/train.csv\", index = False)\n",
        "# dev.to_csv(\"/content/drive/MyDrive/preon_nlp/dev.csv\", index = False)\n",
        "\n",
        "# # CSV파일 읽기\n",
        "# t_path = \"/content/drive/MyDrive/preon_nlp/train.csv\"\n",
        "# d_path = \"/content/drive/MyDrive/preon_nlp/dev.csv\"\n",
        "# train = pd.read_csv(t_path)\n",
        "# dev = pd.read_csv(d_path)"
      ],
      "metadata": {
        "id": "34qIQnRHbnux"
      },
      "execution_count": null,
      "outputs": []
    },
    {
      "cell_type": "code",
      "source": [
        "print(f\"train set shape : {train.shape}\")\n",
        "print(f\"dev set shape   : {dev.shape}\")"
      ],
      "metadata": {
        "id": "7asQZhkz3u-n",
        "colab": {
          "base_uri": "https://localhost:8080/"
        },
        "outputId": "22617f44-69e9-4a51-b594-3fbd32168557"
      },
      "execution_count": null,
      "outputs": [
        {
          "output_type": "stream",
          "name": "stdout",
          "text": [
            "train set shape : (11668, 7)\n",
            "dev set shape   : (519, 7)\n"
          ]
        }
      ]
    },
    {
      "cell_type": "code",
      "source": [
        "train.head(3)"
      ],
      "metadata": {
        "colab": {
          "base_uri": "https://localhost:8080/",
          "height": 589
        },
        "id": "qHpi33V8-SMr",
        "outputId": "52410eda-b3dc-4895-b6a9-bf0a2828e9b6"
      },
      "execution_count": null,
      "outputs": [
        {
          "output_type": "execute_result",
          "data": {
            "text/plain": [
              "                      guid           source  \\\n",
              "0  klue-sts-v1_train_00000       airbnb-rtt   \n",
              "1  klue-sts-v1_train_00001   policy-sampled   \n",
              "2  klue-sts-v1_train_00002  paraKQC-sampled   \n",
              "\n",
              "                                       sentence1  \\\n",
              "0               숙소 위치는 찾기 쉽고 일반적인 한국의 반지하 숙소입니다.   \n",
              "1  위반행위 조사 등을 거부·방해·기피한 자는 500만원 이하 과태료 부과 대상이다.   \n",
              "2        회사가 보낸 메일은 이 지메일이 아니라 다른 지메일 계정으로 전달해줘.   \n",
              "\n",
              "                                    sentence2  labels.label  \\\n",
              "0  숙박시설의 위치는 쉽게 찾을 수 있고 한국의 대표적인 반지하 숙박시설입니다.           3.7   \n",
              "1       시민들 스스로 자발적인 예방 노력을 한 것은 아산 뿐만이 아니었다.           0.0   \n",
              "2                  사람들이 주로 네이버 메일을 쓰는 이유를 알려줘           0.3   \n",
              "\n",
              "   labels.real-label  labels.binary-label  \n",
              "0           3.714286                    1  \n",
              "1           0.000000                    0  \n",
              "2           0.333333                    0  "
            ],
            "text/html": [
              "\n",
              "  <div id=\"df-ab51cfda-29ff-4d33-9207-f0a5ebf27bd0\">\n",
              "    <div class=\"colab-df-container\">\n",
              "      <div>\n",
              "<style scoped>\n",
              "    .dataframe tbody tr th:only-of-type {\n",
              "        vertical-align: middle;\n",
              "    }\n",
              "\n",
              "    .dataframe tbody tr th {\n",
              "        vertical-align: top;\n",
              "    }\n",
              "\n",
              "    .dataframe thead th {\n",
              "        text-align: right;\n",
              "    }\n",
              "</style>\n",
              "<table border=\"1\" class=\"dataframe\">\n",
              "  <thead>\n",
              "    <tr style=\"text-align: right;\">\n",
              "      <th></th>\n",
              "      <th>guid</th>\n",
              "      <th>source</th>\n",
              "      <th>sentence1</th>\n",
              "      <th>sentence2</th>\n",
              "      <th>labels.label</th>\n",
              "      <th>labels.real-label</th>\n",
              "      <th>labels.binary-label</th>\n",
              "    </tr>\n",
              "  </thead>\n",
              "  <tbody>\n",
              "    <tr>\n",
              "      <th>0</th>\n",
              "      <td>klue-sts-v1_train_00000</td>\n",
              "      <td>airbnb-rtt</td>\n",
              "      <td>숙소 위치는 찾기 쉽고 일반적인 한국의 반지하 숙소입니다.</td>\n",
              "      <td>숙박시설의 위치는 쉽게 찾을 수 있고 한국의 대표적인 반지하 숙박시설입니다.</td>\n",
              "      <td>3.7</td>\n",
              "      <td>3.714286</td>\n",
              "      <td>1</td>\n",
              "    </tr>\n",
              "    <tr>\n",
              "      <th>1</th>\n",
              "      <td>klue-sts-v1_train_00001</td>\n",
              "      <td>policy-sampled</td>\n",
              "      <td>위반행위 조사 등을 거부·방해·기피한 자는 500만원 이하 과태료 부과 대상이다.</td>\n",
              "      <td>시민들 스스로 자발적인 예방 노력을 한 것은 아산 뿐만이 아니었다.</td>\n",
              "      <td>0.0</td>\n",
              "      <td>0.000000</td>\n",
              "      <td>0</td>\n",
              "    </tr>\n",
              "    <tr>\n",
              "      <th>2</th>\n",
              "      <td>klue-sts-v1_train_00002</td>\n",
              "      <td>paraKQC-sampled</td>\n",
              "      <td>회사가 보낸 메일은 이 지메일이 아니라 다른 지메일 계정으로 전달해줘.</td>\n",
              "      <td>사람들이 주로 네이버 메일을 쓰는 이유를 알려줘</td>\n",
              "      <td>0.3</td>\n",
              "      <td>0.333333</td>\n",
              "      <td>0</td>\n",
              "    </tr>\n",
              "  </tbody>\n",
              "</table>\n",
              "</div>\n",
              "      <button class=\"colab-df-convert\" onclick=\"convertToInteractive('df-ab51cfda-29ff-4d33-9207-f0a5ebf27bd0')\"\n",
              "              title=\"Convert this dataframe to an interactive table.\"\n",
              "              style=\"display:none;\">\n",
              "        \n",
              "  <svg xmlns=\"http://www.w3.org/2000/svg\" height=\"24px\"viewBox=\"0 0 24 24\"\n",
              "       width=\"24px\">\n",
              "    <path d=\"M0 0h24v24H0V0z\" fill=\"none\"/>\n",
              "    <path d=\"M18.56 5.44l.94 2.06.94-2.06 2.06-.94-2.06-.94-.94-2.06-.94 2.06-2.06.94zm-11 1L8.5 8.5l.94-2.06 2.06-.94-2.06-.94L8.5 2.5l-.94 2.06-2.06.94zm10 10l.94 2.06.94-2.06 2.06-.94-2.06-.94-.94-2.06-.94 2.06-2.06.94z\"/><path d=\"M17.41 7.96l-1.37-1.37c-.4-.4-.92-.59-1.43-.59-.52 0-1.04.2-1.43.59L10.3 9.45l-7.72 7.72c-.78.78-.78 2.05 0 2.83L4 21.41c.39.39.9.59 1.41.59.51 0 1.02-.2 1.41-.59l7.78-7.78 2.81-2.81c.8-.78.8-2.07 0-2.86zM5.41 20L4 18.59l7.72-7.72 1.47 1.35L5.41 20z\"/>\n",
              "  </svg>\n",
              "      </button>\n",
              "      \n",
              "  <style>\n",
              "    .colab-df-container {\n",
              "      display:flex;\n",
              "      flex-wrap:wrap;\n",
              "      gap: 12px;\n",
              "    }\n",
              "\n",
              "    .colab-df-convert {\n",
              "      background-color: #E8F0FE;\n",
              "      border: none;\n",
              "      border-radius: 50%;\n",
              "      cursor: pointer;\n",
              "      display: none;\n",
              "      fill: #1967D2;\n",
              "      height: 32px;\n",
              "      padding: 0 0 0 0;\n",
              "      width: 32px;\n",
              "    }\n",
              "\n",
              "    .colab-df-convert:hover {\n",
              "      background-color: #E2EBFA;\n",
              "      box-shadow: 0px 1px 2px rgba(60, 64, 67, 0.3), 0px 1px 3px 1px rgba(60, 64, 67, 0.15);\n",
              "      fill: #174EA6;\n",
              "    }\n",
              "\n",
              "    [theme=dark] .colab-df-convert {\n",
              "      background-color: #3B4455;\n",
              "      fill: #D2E3FC;\n",
              "    }\n",
              "\n",
              "    [theme=dark] .colab-df-convert:hover {\n",
              "      background-color: #434B5C;\n",
              "      box-shadow: 0px 1px 3px 1px rgba(0, 0, 0, 0.15);\n",
              "      filter: drop-shadow(0px 1px 2px rgba(0, 0, 0, 0.3));\n",
              "      fill: #FFFFFF;\n",
              "    }\n",
              "  </style>\n",
              "\n",
              "      <script>\n",
              "        const buttonEl =\n",
              "          document.querySelector('#df-ab51cfda-29ff-4d33-9207-f0a5ebf27bd0 button.colab-df-convert');\n",
              "        buttonEl.style.display =\n",
              "          google.colab.kernel.accessAllowed ? 'block' : 'none';\n",
              "\n",
              "        async function convertToInteractive(key) {\n",
              "          const element = document.querySelector('#df-ab51cfda-29ff-4d33-9207-f0a5ebf27bd0');\n",
              "          const dataTable =\n",
              "            await google.colab.kernel.invokeFunction('convertToInteractive',\n",
              "                                                     [key], {});\n",
              "          if (!dataTable) return;\n",
              "\n",
              "          const docLinkHtml = 'Like what you see? Visit the ' +\n",
              "            '<a target=\"_blank\" href=https://colab.research.google.com/notebooks/data_table.ipynb>data table notebook</a>'\n",
              "            + ' to learn more about interactive tables.';\n",
              "          element.innerHTML = '';\n",
              "          dataTable['output_type'] = 'display_data';\n",
              "          await google.colab.output.renderOutput(dataTable, element);\n",
              "          const docLink = document.createElement('div');\n",
              "          docLink.innerHTML = docLinkHtml;\n",
              "          element.appendChild(docLink);\n",
              "        }\n",
              "      </script>\n",
              "    </div>\n",
              "  </div>\n",
              "  "
            ]
          },
          "metadata": {},
          "execution_count": 18
        }
      ]
    },
    {
      "cell_type": "code",
      "source": [
        "dev.head(3)"
      ],
      "metadata": {
        "colab": {
          "base_uri": "https://localhost:8080/",
          "height": 520
        },
        "id": "KPdwNSg6-Uyk",
        "outputId": "cec2b426-ba96-4b7a-dd51-aad0a3d0ba9b"
      },
      "execution_count": null,
      "outputs": [
        {
          "output_type": "execute_result",
          "data": {
            "text/plain": [
              "                    guid          source  \\\n",
              "0  klue-sts-v1_dev_00000      airbnb-rtt   \n",
              "1  klue-sts-v1_dev_00001  airbnb-sampled   \n",
              "2  klue-sts-v1_dev_00002  policy-sampled   \n",
              "\n",
              "                                           sentence1  \\\n",
              "0                           무엇보다도 호스트분들이 너무 친절하셨습니다.   \n",
              "1                             주요 관광지 모두 걸어서 이동가능합니다.   \n",
              "2  학생들의 균형 있는 영어능력을 향상시킬 수 있는 학교 수업을 유도하기 위해 2018...   \n",
              "\n",
              "                                           sentence2  labels.label  \\\n",
              "0                            무엇보다도, 호스트들은 매우 친절했습니다.           4.9   \n",
              "1                        위치는 피렌체 중심가까지 걸어서 이동 가능합니다.           1.4   \n",
              "2  영어 영역의 경우 학생들이 한글 해석본을 암기하는 문제를 해소하기 위해 2016학년...           1.3   \n",
              "\n",
              "   labels.real-label  labels.binary-label  \n",
              "0           4.857143                    1  \n",
              "1           1.428571                    0  \n",
              "2           1.285714                    0  "
            ],
            "text/html": [
              "\n",
              "  <div id=\"df-8b83ef45-2260-4577-877b-03781dfb1205\">\n",
              "    <div class=\"colab-df-container\">\n",
              "      <div>\n",
              "<style scoped>\n",
              "    .dataframe tbody tr th:only-of-type {\n",
              "        vertical-align: middle;\n",
              "    }\n",
              "\n",
              "    .dataframe tbody tr th {\n",
              "        vertical-align: top;\n",
              "    }\n",
              "\n",
              "    .dataframe thead th {\n",
              "        text-align: right;\n",
              "    }\n",
              "</style>\n",
              "<table border=\"1\" class=\"dataframe\">\n",
              "  <thead>\n",
              "    <tr style=\"text-align: right;\">\n",
              "      <th></th>\n",
              "      <th>guid</th>\n",
              "      <th>source</th>\n",
              "      <th>sentence1</th>\n",
              "      <th>sentence2</th>\n",
              "      <th>labels.label</th>\n",
              "      <th>labels.real-label</th>\n",
              "      <th>labels.binary-label</th>\n",
              "    </tr>\n",
              "  </thead>\n",
              "  <tbody>\n",
              "    <tr>\n",
              "      <th>0</th>\n",
              "      <td>klue-sts-v1_dev_00000</td>\n",
              "      <td>airbnb-rtt</td>\n",
              "      <td>무엇보다도 호스트분들이 너무 친절하셨습니다.</td>\n",
              "      <td>무엇보다도, 호스트들은 매우 친절했습니다.</td>\n",
              "      <td>4.9</td>\n",
              "      <td>4.857143</td>\n",
              "      <td>1</td>\n",
              "    </tr>\n",
              "    <tr>\n",
              "      <th>1</th>\n",
              "      <td>klue-sts-v1_dev_00001</td>\n",
              "      <td>airbnb-sampled</td>\n",
              "      <td>주요 관광지 모두 걸어서 이동가능합니다.</td>\n",
              "      <td>위치는 피렌체 중심가까지 걸어서 이동 가능합니다.</td>\n",
              "      <td>1.4</td>\n",
              "      <td>1.428571</td>\n",
              "      <td>0</td>\n",
              "    </tr>\n",
              "    <tr>\n",
              "      <th>2</th>\n",
              "      <td>klue-sts-v1_dev_00002</td>\n",
              "      <td>policy-sampled</td>\n",
              "      <td>학생들의 균형 있는 영어능력을 향상시킬 수 있는 학교 수업을 유도하기 위해 2018...</td>\n",
              "      <td>영어 영역의 경우 학생들이 한글 해석본을 암기하는 문제를 해소하기 위해 2016학년...</td>\n",
              "      <td>1.3</td>\n",
              "      <td>1.285714</td>\n",
              "      <td>0</td>\n",
              "    </tr>\n",
              "  </tbody>\n",
              "</table>\n",
              "</div>\n",
              "      <button class=\"colab-df-convert\" onclick=\"convertToInteractive('df-8b83ef45-2260-4577-877b-03781dfb1205')\"\n",
              "              title=\"Convert this dataframe to an interactive table.\"\n",
              "              style=\"display:none;\">\n",
              "        \n",
              "  <svg xmlns=\"http://www.w3.org/2000/svg\" height=\"24px\"viewBox=\"0 0 24 24\"\n",
              "       width=\"24px\">\n",
              "    <path d=\"M0 0h24v24H0V0z\" fill=\"none\"/>\n",
              "    <path d=\"M18.56 5.44l.94 2.06.94-2.06 2.06-.94-2.06-.94-.94-2.06-.94 2.06-2.06.94zm-11 1L8.5 8.5l.94-2.06 2.06-.94-2.06-.94L8.5 2.5l-.94 2.06-2.06.94zm10 10l.94 2.06.94-2.06 2.06-.94-2.06-.94-.94-2.06-.94 2.06-2.06.94z\"/><path d=\"M17.41 7.96l-1.37-1.37c-.4-.4-.92-.59-1.43-.59-.52 0-1.04.2-1.43.59L10.3 9.45l-7.72 7.72c-.78.78-.78 2.05 0 2.83L4 21.41c.39.39.9.59 1.41.59.51 0 1.02-.2 1.41-.59l7.78-7.78 2.81-2.81c.8-.78.8-2.07 0-2.86zM5.41 20L4 18.59l7.72-7.72 1.47 1.35L5.41 20z\"/>\n",
              "  </svg>\n",
              "      </button>\n",
              "      \n",
              "  <style>\n",
              "    .colab-df-container {\n",
              "      display:flex;\n",
              "      flex-wrap:wrap;\n",
              "      gap: 12px;\n",
              "    }\n",
              "\n",
              "    .colab-df-convert {\n",
              "      background-color: #E8F0FE;\n",
              "      border: none;\n",
              "      border-radius: 50%;\n",
              "      cursor: pointer;\n",
              "      display: none;\n",
              "      fill: #1967D2;\n",
              "      height: 32px;\n",
              "      padding: 0 0 0 0;\n",
              "      width: 32px;\n",
              "    }\n",
              "\n",
              "    .colab-df-convert:hover {\n",
              "      background-color: #E2EBFA;\n",
              "      box-shadow: 0px 1px 2px rgba(60, 64, 67, 0.3), 0px 1px 3px 1px rgba(60, 64, 67, 0.15);\n",
              "      fill: #174EA6;\n",
              "    }\n",
              "\n",
              "    [theme=dark] .colab-df-convert {\n",
              "      background-color: #3B4455;\n",
              "      fill: #D2E3FC;\n",
              "    }\n",
              "\n",
              "    [theme=dark] .colab-df-convert:hover {\n",
              "      background-color: #434B5C;\n",
              "      box-shadow: 0px 1px 3px 1px rgba(0, 0, 0, 0.15);\n",
              "      filter: drop-shadow(0px 1px 2px rgba(0, 0, 0, 0.3));\n",
              "      fill: #FFFFFF;\n",
              "    }\n",
              "  </style>\n",
              "\n",
              "      <script>\n",
              "        const buttonEl =\n",
              "          document.querySelector('#df-8b83ef45-2260-4577-877b-03781dfb1205 button.colab-df-convert');\n",
              "        buttonEl.style.display =\n",
              "          google.colab.kernel.accessAllowed ? 'block' : 'none';\n",
              "\n",
              "        async function convertToInteractive(key) {\n",
              "          const element = document.querySelector('#df-8b83ef45-2260-4577-877b-03781dfb1205');\n",
              "          const dataTable =\n",
              "            await google.colab.kernel.invokeFunction('convertToInteractive',\n",
              "                                                     [key], {});\n",
              "          if (!dataTable) return;\n",
              "\n",
              "          const docLinkHtml = 'Like what you see? Visit the ' +\n",
              "            '<a target=\"_blank\" href=https://colab.research.google.com/notebooks/data_table.ipynb>data table notebook</a>'\n",
              "            + ' to learn more about interactive tables.';\n",
              "          element.innerHTML = '';\n",
              "          dataTable['output_type'] = 'display_data';\n",
              "          await google.colab.output.renderOutput(dataTable, element);\n",
              "          const docLink = document.createElement('div');\n",
              "          docLink.innerHTML = docLinkHtml;\n",
              "          element.appendChild(docLink);\n",
              "        }\n",
              "      </script>\n",
              "    </div>\n",
              "  </div>\n",
              "  "
            ]
          },
          "metadata": {},
          "execution_count": 19
        }
      ]
    },
    {
      "cell_type": "markdown",
      "source": [
        "# EDA"
      ],
      "metadata": {
        "id": "Jno9Xwr7gTCi"
      }
    },
    {
      "cell_type": "code",
      "source": [
        "train.info()"
      ],
      "metadata": {
        "colab": {
          "base_uri": "https://localhost:8080/"
        },
        "id": "dyC7KTVlYM88",
        "outputId": "30ddc8a5-8029-4c55-a4fe-8343fdf22255"
      },
      "execution_count": null,
      "outputs": [
        {
          "output_type": "stream",
          "name": "stdout",
          "text": [
            "<class 'pandas.core.frame.DataFrame'>\n",
            "RangeIndex: 11668 entries, 0 to 11667\n",
            "Data columns (total 7 columns):\n",
            " #   Column               Non-Null Count  Dtype  \n",
            "---  ------               --------------  -----  \n",
            " 0   guid                 11668 non-null  object \n",
            " 1   source               11668 non-null  object \n",
            " 2   sentence1            11668 non-null  object \n",
            " 3   sentence2            11668 non-null  object \n",
            " 4   labels.label         11668 non-null  float64\n",
            " 5   labels.real-label    11668 non-null  float64\n",
            " 6   labels.binary-label  11668 non-null  int64  \n",
            "dtypes: float64(2), int64(1), object(4)\n",
            "memory usage: 638.2+ KB\n"
          ]
        }
      ]
    },
    {
      "cell_type": "code",
      "source": [
        "dev.info()"
      ],
      "metadata": {
        "colab": {
          "base_uri": "https://localhost:8080/"
        },
        "id": "uGrAQVYxAuzq",
        "outputId": "bcae8e8d-95f6-4cb1-e066-48a34719f2c0"
      },
      "execution_count": null,
      "outputs": [
        {
          "output_type": "stream",
          "name": "stdout",
          "text": [
            "<class 'pandas.core.frame.DataFrame'>\n",
            "RangeIndex: 519 entries, 0 to 518\n",
            "Data columns (total 7 columns):\n",
            " #   Column               Non-Null Count  Dtype  \n",
            "---  ------               --------------  -----  \n",
            " 0   guid                 519 non-null    object \n",
            " 1   source               519 non-null    object \n",
            " 2   sentence1            519 non-null    object \n",
            " 3   sentence2            519 non-null    object \n",
            " 4   labels.label         519 non-null    float64\n",
            " 5   labels.real-label    519 non-null    float64\n",
            " 6   labels.binary-label  519 non-null    int64  \n",
            "dtypes: float64(2), int64(1), object(4)\n",
            "memory usage: 28.5+ KB\n"
          ]
        }
      ]
    },
    {
      "cell_type": "code",
      "source": [
        "# 결측값 확인\n",
        "print(f\"{train.isnull().sum()}\\n\")\n",
        "print(dev.isnull().sum())"
      ],
      "metadata": {
        "id": "cy_RvrgdDyFC",
        "colab": {
          "base_uri": "https://localhost:8080/"
        },
        "outputId": "b5572285-dd0d-4915-cfbd-debc81c52926"
      },
      "execution_count": null,
      "outputs": [
        {
          "output_type": "stream",
          "name": "stdout",
          "text": [
            "guid                   0\n",
            "source                 0\n",
            "sentence1              0\n",
            "sentence2              0\n",
            "labels.label           0\n",
            "labels.real-label      0\n",
            "labels.binary-label    0\n",
            "dtype: int64\n",
            "\n",
            "guid                   0\n",
            "source                 0\n",
            "sentence1              0\n",
            "sentence2              0\n",
            "labels.label           0\n",
            "labels.real-label      0\n",
            "labels.binary-label    0\n",
            "dtype: int64\n"
          ]
        }
      ]
    },
    {
      "cell_type": "code",
      "source": [
        "# 중복값 확인\n",
        "train.duplicated(subset=['source','sentence1','sentence2','labels.label','labels.real-label','labels.binary-label']).sum()"
      ],
      "metadata": {
        "colab": {
          "base_uri": "https://localhost:8080/"
        },
        "id": "TzjgMYhgfmen",
        "outputId": "e9158ae7-cfc4-476b-a9e4-a8d980085a5c"
      },
      "execution_count": null,
      "outputs": [
        {
          "output_type": "execute_result",
          "data": {
            "text/plain": [
              "5"
            ]
          },
          "metadata": {},
          "execution_count": 23
        }
      ]
    },
    {
      "cell_type": "code",
      "source": [
        "# 중복값 확인\n",
        "dev.duplicated(subset=['source','sentence1','sentence2','labels.label','labels.real-label','labels.binary-label']).sum()"
      ],
      "metadata": {
        "colab": {
          "base_uri": "https://localhost:8080/"
        },
        "id": "u_fJgCBLuAc7",
        "outputId": "73aa9f7f-a700-4d25-c906-71366ef4118b"
      },
      "execution_count": null,
      "outputs": [
        {
          "output_type": "execute_result",
          "data": {
            "text/plain": [
              "0"
            ]
          },
          "metadata": {},
          "execution_count": 24
        }
      ]
    },
    {
      "cell_type": "code",
      "source": [
        "# 중복값 제거\n",
        "train.drop_duplicates(subset=['source','sentence1','sentence2','labels.label','labels.real-label','labels.binary-label'], inplace=True)"
      ],
      "metadata": {
        "id": "EeLlTb6Nfp2z"
      },
      "execution_count": null,
      "outputs": []
    },
    {
      "cell_type": "code",
      "source": [
        "# shape 확인\n",
        "train.shape"
      ],
      "metadata": {
        "colab": {
          "base_uri": "https://localhost:8080/"
        },
        "id": "WIFQAdgHfvRD",
        "outputId": "7635b3e6-f923-4a45-f7a8-7b8592498f75"
      },
      "execution_count": null,
      "outputs": [
        {
          "output_type": "execute_result",
          "data": {
            "text/plain": [
              "(11663, 7)"
            ]
          },
          "metadata": {},
          "execution_count": 26
        }
      ]
    },
    {
      "cell_type": "code",
      "source": [
        "# 컬럼명 변경\n",
        "train.columns = ['guid', 'src', 'sent1', 'sent2', 'f_label', 'real_f_label', 'b_label']\n",
        "dev.columns = ['guid', 'src', 'sent1', 'sent2', 'f_label', 'real_f_label', 'b_label']"
      ],
      "metadata": {
        "id": "VoLy45QiLmh3"
      },
      "execution_count": null,
      "outputs": []
    },
    {
      "cell_type": "code",
      "source": [
        "train.head()"
      ],
      "metadata": {
        "colab": {
          "base_uri": "https://localhost:8080/",
          "height": 632
        },
        "id": "MYemDZIgJTQc",
        "outputId": "a485ae67-f80d-4da7-92b9-dfa08ed15c01"
      },
      "execution_count": null,
      "outputs": [
        {
          "output_type": "execute_result",
          "data": {
            "text/plain": [
              "                      guid              src  \\\n",
              "0  klue-sts-v1_train_00000       airbnb-rtt   \n",
              "1  klue-sts-v1_train_00001   policy-sampled   \n",
              "2  klue-sts-v1_train_00002  paraKQC-sampled   \n",
              "3  klue-sts-v1_train_00003   policy-sampled   \n",
              "4  klue-sts-v1_train_00004       airbnb-rtt   \n",
              "\n",
              "                                               sent1  \\\n",
              "0                   숙소 위치는 찾기 쉽고 일반적인 한국의 반지하 숙소입니다.   \n",
              "1      위반행위 조사 등을 거부·방해·기피한 자는 500만원 이하 과태료 부과 대상이다.   \n",
              "2            회사가 보낸 메일은 이 지메일이 아니라 다른 지메일 계정으로 전달해줘.   \n",
              "3  긴급 고용안정지원금은 지역고용대응 등 특별지원금, 지자체별 소상공인 지원사업, 취업...   \n",
              "4                        호스트의 답장이 늦으나, 개선될 것으로 보입니다.   \n",
              "\n",
              "                                        sent2  f_label  real_f_label  b_label  \n",
              "0  숙박시설의 위치는 쉽게 찾을 수 있고 한국의 대표적인 반지하 숙박시설입니다.      3.7      3.714286        1  \n",
              "1       시민들 스스로 자발적인 예방 노력을 한 것은 아산 뿐만이 아니었다.      0.0      0.000000        0  \n",
              "2                  사람들이 주로 네이버 메일을 쓰는 이유를 알려줘      0.3      0.333333        0  \n",
              "3   고용보험이 1차 고용안전망이라면, 국민취업지원제도는 2차 고용안전망입니다.      0.6      0.571429        0  \n",
              "4                  호스트 응답이 늦었지만 개선될 것으로 보입니다.      4.7      4.714286        1  "
            ],
            "text/html": [
              "\n",
              "  <div id=\"df-66d0f8f8-5d18-42c6-af8b-ef53b66316da\">\n",
              "    <div class=\"colab-df-container\">\n",
              "      <div>\n",
              "<style scoped>\n",
              "    .dataframe tbody tr th:only-of-type {\n",
              "        vertical-align: middle;\n",
              "    }\n",
              "\n",
              "    .dataframe tbody tr th {\n",
              "        vertical-align: top;\n",
              "    }\n",
              "\n",
              "    .dataframe thead th {\n",
              "        text-align: right;\n",
              "    }\n",
              "</style>\n",
              "<table border=\"1\" class=\"dataframe\">\n",
              "  <thead>\n",
              "    <tr style=\"text-align: right;\">\n",
              "      <th></th>\n",
              "      <th>guid</th>\n",
              "      <th>src</th>\n",
              "      <th>sent1</th>\n",
              "      <th>sent2</th>\n",
              "      <th>f_label</th>\n",
              "      <th>real_f_label</th>\n",
              "      <th>b_label</th>\n",
              "    </tr>\n",
              "  </thead>\n",
              "  <tbody>\n",
              "    <tr>\n",
              "      <th>0</th>\n",
              "      <td>klue-sts-v1_train_00000</td>\n",
              "      <td>airbnb-rtt</td>\n",
              "      <td>숙소 위치는 찾기 쉽고 일반적인 한국의 반지하 숙소입니다.</td>\n",
              "      <td>숙박시설의 위치는 쉽게 찾을 수 있고 한국의 대표적인 반지하 숙박시설입니다.</td>\n",
              "      <td>3.7</td>\n",
              "      <td>3.714286</td>\n",
              "      <td>1</td>\n",
              "    </tr>\n",
              "    <tr>\n",
              "      <th>1</th>\n",
              "      <td>klue-sts-v1_train_00001</td>\n",
              "      <td>policy-sampled</td>\n",
              "      <td>위반행위 조사 등을 거부·방해·기피한 자는 500만원 이하 과태료 부과 대상이다.</td>\n",
              "      <td>시민들 스스로 자발적인 예방 노력을 한 것은 아산 뿐만이 아니었다.</td>\n",
              "      <td>0.0</td>\n",
              "      <td>0.000000</td>\n",
              "      <td>0</td>\n",
              "    </tr>\n",
              "    <tr>\n",
              "      <th>2</th>\n",
              "      <td>klue-sts-v1_train_00002</td>\n",
              "      <td>paraKQC-sampled</td>\n",
              "      <td>회사가 보낸 메일은 이 지메일이 아니라 다른 지메일 계정으로 전달해줘.</td>\n",
              "      <td>사람들이 주로 네이버 메일을 쓰는 이유를 알려줘</td>\n",
              "      <td>0.3</td>\n",
              "      <td>0.333333</td>\n",
              "      <td>0</td>\n",
              "    </tr>\n",
              "    <tr>\n",
              "      <th>3</th>\n",
              "      <td>klue-sts-v1_train_00003</td>\n",
              "      <td>policy-sampled</td>\n",
              "      <td>긴급 고용안정지원금은 지역고용대응 등 특별지원금, 지자체별 소상공인 지원사업, 취업...</td>\n",
              "      <td>고용보험이 1차 고용안전망이라면, 국민취업지원제도는 2차 고용안전망입니다.</td>\n",
              "      <td>0.6</td>\n",
              "      <td>0.571429</td>\n",
              "      <td>0</td>\n",
              "    </tr>\n",
              "    <tr>\n",
              "      <th>4</th>\n",
              "      <td>klue-sts-v1_train_00004</td>\n",
              "      <td>airbnb-rtt</td>\n",
              "      <td>호스트의 답장이 늦으나, 개선될 것으로 보입니다.</td>\n",
              "      <td>호스트 응답이 늦었지만 개선될 것으로 보입니다.</td>\n",
              "      <td>4.7</td>\n",
              "      <td>4.714286</td>\n",
              "      <td>1</td>\n",
              "    </tr>\n",
              "  </tbody>\n",
              "</table>\n",
              "</div>\n",
              "      <button class=\"colab-df-convert\" onclick=\"convertToInteractive('df-66d0f8f8-5d18-42c6-af8b-ef53b66316da')\"\n",
              "              title=\"Convert this dataframe to an interactive table.\"\n",
              "              style=\"display:none;\">\n",
              "        \n",
              "  <svg xmlns=\"http://www.w3.org/2000/svg\" height=\"24px\"viewBox=\"0 0 24 24\"\n",
              "       width=\"24px\">\n",
              "    <path d=\"M0 0h24v24H0V0z\" fill=\"none\"/>\n",
              "    <path d=\"M18.56 5.44l.94 2.06.94-2.06 2.06-.94-2.06-.94-.94-2.06-.94 2.06-2.06.94zm-11 1L8.5 8.5l.94-2.06 2.06-.94-2.06-.94L8.5 2.5l-.94 2.06-2.06.94zm10 10l.94 2.06.94-2.06 2.06-.94-2.06-.94-.94-2.06-.94 2.06-2.06.94z\"/><path d=\"M17.41 7.96l-1.37-1.37c-.4-.4-.92-.59-1.43-.59-.52 0-1.04.2-1.43.59L10.3 9.45l-7.72 7.72c-.78.78-.78 2.05 0 2.83L4 21.41c.39.39.9.59 1.41.59.51 0 1.02-.2 1.41-.59l7.78-7.78 2.81-2.81c.8-.78.8-2.07 0-2.86zM5.41 20L4 18.59l7.72-7.72 1.47 1.35L5.41 20z\"/>\n",
              "  </svg>\n",
              "      </button>\n",
              "      \n",
              "  <style>\n",
              "    .colab-df-container {\n",
              "      display:flex;\n",
              "      flex-wrap:wrap;\n",
              "      gap: 12px;\n",
              "    }\n",
              "\n",
              "    .colab-df-convert {\n",
              "      background-color: #E8F0FE;\n",
              "      border: none;\n",
              "      border-radius: 50%;\n",
              "      cursor: pointer;\n",
              "      display: none;\n",
              "      fill: #1967D2;\n",
              "      height: 32px;\n",
              "      padding: 0 0 0 0;\n",
              "      width: 32px;\n",
              "    }\n",
              "\n",
              "    .colab-df-convert:hover {\n",
              "      background-color: #E2EBFA;\n",
              "      box-shadow: 0px 1px 2px rgba(60, 64, 67, 0.3), 0px 1px 3px 1px rgba(60, 64, 67, 0.15);\n",
              "      fill: #174EA6;\n",
              "    }\n",
              "\n",
              "    [theme=dark] .colab-df-convert {\n",
              "      background-color: #3B4455;\n",
              "      fill: #D2E3FC;\n",
              "    }\n",
              "\n",
              "    [theme=dark] .colab-df-convert:hover {\n",
              "      background-color: #434B5C;\n",
              "      box-shadow: 0px 1px 3px 1px rgba(0, 0, 0, 0.15);\n",
              "      filter: drop-shadow(0px 1px 2px rgba(0, 0, 0, 0.3));\n",
              "      fill: #FFFFFF;\n",
              "    }\n",
              "  </style>\n",
              "\n",
              "      <script>\n",
              "        const buttonEl =\n",
              "          document.querySelector('#df-66d0f8f8-5d18-42c6-af8b-ef53b66316da button.colab-df-convert');\n",
              "        buttonEl.style.display =\n",
              "          google.colab.kernel.accessAllowed ? 'block' : 'none';\n",
              "\n",
              "        async function convertToInteractive(key) {\n",
              "          const element = document.querySelector('#df-66d0f8f8-5d18-42c6-af8b-ef53b66316da');\n",
              "          const dataTable =\n",
              "            await google.colab.kernel.invokeFunction('convertToInteractive',\n",
              "                                                     [key], {});\n",
              "          if (!dataTable) return;\n",
              "\n",
              "          const docLinkHtml = 'Like what you see? Visit the ' +\n",
              "            '<a target=\"_blank\" href=https://colab.research.google.com/notebooks/data_table.ipynb>data table notebook</a>'\n",
              "            + ' to learn more about interactive tables.';\n",
              "          element.innerHTML = '';\n",
              "          dataTable['output_type'] = 'display_data';\n",
              "          await google.colab.output.renderOutput(dataTable, element);\n",
              "          const docLink = document.createElement('div');\n",
              "          docLink.innerHTML = docLinkHtml;\n",
              "          element.appendChild(docLink);\n",
              "        }\n",
              "      </script>\n",
              "    </div>\n",
              "  </div>\n",
              "  "
            ]
          },
          "metadata": {},
          "execution_count": 28
        }
      ]
    },
    {
      "cell_type": "code",
      "source": [
        "# 문장당 토큰수에 대한 통계치 확인\n",
        "tokenizer = ElectraTokenizer.from_pretrained(args['model_name_or_path'], do_lower_case=False)"
      ],
      "metadata": {
        "id": "VK_MlFfQx_Il",
        "colab": {
          "base_uri": "https://localhost:8080/",
          "height": 113,
          "referenced_widgets": [
            "32ae5813e2d240a6aa92006e9c3b03f1",
            "53c06632cb314bda978949b04ce46e72",
            "6f97a141db4c4c6a9987df2b80536e3a",
            "09412eb793a448859e78da95ffb209d2",
            "1aa26ddca01d415db08f611f297450d5",
            "ba4cb13cdbd648e3b24e17916e0e6241",
            "0a1c949229d848b280a4b1b4383270cc",
            "762202d4aef44dab9800e5d95fc72533",
            "a2f3bde53a8a48d2ba7c933be85be12d",
            "ec94f4cb101b498e8dc7d5ce50c3d465",
            "d1285b41ad8b4b4682f6c78e39394837",
            "b713bc4923e542a486789397ccb0353d",
            "4e2938f3cd99431ca6e52f81cfb25024",
            "6066295039d84c3697efe80c228af6fb",
            "51895ca89bff4e51a7f27e80d5875ea8",
            "5564287c6f6248c9b2779ecd3f229ac4",
            "9e4a231ed5164329a75ee4dda7013a67",
            "6e30b824b6a2482da9e87fc78b449d73",
            "23984b45a797430aa60d5aa8eb49a0c9",
            "cf39f67479b944f5adc730dc4fc048d4",
            "cda2f6607be643cc9eec67a5ac14a1c7",
            "616c451945844fc893230e72d9406377",
            "539bbb022db34f06b22151071f678b1f",
            "4991777804544cd2b553a0bc0c6dc683",
            "01b415b8097c46ea919eb420223160d4",
            "5c6e3d76088f4f0c9cab2a019a646138",
            "33744c0b92ff4779a759674a6580aa29",
            "a4b8c1ff1858420cbd4387cf788ec26b",
            "13cb5945eb2646329af10bae3bd05799",
            "a94ddb5bc7024fdf9721d6c8e92677de",
            "dbad2f7ce1374862b857f716072eb176",
            "936c8cdf238b437aa090ae0f7ccd6c13",
            "ea9eeaabb470489883166e73b5cce432"
          ]
        },
        "outputId": "974bf513-3b10-420e-f135-6047f1424ec6"
      },
      "execution_count": null,
      "outputs": [
        {
          "output_type": "display_data",
          "data": {
            "text/plain": [
              "Downloading:   0%|          | 0.00/257k [00:00<?, ?B/s]"
            ],
            "application/vnd.jupyter.widget-view+json": {
              "version_major": 2,
              "version_minor": 0,
              "model_id": "32ae5813e2d240a6aa92006e9c3b03f1"
            }
          },
          "metadata": {}
        },
        {
          "output_type": "display_data",
          "data": {
            "text/plain": [
              "Downloading:   0%|          | 0.00/61.0 [00:00<?, ?B/s]"
            ],
            "application/vnd.jupyter.widget-view+json": {
              "version_major": 2,
              "version_minor": 0,
              "model_id": "b713bc4923e542a486789397ccb0353d"
            }
          },
          "metadata": {}
        },
        {
          "output_type": "display_data",
          "data": {
            "text/plain": [
              "Downloading:   0%|          | 0.00/467 [00:00<?, ?B/s]"
            ],
            "application/vnd.jupyter.widget-view+json": {
              "version_major": 2,
              "version_minor": 0,
              "model_id": "539bbb022db34f06b22151071f678b1f"
            }
          },
          "metadata": {}
        }
      ]
    },
    {
      "cell_type": "code",
      "source": [
        "def describe_sentence_statistic(dataset, tokenizer):\n",
        "    len_sent1 = []\n",
        "    len_sent2 = []\n",
        "\n",
        "    for sent1, sent2 in tqdm(zip(dataset['sent1'], dataset['sent2']), total=len(dataset)):\n",
        "        len_sent1.append(len(tokenizer.encode(sent1)))\n",
        "        len_sent2.append(len(tokenizer.encode(sent2)))\n",
        "\n",
        "    describe = pd.DataFrame(data={'sent 1':len_sent1, 'sent 2':len_sent2})\\\n",
        "                 .describe(percentiles=[.05, .10, .25, .5, .75, .90, .95, .99, .999, .9999,.99999])\n",
        "    \n",
        "    return describe"
      ],
      "metadata": {
        "id": "5yR2DBRvFR5t"
      },
      "execution_count": null,
      "outputs": []
    },
    {
      "cell_type": "code",
      "source": [
        "train_describe = describe_sentence_statistic(train, tokenizer)\n",
        "dev_describe = describe_sentence_statistic(dev, tokenizer)"
      ],
      "metadata": {
        "colab": {
          "base_uri": "https://localhost:8080/"
        },
        "id": "DUfqneg-GPAR",
        "outputId": "a09d6542-febf-4ee9-a74e-6d53ac650993"
      },
      "execution_count": null,
      "outputs": [
        {
          "output_type": "stream",
          "name": "stderr",
          "text": [
            "100%|██████████| 11663/11663 [00:06<00:00, 1943.53it/s]\n",
            "100%|██████████| 519/519 [00:00<00:00, 1988.99it/s]\n"
          ]
        }
      ]
    },
    {
      "cell_type": "code",
      "source": [
        "train_describe"
      ],
      "metadata": {
        "colab": {
          "base_uri": "https://localhost:8080/",
          "height": 551
        },
        "id": "Es1s6BAXGZNs",
        "outputId": "49019207-6d63-455b-82cd-62ab61eead63"
      },
      "execution_count": null,
      "outputs": [
        {
          "output_type": "execute_result",
          "data": {
            "text/plain": [
              "               sent 1        sent 2\n",
              "count    11663.000000  11663.000000\n",
              "mean        20.294778     19.803824\n",
              "std          8.913938      8.392465\n",
              "min          5.000000      5.000000\n",
              "5%          11.000000     11.000000\n",
              "10%         13.000000     12.000000\n",
              "25%         15.000000     14.000000\n",
              "50%         18.000000     17.000000\n",
              "75%         23.000000     22.000000\n",
              "90%         33.000000     32.000000\n",
              "95%         41.000000     38.000000\n",
              "99%         51.000000     49.000000\n",
              "99.9%       59.000000     58.000000\n",
              "99.99%      69.169000     66.833800\n",
              "99.999%     78.833800     67.883380\n",
              "max         80.000000     68.000000"
            ],
            "text/html": [
              "\n",
              "  <div id=\"df-f90d5fc3-51e7-4062-b273-04432b8c49bf\">\n",
              "    <div class=\"colab-df-container\">\n",
              "      <div>\n",
              "<style scoped>\n",
              "    .dataframe tbody tr th:only-of-type {\n",
              "        vertical-align: middle;\n",
              "    }\n",
              "\n",
              "    .dataframe tbody tr th {\n",
              "        vertical-align: top;\n",
              "    }\n",
              "\n",
              "    .dataframe thead th {\n",
              "        text-align: right;\n",
              "    }\n",
              "</style>\n",
              "<table border=\"1\" class=\"dataframe\">\n",
              "  <thead>\n",
              "    <tr style=\"text-align: right;\">\n",
              "      <th></th>\n",
              "      <th>sent 1</th>\n",
              "      <th>sent 2</th>\n",
              "    </tr>\n",
              "  </thead>\n",
              "  <tbody>\n",
              "    <tr>\n",
              "      <th>count</th>\n",
              "      <td>11663.000000</td>\n",
              "      <td>11663.000000</td>\n",
              "    </tr>\n",
              "    <tr>\n",
              "      <th>mean</th>\n",
              "      <td>20.294778</td>\n",
              "      <td>19.803824</td>\n",
              "    </tr>\n",
              "    <tr>\n",
              "      <th>std</th>\n",
              "      <td>8.913938</td>\n",
              "      <td>8.392465</td>\n",
              "    </tr>\n",
              "    <tr>\n",
              "      <th>min</th>\n",
              "      <td>5.000000</td>\n",
              "      <td>5.000000</td>\n",
              "    </tr>\n",
              "    <tr>\n",
              "      <th>5%</th>\n",
              "      <td>11.000000</td>\n",
              "      <td>11.000000</td>\n",
              "    </tr>\n",
              "    <tr>\n",
              "      <th>10%</th>\n",
              "      <td>13.000000</td>\n",
              "      <td>12.000000</td>\n",
              "    </tr>\n",
              "    <tr>\n",
              "      <th>25%</th>\n",
              "      <td>15.000000</td>\n",
              "      <td>14.000000</td>\n",
              "    </tr>\n",
              "    <tr>\n",
              "      <th>50%</th>\n",
              "      <td>18.000000</td>\n",
              "      <td>17.000000</td>\n",
              "    </tr>\n",
              "    <tr>\n",
              "      <th>75%</th>\n",
              "      <td>23.000000</td>\n",
              "      <td>22.000000</td>\n",
              "    </tr>\n",
              "    <tr>\n",
              "      <th>90%</th>\n",
              "      <td>33.000000</td>\n",
              "      <td>32.000000</td>\n",
              "    </tr>\n",
              "    <tr>\n",
              "      <th>95%</th>\n",
              "      <td>41.000000</td>\n",
              "      <td>38.000000</td>\n",
              "    </tr>\n",
              "    <tr>\n",
              "      <th>99%</th>\n",
              "      <td>51.000000</td>\n",
              "      <td>49.000000</td>\n",
              "    </tr>\n",
              "    <tr>\n",
              "      <th>99.9%</th>\n",
              "      <td>59.000000</td>\n",
              "      <td>58.000000</td>\n",
              "    </tr>\n",
              "    <tr>\n",
              "      <th>99.99%</th>\n",
              "      <td>69.169000</td>\n",
              "      <td>66.833800</td>\n",
              "    </tr>\n",
              "    <tr>\n",
              "      <th>99.999%</th>\n",
              "      <td>78.833800</td>\n",
              "      <td>67.883380</td>\n",
              "    </tr>\n",
              "    <tr>\n",
              "      <th>max</th>\n",
              "      <td>80.000000</td>\n",
              "      <td>68.000000</td>\n",
              "    </tr>\n",
              "  </tbody>\n",
              "</table>\n",
              "</div>\n",
              "      <button class=\"colab-df-convert\" onclick=\"convertToInteractive('df-f90d5fc3-51e7-4062-b273-04432b8c49bf')\"\n",
              "              title=\"Convert this dataframe to an interactive table.\"\n",
              "              style=\"display:none;\">\n",
              "        \n",
              "  <svg xmlns=\"http://www.w3.org/2000/svg\" height=\"24px\"viewBox=\"0 0 24 24\"\n",
              "       width=\"24px\">\n",
              "    <path d=\"M0 0h24v24H0V0z\" fill=\"none\"/>\n",
              "    <path d=\"M18.56 5.44l.94 2.06.94-2.06 2.06-.94-2.06-.94-.94-2.06-.94 2.06-2.06.94zm-11 1L8.5 8.5l.94-2.06 2.06-.94-2.06-.94L8.5 2.5l-.94 2.06-2.06.94zm10 10l.94 2.06.94-2.06 2.06-.94-2.06-.94-.94-2.06-.94 2.06-2.06.94z\"/><path d=\"M17.41 7.96l-1.37-1.37c-.4-.4-.92-.59-1.43-.59-.52 0-1.04.2-1.43.59L10.3 9.45l-7.72 7.72c-.78.78-.78 2.05 0 2.83L4 21.41c.39.39.9.59 1.41.59.51 0 1.02-.2 1.41-.59l7.78-7.78 2.81-2.81c.8-.78.8-2.07 0-2.86zM5.41 20L4 18.59l7.72-7.72 1.47 1.35L5.41 20z\"/>\n",
              "  </svg>\n",
              "      </button>\n",
              "      \n",
              "  <style>\n",
              "    .colab-df-container {\n",
              "      display:flex;\n",
              "      flex-wrap:wrap;\n",
              "      gap: 12px;\n",
              "    }\n",
              "\n",
              "    .colab-df-convert {\n",
              "      background-color: #E8F0FE;\n",
              "      border: none;\n",
              "      border-radius: 50%;\n",
              "      cursor: pointer;\n",
              "      display: none;\n",
              "      fill: #1967D2;\n",
              "      height: 32px;\n",
              "      padding: 0 0 0 0;\n",
              "      width: 32px;\n",
              "    }\n",
              "\n",
              "    .colab-df-convert:hover {\n",
              "      background-color: #E2EBFA;\n",
              "      box-shadow: 0px 1px 2px rgba(60, 64, 67, 0.3), 0px 1px 3px 1px rgba(60, 64, 67, 0.15);\n",
              "      fill: #174EA6;\n",
              "    }\n",
              "\n",
              "    [theme=dark] .colab-df-convert {\n",
              "      background-color: #3B4455;\n",
              "      fill: #D2E3FC;\n",
              "    }\n",
              "\n",
              "    [theme=dark] .colab-df-convert:hover {\n",
              "      background-color: #434B5C;\n",
              "      box-shadow: 0px 1px 3px 1px rgba(0, 0, 0, 0.15);\n",
              "      filter: drop-shadow(0px 1px 2px rgba(0, 0, 0, 0.3));\n",
              "      fill: #FFFFFF;\n",
              "    }\n",
              "  </style>\n",
              "\n",
              "      <script>\n",
              "        const buttonEl =\n",
              "          document.querySelector('#df-f90d5fc3-51e7-4062-b273-04432b8c49bf button.colab-df-convert');\n",
              "        buttonEl.style.display =\n",
              "          google.colab.kernel.accessAllowed ? 'block' : 'none';\n",
              "\n",
              "        async function convertToInteractive(key) {\n",
              "          const element = document.querySelector('#df-f90d5fc3-51e7-4062-b273-04432b8c49bf');\n",
              "          const dataTable =\n",
              "            await google.colab.kernel.invokeFunction('convertToInteractive',\n",
              "                                                     [key], {});\n",
              "          if (!dataTable) return;\n",
              "\n",
              "          const docLinkHtml = 'Like what you see? Visit the ' +\n",
              "            '<a target=\"_blank\" href=https://colab.research.google.com/notebooks/data_table.ipynb>data table notebook</a>'\n",
              "            + ' to learn more about interactive tables.';\n",
              "          element.innerHTML = '';\n",
              "          dataTable['output_type'] = 'display_data';\n",
              "          await google.colab.output.renderOutput(dataTable, element);\n",
              "          const docLink = document.createElement('div');\n",
              "          docLink.innerHTML = docLinkHtml;\n",
              "          element.appendChild(docLink);\n",
              "        }\n",
              "      </script>\n",
              "    </div>\n",
              "  </div>\n",
              "  "
            ]
          },
          "metadata": {},
          "execution_count": 32
        }
      ]
    },
    {
      "cell_type": "code",
      "source": [
        "dev_describe"
      ],
      "metadata": {
        "colab": {
          "base_uri": "https://localhost:8080/",
          "height": 551
        },
        "id": "VySrinfnGfkW",
        "outputId": "3bfa563a-ed8e-4df8-a596-01b4beeebbe4"
      },
      "execution_count": null,
      "outputs": [
        {
          "output_type": "execute_result",
          "data": {
            "text/plain": [
              "             sent 1      sent 2\n",
              "count    519.000000  519.000000\n",
              "mean      19.753372   19.672447\n",
              "std        8.453419    8.305498\n",
              "min        6.000000    7.000000\n",
              "5%        11.900000   11.000000\n",
              "10%       12.800000   13.000000\n",
              "25%       15.000000   15.000000\n",
              "50%       17.000000   17.000000\n",
              "75%       22.000000   22.000000\n",
              "90%       31.000000   31.000000\n",
              "95%       37.100000   38.000000\n",
              "99%       49.000000   48.640000\n",
              "99.9%     59.964000   58.892000\n",
              "99.99%    60.896400   61.689200\n",
              "99.999%   60.989640   61.968920\n",
              "max       61.000000   62.000000"
            ],
            "text/html": [
              "\n",
              "  <div id=\"df-c39242cb-192d-4db4-8cbe-0f643ac19200\">\n",
              "    <div class=\"colab-df-container\">\n",
              "      <div>\n",
              "<style scoped>\n",
              "    .dataframe tbody tr th:only-of-type {\n",
              "        vertical-align: middle;\n",
              "    }\n",
              "\n",
              "    .dataframe tbody tr th {\n",
              "        vertical-align: top;\n",
              "    }\n",
              "\n",
              "    .dataframe thead th {\n",
              "        text-align: right;\n",
              "    }\n",
              "</style>\n",
              "<table border=\"1\" class=\"dataframe\">\n",
              "  <thead>\n",
              "    <tr style=\"text-align: right;\">\n",
              "      <th></th>\n",
              "      <th>sent 1</th>\n",
              "      <th>sent 2</th>\n",
              "    </tr>\n",
              "  </thead>\n",
              "  <tbody>\n",
              "    <tr>\n",
              "      <th>count</th>\n",
              "      <td>519.000000</td>\n",
              "      <td>519.000000</td>\n",
              "    </tr>\n",
              "    <tr>\n",
              "      <th>mean</th>\n",
              "      <td>19.753372</td>\n",
              "      <td>19.672447</td>\n",
              "    </tr>\n",
              "    <tr>\n",
              "      <th>std</th>\n",
              "      <td>8.453419</td>\n",
              "      <td>8.305498</td>\n",
              "    </tr>\n",
              "    <tr>\n",
              "      <th>min</th>\n",
              "      <td>6.000000</td>\n",
              "      <td>7.000000</td>\n",
              "    </tr>\n",
              "    <tr>\n",
              "      <th>5%</th>\n",
              "      <td>11.900000</td>\n",
              "      <td>11.000000</td>\n",
              "    </tr>\n",
              "    <tr>\n",
              "      <th>10%</th>\n",
              "      <td>12.800000</td>\n",
              "      <td>13.000000</td>\n",
              "    </tr>\n",
              "    <tr>\n",
              "      <th>25%</th>\n",
              "      <td>15.000000</td>\n",
              "      <td>15.000000</td>\n",
              "    </tr>\n",
              "    <tr>\n",
              "      <th>50%</th>\n",
              "      <td>17.000000</td>\n",
              "      <td>17.000000</td>\n",
              "    </tr>\n",
              "    <tr>\n",
              "      <th>75%</th>\n",
              "      <td>22.000000</td>\n",
              "      <td>22.000000</td>\n",
              "    </tr>\n",
              "    <tr>\n",
              "      <th>90%</th>\n",
              "      <td>31.000000</td>\n",
              "      <td>31.000000</td>\n",
              "    </tr>\n",
              "    <tr>\n",
              "      <th>95%</th>\n",
              "      <td>37.100000</td>\n",
              "      <td>38.000000</td>\n",
              "    </tr>\n",
              "    <tr>\n",
              "      <th>99%</th>\n",
              "      <td>49.000000</td>\n",
              "      <td>48.640000</td>\n",
              "    </tr>\n",
              "    <tr>\n",
              "      <th>99.9%</th>\n",
              "      <td>59.964000</td>\n",
              "      <td>58.892000</td>\n",
              "    </tr>\n",
              "    <tr>\n",
              "      <th>99.99%</th>\n",
              "      <td>60.896400</td>\n",
              "      <td>61.689200</td>\n",
              "    </tr>\n",
              "    <tr>\n",
              "      <th>99.999%</th>\n",
              "      <td>60.989640</td>\n",
              "      <td>61.968920</td>\n",
              "    </tr>\n",
              "    <tr>\n",
              "      <th>max</th>\n",
              "      <td>61.000000</td>\n",
              "      <td>62.000000</td>\n",
              "    </tr>\n",
              "  </tbody>\n",
              "</table>\n",
              "</div>\n",
              "      <button class=\"colab-df-convert\" onclick=\"convertToInteractive('df-c39242cb-192d-4db4-8cbe-0f643ac19200')\"\n",
              "              title=\"Convert this dataframe to an interactive table.\"\n",
              "              style=\"display:none;\">\n",
              "        \n",
              "  <svg xmlns=\"http://www.w3.org/2000/svg\" height=\"24px\"viewBox=\"0 0 24 24\"\n",
              "       width=\"24px\">\n",
              "    <path d=\"M0 0h24v24H0V0z\" fill=\"none\"/>\n",
              "    <path d=\"M18.56 5.44l.94 2.06.94-2.06 2.06-.94-2.06-.94-.94-2.06-.94 2.06-2.06.94zm-11 1L8.5 8.5l.94-2.06 2.06-.94-2.06-.94L8.5 2.5l-.94 2.06-2.06.94zm10 10l.94 2.06.94-2.06 2.06-.94-2.06-.94-.94-2.06-.94 2.06-2.06.94z\"/><path d=\"M17.41 7.96l-1.37-1.37c-.4-.4-.92-.59-1.43-.59-.52 0-1.04.2-1.43.59L10.3 9.45l-7.72 7.72c-.78.78-.78 2.05 0 2.83L4 21.41c.39.39.9.59 1.41.59.51 0 1.02-.2 1.41-.59l7.78-7.78 2.81-2.81c.8-.78.8-2.07 0-2.86zM5.41 20L4 18.59l7.72-7.72 1.47 1.35L5.41 20z\"/>\n",
              "  </svg>\n",
              "      </button>\n",
              "      \n",
              "  <style>\n",
              "    .colab-df-container {\n",
              "      display:flex;\n",
              "      flex-wrap:wrap;\n",
              "      gap: 12px;\n",
              "    }\n",
              "\n",
              "    .colab-df-convert {\n",
              "      background-color: #E8F0FE;\n",
              "      border: none;\n",
              "      border-radius: 50%;\n",
              "      cursor: pointer;\n",
              "      display: none;\n",
              "      fill: #1967D2;\n",
              "      height: 32px;\n",
              "      padding: 0 0 0 0;\n",
              "      width: 32px;\n",
              "    }\n",
              "\n",
              "    .colab-df-convert:hover {\n",
              "      background-color: #E2EBFA;\n",
              "      box-shadow: 0px 1px 2px rgba(60, 64, 67, 0.3), 0px 1px 3px 1px rgba(60, 64, 67, 0.15);\n",
              "      fill: #174EA6;\n",
              "    }\n",
              "\n",
              "    [theme=dark] .colab-df-convert {\n",
              "      background-color: #3B4455;\n",
              "      fill: #D2E3FC;\n",
              "    }\n",
              "\n",
              "    [theme=dark] .colab-df-convert:hover {\n",
              "      background-color: #434B5C;\n",
              "      box-shadow: 0px 1px 3px 1px rgba(0, 0, 0, 0.15);\n",
              "      filter: drop-shadow(0px 1px 2px rgba(0, 0, 0, 0.3));\n",
              "      fill: #FFFFFF;\n",
              "    }\n",
              "  </style>\n",
              "\n",
              "      <script>\n",
              "        const buttonEl =\n",
              "          document.querySelector('#df-c39242cb-192d-4db4-8cbe-0f643ac19200 button.colab-df-convert');\n",
              "        buttonEl.style.display =\n",
              "          google.colab.kernel.accessAllowed ? 'block' : 'none';\n",
              "\n",
              "        async function convertToInteractive(key) {\n",
              "          const element = document.querySelector('#df-c39242cb-192d-4db4-8cbe-0f643ac19200');\n",
              "          const dataTable =\n",
              "            await google.colab.kernel.invokeFunction('convertToInteractive',\n",
              "                                                     [key], {});\n",
              "          if (!dataTable) return;\n",
              "\n",
              "          const docLinkHtml = 'Like what you see? Visit the ' +\n",
              "            '<a target=\"_blank\" href=https://colab.research.google.com/notebooks/data_table.ipynb>data table notebook</a>'\n",
              "            + ' to learn more about interactive tables.';\n",
              "          element.innerHTML = '';\n",
              "          dataTable['output_type'] = 'display_data';\n",
              "          await google.colab.output.renderOutput(dataTable, element);\n",
              "          const docLink = document.createElement('div');\n",
              "          docLink.innerHTML = docLinkHtml;\n",
              "          element.appendChild(docLink);\n",
              "        }\n",
              "      </script>\n",
              "    </div>\n",
              "  </div>\n",
              "  "
            ]
          },
          "metadata": {},
          "execution_count": 33
        }
      ]
    },
    {
      "cell_type": "code",
      "source": [
        "# train, val 분할\n",
        "train, val = train_test_split(train, test_size=0.1, random_state=args['seed'])"
      ],
      "metadata": {
        "id": "yf2MiN_iDQNc"
      },
      "execution_count": null,
      "outputs": []
    },
    {
      "cell_type": "code",
      "source": [
        "# train, val 데이터수 확인\n",
        "print(f\"훈련데이터 개수 : {len(train)}\")\n",
        "print(f\"검증데이터 개수 : {len(val)}\")"
      ],
      "metadata": {
        "colab": {
          "base_uri": "https://localhost:8080/"
        },
        "id": "vUA6DBSt4oR0",
        "outputId": "5aa599e3-647f-47c0-f4da-05515771109f"
      },
      "execution_count": null,
      "outputs": [
        {
          "output_type": "stream",
          "name": "stdout",
          "text": [
            "훈련데이터 개수 : 10496\n",
            "검증데이터 개수 : 1167\n"
          ]
        }
      ]
    },
    {
      "cell_type": "markdown",
      "source": [
        "# Make Inputs"
      ],
      "metadata": {
        "id": "Ww86Xl_pcmYJ"
      }
    },
    {
      "cell_type": "markdown",
      "source": [
        "## seed"
      ],
      "metadata": {
        "id": "wtKInolPreFI"
      }
    },
    {
      "cell_type": "code",
      "source": [
        "\"\"\"\n",
        "sent_paris : (문장1, 문장2) pair\n",
        "labels     : (float) label\n",
        "b_label    : (binary) label\n",
        "\"\"\"\n",
        "\n",
        "# train dataset\n",
        "t_sent_pairs, t_labels, t_b_labels = make_seed_dataset(train, 'sent1', 'sent2', 'real_f_label', 'b_label')\n",
        "\n",
        "# validation dataset\n",
        "v_sent_pairs, v_labels, v_b_labels = make_seed_dataset(val, 'sent1', 'sent2', 'real_f_label', 'b_label')\n",
        "\n",
        "# dev dataset\n",
        "d_sent_pairs, d_labels, d_b_labels = make_seed_dataset(dev, 'sent1', 'sent2', 'real_f_label', 'b_label')"
      ],
      "metadata": {
        "id": "f-chA2qSJYR9"
      },
      "execution_count": null,
      "outputs": []
    },
    {
      "cell_type": "code",
      "source": [
        "# 데이터 개수 확인\n",
        "print(\"\\t   train\\tvalid\\t\\tdev\\n\")\n",
        "print(f\"paris    : {len(t_sent_pairs)}\\t{len(v_sent_pairs)}\\t\\t{len(d_sent_pairs)}\")\n",
        "print(f\"labels   : {len(t_labels)}\\t{len(v_labels)}\\t\\t{len(d_labels)}\")\n",
        "print(f\"b_labels : {len(t_b_labels)}\\t{len(v_b_labels)}\\t\\t{len(d_b_labels)}\")"
      ],
      "metadata": {
        "id": "-YVV0ZVwJYP4",
        "colab": {
          "base_uri": "https://localhost:8080/"
        },
        "outputId": "5fe7f2cf-b01e-4710-d447-f1fb9a0b6423"
      },
      "execution_count": null,
      "outputs": [
        {
          "output_type": "stream",
          "name": "stdout",
          "text": [
            "\t   train\tvalid\t\tdev\n",
            "\n",
            "paris    : 10496\t1167\t\t519\n",
            "labels   : 10496\t1167\t\t519\n",
            "b_labels : 10496\t1167\t\t519\n"
          ]
        }
      ]
    },
    {
      "cell_type": "code",
      "source": [
        "# 샘플 확인\n",
        "print(f\"pairs    : {t_sent_pairs[2]}\")\n",
        "print(f\"labels   : {t_labels[2]}\")\n",
        "print(f\"b_labels : {t_b_labels[2]}\")"
      ],
      "metadata": {
        "colab": {
          "base_uri": "https://localhost:8080/"
        },
        "id": "dl_ylOPaRyFz",
        "outputId": "0b9b8d8a-1c8f-40f9-8f1b-7caef4544cb9"
      },
      "execution_count": null,
      "outputs": [
        {
          "output_type": "stream",
          "name": "stdout",
          "text": [
            "pairs    : ('이를 위해 3가지 협력 방향을 제안합니다.', '이를 위해, 우리는 세 가지 협력적인 방향을 제안합니다.')\n",
            "labels   : 4.166666666666667\n",
            "b_labels : 1\n"
          ]
        }
      ]
    },
    {
      "cell_type": "markdown",
      "source": [
        "## encoding"
      ],
      "metadata": {
        "id": "fQm_su15rVjN"
      }
    },
    {
      "cell_type": "code",
      "source": [
        "del tokenizer"
      ],
      "metadata": {
        "id": "_FTsFtf1zFwF"
      },
      "execution_count": null,
      "outputs": []
    },
    {
      "cell_type": "code",
      "source": [
        "tokenizer = ElectraTokenizer.from_pretrained(args['model_name_or_path'], do_lower_case=False)"
      ],
      "metadata": {
        "id": "OL0mMHMjwD6V"
      },
      "execution_count": null,
      "outputs": []
    },
    {
      "cell_type": "code",
      "source": [
        "# Do encode\n",
        "t_batch_encoding = batch_encode(tokenizer, t_sent_pairs)\n",
        "v_batch_encoding = batch_encode(tokenizer, v_sent_pairs) \n",
        "d_batch_encoding = batch_encode(tokenizer, d_sent_pairs)"
      ],
      "metadata": {
        "colab": {
          "base_uri": "https://localhost:8080/"
        },
        "id": "lo2fzddgzWAS",
        "outputId": "fa9b3be0-0184-4ef1-f7f8-50548bf650b1"
      },
      "execution_count": null,
      "outputs": [
        {
          "output_type": "stream",
          "name": "stderr",
          "text": [
            "100%|██████████| 10496/10496 [00:00<00:00, 1197427.30it/s]\n",
            "100%|██████████| 1167/1167 [00:00<00:00, 613916.06it/s]\n",
            "100%|██████████| 519/519 [00:00<00:00, 1186937.72it/s]\n"
          ]
        }
      ]
    },
    {
      "cell_type": "code",
      "source": [
        "print(f\"input_ids      : {t_batch_encoding['input_ids'][0]}\")\n",
        "print(f\"attention_mask : {t_batch_encoding['attention_mask'][0]}\")\n",
        "print(f\"token_type_ids : {t_batch_encoding['token_type_ids'][0]}\")"
      ],
      "metadata": {
        "colab": {
          "base_uri": "https://localhost:8080/"
        },
        "id": "3z9nWKCyLle_",
        "outputId": "2f4fb3ab-74e3-4d11-fabe-662f784f5d6d"
      },
      "execution_count": null,
      "outputs": [
        {
          "output_type": "stream",
          "name": "stdout",
          "text": [
            "input_ids      : [2, 8258, 6769, 4073, 4129, 6654, 4129, 7862, 6429, 3496, 4031, 4239, 8049, 26093, 35, 3, 8027, 4112, 23502, 4137, 3305, 6231, 4176, 18, 3, 0, 0, 0, 0, 0, 0, 0, 0, 0, 0, 0, 0, 0, 0, 0, 0, 0, 0, 0, 0, 0, 0, 0, 0, 0, 0, 0, 0, 0, 0, 0, 0, 0, 0, 0, 0, 0, 0, 0, 0, 0, 0, 0, 0, 0, 0, 0, 0, 0, 0, 0, 0, 0, 0, 0, 0, 0, 0, 0, 0, 0, 0, 0, 0, 0, 0, 0, 0, 0, 0, 0, 0, 0, 0, 0, 0, 0, 0, 0, 0, 0, 0, 0, 0, 0, 0, 0, 0, 0, 0, 0, 0, 0, 0, 0, 0, 0, 0, 0, 0, 0, 0, 0]\n",
            "attention_mask : [1, 1, 1, 1, 1, 1, 1, 1, 1, 1, 1, 1, 1, 1, 1, 1, 1, 1, 1, 1, 1, 1, 1, 1, 1, 0, 0, 0, 0, 0, 0, 0, 0, 0, 0, 0, 0, 0, 0, 0, 0, 0, 0, 0, 0, 0, 0, 0, 0, 0, 0, 0, 0, 0, 0, 0, 0, 0, 0, 0, 0, 0, 0, 0, 0, 0, 0, 0, 0, 0, 0, 0, 0, 0, 0, 0, 0, 0, 0, 0, 0, 0, 0, 0, 0, 0, 0, 0, 0, 0, 0, 0, 0, 0, 0, 0, 0, 0, 0, 0, 0, 0, 0, 0, 0, 0, 0, 0, 0, 0, 0, 0, 0, 0, 0, 0, 0, 0, 0, 0, 0, 0, 0, 0, 0, 0, 0, 0]\n",
            "token_type_ids : [0, 0, 0, 0, 0, 0, 0, 0, 0, 0, 0, 0, 0, 0, 0, 0, 1, 1, 1, 1, 1, 1, 1, 1, 1, 0, 0, 0, 0, 0, 0, 0, 0, 0, 0, 0, 0, 0, 0, 0, 0, 0, 0, 0, 0, 0, 0, 0, 0, 0, 0, 0, 0, 0, 0, 0, 0, 0, 0, 0, 0, 0, 0, 0, 0, 0, 0, 0, 0, 0, 0, 0, 0, 0, 0, 0, 0, 0, 0, 0, 0, 0, 0, 0, 0, 0, 0, 0, 0, 0, 0, 0, 0, 0, 0, 0, 0, 0, 0, 0, 0, 0, 0, 0, 0, 0, 0, 0, 0, 0, 0, 0, 0, 0, 0, 0, 0, 0, 0, 0, 0, 0, 0, 0, 0, 0, 0, 0]\n"
          ]
        }
      ]
    },
    {
      "cell_type": "code",
      "source": [
        "# Inputs 수 확인\n",
        "print(\"\\t\\t   train\\tvalid\\t\\tdev\\n\")\n",
        "print(f\"input_ids        : {len(t_batch_encoding['input_ids'])}\\t{len(v_batch_encoding['input_ids'])}\\t\\t{len(d_batch_encoding['input_ids'])}\")\n",
        "print(f\"attention_mask   : {len(t_batch_encoding['attention_mask'])}\\t{len(v_batch_encoding['attention_mask'])}\\t\\t{len(d_batch_encoding['attention_mask'])}\")\n",
        "print(f\"token_type_ids   : {len(t_batch_encoding['token_type_ids'])}\\t{len(v_batch_encoding['token_type_ids'])}\\t\\t{len(d_batch_encoding['token_type_ids'])}\")"
      ],
      "metadata": {
        "colab": {
          "base_uri": "https://localhost:8080/"
        },
        "id": "UgnQ3c5QudGv",
        "outputId": "4cafdb60-9300-4e3e-804e-8f295f2c7f41"
      },
      "execution_count": null,
      "outputs": [
        {
          "output_type": "stream",
          "name": "stdout",
          "text": [
            "\t\t   train\tvalid\t\tdev\n",
            "\n",
            "input_ids        : 10496\t1167\t\t519\n",
            "attention_mask   : 10496\t1167\t\t519\n",
            "token_type_ids   : 10496\t1167\t\t519\n"
          ]
        }
      ]
    },
    {
      "cell_type": "markdown",
      "source": [
        "## features"
      ],
      "metadata": {
        "id": "EhV7enwprX-k"
      }
    },
    {
      "cell_type": "code",
      "source": [
        "# Get features \n",
        "t_features = make_features(t_sent_pairs, t_batch_encoding, t_labels)\n",
        "v_features = make_features(v_sent_pairs, v_batch_encoding, v_labels)\n",
        "d_features = make_features(d_sent_pairs, d_batch_encoding, d_labels)"
      ],
      "metadata": {
        "colab": {
          "base_uri": "https://localhost:8080/"
        },
        "id": "de9q6U4h1bIp",
        "outputId": "be25e8e4-3e6c-4eca-ec76-04abb5e67659"
      },
      "execution_count": null,
      "outputs": [
        {
          "output_type": "stream",
          "name": "stderr",
          "text": [
            "100%|██████████| 10496/10496 [00:00<00:00, 276991.80it/s]\n",
            "100%|██████████| 1167/1167 [00:00<00:00, 221251.76it/s]\n",
            "100%|██████████| 519/519 [00:00<00:00, 257736.65it/s]\n"
          ]
        }
      ]
    },
    {
      "cell_type": "code",
      "source": [
        "# features keys 확인\n",
        "t_features[0].keys()"
      ],
      "metadata": {
        "colab": {
          "base_uri": "https://localhost:8080/"
        },
        "id": "2z1kZZ7j2Ao5",
        "outputId": "1004f653-015f-44f5-ece5-e1c287ba0f6b"
      },
      "execution_count": null,
      "outputs": [
        {
          "output_type": "execute_result",
          "data": {
            "text/plain": [
              "dict_keys(['input_ids', 'attention_mask', 'token_type_ids', 'label'])"
            ]
          },
          "metadata": {},
          "execution_count": 45
        }
      ]
    },
    {
      "cell_type": "markdown",
      "source": [
        "## inputs"
      ],
      "metadata": {
        "id": "lKhDB3vyFAlW"
      }
    },
    {
      "cell_type": "code",
      "source": [
        "# make inputs\n",
        "%%time\n",
        "t_dataset = make_inputs(t_features)\n",
        "v_dataset = make_inputs(v_features)\n",
        "d_dataset = make_inputs(d_features)"
      ],
      "metadata": {
        "colab": {
          "base_uri": "https://localhost:8080/"
        },
        "id": "Lo3MMIEqBhe_",
        "outputId": "a5b93699-b2b6-4abd-febc-aa3a76ad6691"
      },
      "execution_count": null,
      "outputs": [
        {
          "output_type": "stream",
          "name": "stdout",
          "text": [
            "CPU times: user 85.4 ms, sys: 12.2 ms, total: 97.6 ms\n",
            "Wall time: 122 ms\n"
          ]
        }
      ]
    },
    {
      "cell_type": "code",
      "source": [
        "# inputs 개수 확인\n",
        "len(t_dataset), len(v_dataset), len(d_dataset)"
      ],
      "metadata": {
        "colab": {
          "base_uri": "https://localhost:8080/"
        },
        "id": "BBuoRZBnfN27",
        "outputId": "d09d070d-dbbe-497d-9398-c9dd1bf5f30a"
      },
      "execution_count": null,
      "outputs": [
        {
          "output_type": "execute_result",
          "data": {
            "text/plain": [
              "(10496, 1167, 519)"
            ]
          },
          "metadata": {},
          "execution_count": 47
        }
      ]
    },
    {
      "cell_type": "code",
      "source": [
        "t_dataset[2]"
      ],
      "metadata": {
        "colab": {
          "base_uri": "https://localhost:8080/"
        },
        "id": "j6YBonH11j34",
        "outputId": "71fd87a4-0519-4aeb-e80c-15e99f6e0b9b"
      },
      "execution_count": null,
      "outputs": [
        {
          "output_type": "execute_result",
          "data": {
            "text/plain": [
              "(tensor([    2,  3240,  4110,  6237,    23,  6981,  6840,  7005,  4292,  7200,\n",
              "         17788,    18,     3,  3240,  4110,  6237,    16,  6233,  4034,  2926,\n",
              "          6274,  6840,  4199,  4139,  7005,  4292,  7200, 17788,    18,     3,\n",
              "             0,     0,     0,     0,     0,     0,     0,     0,     0,     0,\n",
              "             0,     0,     0,     0,     0,     0,     0,     0,     0,     0,\n",
              "             0,     0,     0,     0,     0,     0,     0,     0,     0,     0,\n",
              "             0,     0,     0,     0,     0,     0,     0,     0,     0,     0,\n",
              "             0,     0,     0,     0,     0,     0,     0,     0,     0,     0,\n",
              "             0,     0,     0,     0,     0,     0,     0,     0,     0,     0,\n",
              "             0,     0,     0,     0,     0,     0,     0,     0,     0,     0,\n",
              "             0,     0,     0,     0,     0,     0,     0,     0,     0,     0,\n",
              "             0,     0,     0,     0,     0,     0,     0,     0,     0,     0,\n",
              "             0,     0,     0,     0,     0,     0,     0,     0]),\n",
              " tensor([1, 1, 1, 1, 1, 1, 1, 1, 1, 1, 1, 1, 1, 1, 1, 1, 1, 1, 1, 1, 1, 1, 1, 1,\n",
              "         1, 1, 1, 1, 1, 1, 0, 0, 0, 0, 0, 0, 0, 0, 0, 0, 0, 0, 0, 0, 0, 0, 0, 0,\n",
              "         0, 0, 0, 0, 0, 0, 0, 0, 0, 0, 0, 0, 0, 0, 0, 0, 0, 0, 0, 0, 0, 0, 0, 0,\n",
              "         0, 0, 0, 0, 0, 0, 0, 0, 0, 0, 0, 0, 0, 0, 0, 0, 0, 0, 0, 0, 0, 0, 0, 0,\n",
              "         0, 0, 0, 0, 0, 0, 0, 0, 0, 0, 0, 0, 0, 0, 0, 0, 0, 0, 0, 0, 0, 0, 0, 0,\n",
              "         0, 0, 0, 0, 0, 0, 0, 0]),\n",
              " tensor([0, 0, 0, 0, 0, 0, 0, 0, 0, 0, 0, 0, 0, 1, 1, 1, 1, 1, 1, 1, 1, 1, 1, 1,\n",
              "         1, 1, 1, 1, 1, 1, 0, 0, 0, 0, 0, 0, 0, 0, 0, 0, 0, 0, 0, 0, 0, 0, 0, 0,\n",
              "         0, 0, 0, 0, 0, 0, 0, 0, 0, 0, 0, 0, 0, 0, 0, 0, 0, 0, 0, 0, 0, 0, 0, 0,\n",
              "         0, 0, 0, 0, 0, 0, 0, 0, 0, 0, 0, 0, 0, 0, 0, 0, 0, 0, 0, 0, 0, 0, 0, 0,\n",
              "         0, 0, 0, 0, 0, 0, 0, 0, 0, 0, 0, 0, 0, 0, 0, 0, 0, 0, 0, 0, 0, 0, 0, 0,\n",
              "         0, 0, 0, 0, 0, 0, 0, 0]),\n",
              " tensor(4.1667))"
            ]
          },
          "metadata": {},
          "execution_count": 48
        }
      ]
    },
    {
      "cell_type": "markdown",
      "source": [
        "## DataLoader"
      ],
      "metadata": {
        "id": "B80LYL3fJQz2"
      }
    },
    {
      "cell_type": "code",
      "source": [
        "train_dataloader = make_dataloader(t_dataset, mode='train')\n",
        "valid_dataloader = make_dataloader(v_dataset, mode='valid')\n",
        "dev_dataloader = make_dataloader(d_dataset, mode='dev')"
      ],
      "metadata": {
        "id": "OIj0kui-JSxE"
      },
      "execution_count": null,
      "outputs": []
    },
    {
      "cell_type": "code",
      "source": [
        "for idx, input in enumerate(train_dataloader):\n",
        "    if idx < 1:\n",
        "        print(input)\n",
        "    else:\n",
        "        break"
      ],
      "metadata": {
        "colab": {
          "base_uri": "https://localhost:8080/"
        },
        "id": "AzE61hiBFPb1",
        "outputId": "61d5c6b3-4733-42ae-9a2d-ccc77fe584e7"
      },
      "execution_count": null,
      "outputs": [
        {
          "output_type": "stream",
          "name": "stdout",
          "text": [
            "[tensor([[    2,  6285,  3181,  ...,     0,     0,     0],\n",
            "        [    2,  6451,  9736,  ...,     0,     0,     0],\n",
            "        [    2, 12860,  4073,  ...,     0,     0,     0],\n",
            "        ...,\n",
            "        [    2,  6890, 16521,  ...,     0,     0,     0],\n",
            "        [    2,  2556, 10781,  ...,     0,     0,     0],\n",
            "        [    2,    22,  4370,  ...,     0,     0,     0]]), tensor([[1, 1, 1,  ..., 0, 0, 0],\n",
            "        [1, 1, 1,  ..., 0, 0, 0],\n",
            "        [1, 1, 1,  ..., 0, 0, 0],\n",
            "        ...,\n",
            "        [1, 1, 1,  ..., 0, 0, 0],\n",
            "        [1, 1, 1,  ..., 0, 0, 0],\n",
            "        [1, 1, 1,  ..., 0, 0, 0]]), tensor([[0, 0, 0,  ..., 0, 0, 0],\n",
            "        [0, 0, 0,  ..., 0, 0, 0],\n",
            "        [0, 0, 0,  ..., 0, 0, 0],\n",
            "        ...,\n",
            "        [0, 0, 0,  ..., 0, 0, 0],\n",
            "        [0, 0, 0,  ..., 0, 0, 0],\n",
            "        [0, 0, 0,  ..., 0, 0, 0]]), tensor([4.5000, 0.0000, 0.2000, 0.8333, 4.1667, 0.4286, 2.5000, 0.7143, 3.8571,\n",
            "        1.1429, 0.7143, 4.6667, 0.6667, 3.6000, 4.2857, 0.0000, 4.4000, 0.0000,\n",
            "        0.0000, 0.0000, 0.0000, 4.2857, 3.1667, 1.5000, 0.3333, 4.3333, 0.7143,\n",
            "        0.0000, 1.0000, 0.4286, 4.4286, 1.1429])]\n"
          ]
        }
      ]
    },
    {
      "cell_type": "markdown",
      "source": [
        "# Train(Validate) / Save models"
      ],
      "metadata": {
        "id": "FcVi_8KUgSyL"
      }
    },
    {
      "cell_type": "code",
      "source": [
        "# log 파일을 저장할 경로를 지정\n",
        "logdir_path = \"/content/drive/MyDrive/Colab Notebooks/wanted_preonboarding/기업과제/3.STS/logdir\"\n",
        "writer = SummaryWriter(logdir_path)"
      ],
      "metadata": {
        "id": "IsheoJiboihr"
      },
      "execution_count": null,
      "outputs": []
    },
    {
      "cell_type": "code",
      "source": [
        "# '__main__' 이름의 logger 생성\n",
        "logger = logging.getLogger(__name__)"
      ],
      "metadata": {
        "id": "SR-QzYEFg1nK"
      },
      "execution_count": null,
      "outputs": []
    },
    {
      "cell_type": "code",
      "source": [
        "def train(args, model, train_dataloader, valid_dataloader=None):\n",
        "    # 1 epoch 주기로 train, val loss를 저장하는 리스트\n",
        "    avg_tr_loss_li = []\n",
        "    avg_val_loss_li = []\n",
        "\n",
        "    # train total steps\n",
        "    if args['max_steps'] > 0: \n",
        "        t_total = args['max_steps']\n",
        "        args['num_train_epochs'] = args['max_steps'] // (len(train_dataloader) // args['gradient_accumulation_steps']) + 1\n",
        "    else:\n",
        "        t_total = len(train_dataloader) // args['gradient_accumulation_steps'] * args['num_train_epochs']\n",
        "\n",
        "    # optimizer and scheduler\n",
        "    no_decay = ['bias', 'LayerNorm.weight']\n",
        "    optimizer_grouped_parameters = [\n",
        "        {'params': [p for n, p in model.named_parameters() if not any(nd in n for nd in no_decay)],\n",
        "         'weight_decay': args['weight_decay']},\n",
        "        {'params': [p for n, p in model.named_parameters() if any(nd in n for nd in no_decay)], \n",
        "         'weight_decay': 0.0}\n",
        "    ]\n",
        "    optimizer = AdamW(optimizer_grouped_parameters,\n",
        "                      lr=args['learning_rate'],\n",
        "                      betas=args['betas'],\n",
        "                      eps=args['adam_epsilon'])\n",
        "    scheduler = get_linear_schedule_with_warmup(optimizer=optimizer,\n",
        "                                                num_warmup_steps=int(t_total * args['warmup_proportion']), \n",
        "                                                num_training_steps=t_total)\n",
        "\n",
        "    # Load optimizer and scheduler states\n",
        "    if os.path.isfile(os.path.join(args['model_name_or_path'], \"optimizer.pt\")) and os.path.isfile(\n",
        "            os.path.join(args['model_name_or_path'], \"scheduler.pt\")\n",
        "    ):\n",
        "        optimizer.load_state_dict(torch.load(os.path.join(args['model_name_or_path'], \"optimizer.pt\")))\n",
        "        scheduler.load_state_dict(torch.load(os.path.join(args['model_name_or_path'], \"scheduler.pt\")))\n",
        "\n",
        "    # logger info\n",
        "    logger.info(\"***** Running training *****\")\n",
        "    logger.info(\"  Num examples = %d\", len(t_dataset))\n",
        "    logger.info(\"  Num Epochs = %d\", args['num_train_epochs'])\n",
        "    logger.info(\"  Total train batch size = %d\", args['train_batch_size'])\n",
        "    logger.info(\"  Gradient Accumulation steps = %d\", args['gradient_accumulation_steps'])\n",
        "    logger.info(\"  Total optimization steps = %d\", t_total)\n",
        "\n",
        "    # step and loss 초기화\n",
        "    global_step, batch_step = 0, 0\n",
        "    tr_loss, batch_loss = 0.0, 0.0\n",
        "\n",
        "    # zero_grad\n",
        "    model.zero_grad()\n",
        "\n",
        "    # Train!\n",
        "    mb = master_bar(range(int(args['num_train_epochs'])))\n",
        "    for epoch in tqdm(mb):\n",
        "        epoch_iterator = progress_bar(train_dataloader, parent=mb)\n",
        "        for step, batch in enumerate(epoch_iterator):\n",
        "            batch_step+=1\n",
        "            \n",
        "            # train mode\n",
        "            model.train()\n",
        "            \n",
        "            # inputs to device\n",
        "            batch = tuple(item.to(device) for item in batch)\n",
        "            inputs = {\n",
        "                \"input_ids\": batch[0],\n",
        "                \"attention_mask\": batch[1],\n",
        "                \"token_type_ids\": batch[2],\n",
        "                \"labels\": batch[3]\n",
        "            }\n",
        "            \n",
        "            # forward\n",
        "            outputs = model(**inputs)\n",
        "\n",
        "            # loss \n",
        "            loss = outputs[0]\n",
        "            # loss depending on the gradient_accumulation_steps\n",
        "            if args['gradient_accumulation_steps'] > 1: \n",
        "                loss = loss / args['gradient_accumulation_steps']\n",
        "\n",
        "            # backward\n",
        "            loss.backward()\n",
        "\n",
        "            # batch_loss & (total)loss\n",
        "            batch_loss += loss.item()\n",
        "            tr_loss += loss.item()\n",
        "            \n",
        "            if (step + 1) % args['gradient_accumulation_steps'] == 0 or (\n",
        "                    len(train_dataloader) <= args['gradient_accumulation_steps']\n",
        "                    and (step + 1) == len(train_dataloader)\n",
        "            ):  # gradient clipping (max_norm = 1)\n",
        "                torch.nn.utils.clip_grad_norm_(model.parameters(), \n",
        "                                               max_norm = args['max_grad_norm'])\n",
        "                \n",
        "                # optimizer & scheduler 업데이트\n",
        "                optimizer.step()\n",
        "                scheduler.step()\n",
        "\n",
        "                # batch마다 모델이 갖고 있는 기존 gradient를 초기화\n",
        "                model.zero_grad()\n",
        "                \n",
        "                # tensorboard : Train loss 기록\n",
        "                writer.add_scalar(\n",
        "                        tag = \"Train loss\",\n",
        "                        scalar_value = batch_loss / batch_step,\n",
        "                        global_step = epoch * len(train_dataloader)\n",
        "                )\n",
        "\n",
        "                # tensorboard : learning rate 기록\n",
        "                writer.add_scalar(\n",
        "                        tag = \"Train LR\",\n",
        "                        scalar_value = optimizer.param_groups[0]['lr'],\n",
        "                        global_step = epoch * len(train_dataloader)\n",
        "                ) \n",
        "                \n",
        "                # 배치 10개씩 처리할 때마다 lr, 평균 train loss를 출력\n",
        "                if (step % 10 == 0 and step != 0):\n",
        "                    learning_rate = optimizer.param_groups[0]['lr']\n",
        "                    print(f\"Epoch: {epoch}, Step : {step}, LR : {learning_rate}, Avg Loss : {batch_loss / batch_step:.4f}\")\n",
        "                    \n",
        "                    # batch_loss, batch_step 초기화\n",
        "                    batch_loss, batch_step = 0.0, 0\n",
        "\n",
        "                global_step += 1\n",
        "        \n",
        "            if args['max_steps'] > 0 and global_step > args['max_steps']:\n",
        "                break\n",
        "\n",
        "        # 1 epoch 마다 평균 train loss 계산 및 출력\n",
        "        avg_tr_loss = round(tr_loss / global_step, 4)\n",
        "        avg_tr_loss_li.append(avg_tr_loss)\n",
        "        print(f\"Epoch {epoch} Train Loss : {avg_tr_loss}\")\n",
        "\n",
        "        # Validate!\n",
        "        if valid_dataloader is not None:\n",
        "            print(f\"*****Epoch {epoch} Valid Start*****\")\n",
        "            results, val_loss = validate(args, model, valid_dataloader, \"valid\", global_step)\n",
        "            avg_val_loss_li.append(val_loss)\n",
        "            print(f\"Epoch {epoch} Valid Loss : {val_loss:.4f}\")\n",
        "            print(f\"*****Epoch {epoch} Train and Valid Finish*****\\n\")\n",
        "            \n",
        "            # tensorboard : Validation loss 기록 \n",
        "            writer.add_scalar(\n",
        "                tag = \"Valid Loss\",\n",
        "                scalar_value = val_loss,\n",
        "                global_step = epoch * len(valid_dataloader)\n",
        "            )\n",
        "        \n",
        "        # 1 epoch 주기로 checkpoint 저장\n",
        "        path = \"/content/drive/MyDrive/Colab Notebooks/wanted_preonboarding/기업과제/3.STS/model\"\n",
        "        save_checkpoint(path, model, optimizer, scheduler, epoch, loss)\n",
        "\n",
        "        mb.write(\"Epoch {} done\".format(epoch))\n",
        "\n",
        "        if args['max_steps'] > 0 and global_step > args['max_steps']:\n",
        "            break\n",
        "    \n",
        "    print(\"Train Completed. End Program.\")\n",
        "    # tensorboard 기록 중지\n",
        "    writer.close()  \n",
        "\n",
        "    return global_step, tr_loss / global_step, avg_tr_loss_li, avg_val_loss_li"
      ],
      "metadata": {
        "id": "FL8u2gaphlw2"
      },
      "execution_count": null,
      "outputs": []
    },
    {
      "cell_type": "code",
      "source": [
        "def validate(args, model, valid_dataloader, mode, global_step=None):\n",
        "    results = {}\n",
        "\n",
        "    # logger info\n",
        "    if global_step != None:\n",
        "        logger.info(\"***** Running evaluation on {} dataset ({} step) *****\".format(mode, global_step))\n",
        "    else:\n",
        "        logger.info(\"***** Running evaluation on {} dataset *****\".format(mode))\n",
        "    logger.info(\"  Num examples = {}\".format(len(v_dataset)))\n",
        "    logger.info(\"  Eval Batch size = {}\".format(args['eval_batch_size']))\n",
        "\t\t\n",
        "    # loss, steps, 예측값, 라벨 초기화    \n",
        "    loss = 0.0\n",
        "    nb_eval_steps = 0\n",
        "    preds = None\n",
        "    out_label = None\n",
        "    \n",
        "    # validate !\n",
        "    for batch in progress_bar(valid_dataloader):\n",
        "        # eval mode\n",
        "        model.eval()\n",
        "\n",
        "        # inputs to device\n",
        "        batch = tuple(item.to(device) for item in batch)\n",
        "\n",
        "        # no_grad\n",
        "        with torch.no_grad():\n",
        "            # inputs\n",
        "            inputs = {\n",
        "                \"input_ids\": batch[0],\n",
        "                \"attention_mask\": batch[1],\n",
        "                \"token_type_ids\": batch[2],\n",
        "                \"labels\": batch[3]\n",
        "            }\n",
        "            \n",
        "            # outputs\n",
        "            outputs = model(**inputs)\n",
        "\n",
        "            # loss and logits\n",
        "            tmp_eval_loss, logits = outputs[:2]\n",
        "            loss += tmp_eval_loss.mean().item()\n",
        "\n",
        "        nb_eval_steps += 1\n",
        "        \n",
        "        # Get preds and out_label(예측값 & 라벨)\n",
        "        if preds is None:\n",
        "            preds = logits.detach().cpu().numpy()\n",
        "            out_label = inputs[\"labels\"].detach().cpu().numpy()\n",
        "        else:\n",
        "            preds = np.append(preds, logits.detach().cpu().numpy(), axis=0)\n",
        "            out_label = np.append(out_label, inputs[\"labels\"].detach().cpu().numpy(), axis=0)\n",
        "\n",
        "    # 1 epoch 당 평균 validation loss \n",
        "    loss = loss / nb_eval_steps\n",
        "    \n",
        "    # preds depending on the type of task\n",
        "    if seq_cls_output_modes[args['task']] == \"classification\":\n",
        "        preds = np.argmax(preds, axis=1)\n",
        "    elif seq_cls_output_modes[args['task']] == \"regression\":\n",
        "        preds = np.squeeze(preds)\n",
        "\n",
        "    # Pearson correlation coefficient and Spearman correlation coefficient\n",
        "    result = compute_metrics(\"pearson_and_spearman\", out_label, preds)\n",
        "    results.update(result)\n",
        "\n",
        "    return results, loss"
      ],
      "metadata": {
        "id": "Pr1BUjWp4uqs"
      },
      "execution_count": null,
      "outputs": []
    },
    {
      "cell_type": "code",
      "source": [
        "def main(args):\n",
        "\n",
        "    init_logger()\n",
        "    set_seed(args)\n",
        "    \n",
        "    # STSProcessor\n",
        "    processor = seq_cls_processors[args['task']](args)\n",
        "    labels = processor.get_labels()\n",
        "    \n",
        "    # regression 방식으로 train \n",
        "    if seq_cls_output_modes[args['task']] == \"regression\":\n",
        "        config = CONFIG_CLASSES[args['model_type']].from_pretrained(\n",
        "            args['model_name_or_path'],\n",
        "            num_labels=seq_cls_tasks_num_labels[args['task']]\n",
        "        )\n",
        "    else:\n",
        "        raise KeyError(\"The task is not 'regression' !\")\n",
        "    \n",
        "    # 모델 (koelectra-base-v3-discriminator)\n",
        "    model = MODEL_FOR_SEQUENCE_CLASSIFICATION[args['model_type']].from_pretrained(\n",
        "        args['model_name_or_path'],\n",
        "        config=config\n",
        "    )\n",
        "\n",
        "    # GPU or CPU\n",
        "    args['device'] = \"cuda\" if torch.cuda.is_available() and not args['no_cuda'] else \"cpu\"\n",
        "    model.to(args['device'])\n",
        "    \n",
        "    # Train !\n",
        "    if args['do_train']:\n",
        "        global_step, tr_loss, avg_tr_loss_li, avg_val_loss_li = train(args, model, train_dataloader, valid_dataloader)\n",
        "        logger.info(\" global_step = {}, average loss = {}\".format(global_step, tr_loss))\n",
        "    else:\n",
        "        raise AssertionError(args['do_train'])\n",
        "\n",
        "    return  global_step, tr_loss, avg_tr_loss_li, avg_val_loss_li"
      ],
      "metadata": {
        "id": "AbxpnOJDh4sx"
      },
      "execution_count": null,
      "outputs": []
    },
    {
      "cell_type": "code",
      "source": [
        "# 훈련 / 검증\n",
        "global_step, tr_loss, avg_tr_loss_li, avg_val_loss_li = main(args)"
      ],
      "metadata": {
        "colab": {
          "base_uri": "https://localhost:8080/",
          "height": 1000
        },
        "id": "WVDLscmOqdz5",
        "outputId": "1a6815e2-6f5c-407f-958d-f831a6864cbd"
      },
      "execution_count": null,
      "outputs": [
        {
          "output_type": "stream",
          "name": "stderr",
          "text": [
            "Some weights of the model checkpoint at monologg/koelectra-base-v3-discriminator were not used when initializing ElectraForSequenceClassification: ['discriminator_predictions.dense_prediction.bias', 'discriminator_predictions.dense.weight', 'discriminator_predictions.dense_prediction.weight', 'discriminator_predictions.dense.bias']\n",
            "- This IS expected if you are initializing ElectraForSequenceClassification from the checkpoint of a model trained on another task or with another architecture (e.g. initializing a BertForSequenceClassification model from a BertForPreTraining model).\n",
            "- This IS NOT expected if you are initializing ElectraForSequenceClassification from the checkpoint of a model that you expect to be exactly identical (initializing a BertForSequenceClassification model from a BertForSequenceClassification model).\n",
            "Some weights of ElectraForSequenceClassification were not initialized from the model checkpoint at monologg/koelectra-base-v3-discriminator and are newly initialized: ['classifier.out_proj.weight', 'classifier.dense.weight', 'classifier.out_proj.bias', 'classifier.dense.bias']\n",
            "You should probably TRAIN this model on a down-stream task to be able to use it for predictions and inference.\n",
            "/usr/local/lib/python3.7/dist-packages/transformers/optimization.py:309: FutureWarning: This implementation of AdamW is deprecated and will be removed in a future version. Use the PyTorch implementation torch.optim.AdamW instead, or set `no_deprecation_warning=True` to disable this warning\n",
            "  FutureWarning,\n",
            "03/29/2022 08:41:44 - INFO - __main__ -   ***** Running training *****\n",
            "03/29/2022 08:41:44 - INFO - __main__ -     Num examples = 10496\n",
            "03/29/2022 08:41:44 - INFO - __main__ -     Num Epochs = 20\n",
            "03/29/2022 08:41:44 - INFO - __main__ -     Total train batch size = 32\n",
            "03/29/2022 08:41:44 - INFO - __main__ -     Gradient Accumulation steps = 1\n",
            "03/29/2022 08:41:44 - INFO - __main__ -     Total optimization steps = 6560\n",
            "0it [00:00, ?it/s]"
          ]
        },
        {
          "output_type": "display_data",
          "data": {
            "text/plain": [
              "<IPython.core.display.HTML object>"
            ],
            "text/html": [
              "\n",
              "<style>\n",
              "    /* Turns off some styling */\n",
              "    progress {\n",
              "        /* gets rid of default border in Firefox and Opera. */\n",
              "        border: none;\n",
              "        /* Needs to be in here for Safari polyfill so background images work as expected. */\n",
              "        background-size: auto;\n",
              "    }\n",
              "    .progress-bar-interrupted, .progress-bar-interrupted::-webkit-progress-bar {\n",
              "        background: #F44336;\n",
              "    }\n",
              "</style>\n"
            ]
          },
          "metadata": {}
        },
        {
          "output_type": "display_data",
          "data": {
            "text/plain": [
              "<IPython.core.display.HTML object>"
            ],
            "text/html": [
              "Epoch 0 done<p>Epoch 1 done<p>Epoch 2 done<p>Epoch 3 done<p>Epoch 4 done<p>Epoch 5 done<p>Epoch 6 done<p>Epoch 7 done<p>Epoch 8 done<p>Epoch 9 done<p>Epoch 10 done<p>Epoch 11 done<p>Epoch 12 done<p>Epoch 13 done<p>Epoch 14 done<p>Epoch 15 done<p>Epoch 16 done<p>Epoch 17 done<p>Epoch 18 done<p>Epoch 19 done"
            ]
          },
          "metadata": {}
        },
        {
          "output_type": "stream",
          "name": "stdout",
          "text": [
            "Epoch: 0, Step : 10, LR : 4.192073170731708e-07, Avg Loss : 8.3839\n",
            "Epoch: 0, Step : 20, LR : 8.003048780487805e-07, Avg Loss : 9.0488\n",
            "Epoch: 0, Step : 30, LR : 1.1814024390243904e-06, Avg Loss : 9.1918\n",
            "Epoch: 0, Step : 40, LR : 1.5625e-06, Avg Loss : 8.2329\n",
            "Epoch: 0, Step : 50, LR : 1.94359756097561e-06, Avg Loss : 7.9872\n",
            "Epoch: 0, Step : 60, LR : 2.3246951219512196e-06, Avg Loss : 6.3265\n",
            "Epoch: 0, Step : 70, LR : 2.7057926829268293e-06, Avg Loss : 6.8421\n",
            "Epoch: 0, Step : 80, LR : 3.086890243902439e-06, Avg Loss : 6.8252\n",
            "Epoch: 0, Step : 90, LR : 3.467987804878049e-06, Avg Loss : 6.3420\n",
            "Epoch: 0, Step : 100, LR : 3.849085365853659e-06, Avg Loss : 5.8245\n",
            "Epoch: 0, Step : 110, LR : 4.230182926829269e-06, Avg Loss : 4.9849\n",
            "Epoch: 0, Step : 120, LR : 4.611280487804878e-06, Avg Loss : 5.1857\n",
            "Epoch: 0, Step : 130, LR : 4.992378048780488e-06, Avg Loss : 4.2684\n",
            "Epoch: 0, Step : 140, LR : 5.373475609756097e-06, Avg Loss : 4.1337\n",
            "Epoch: 0, Step : 150, LR : 5.7545731707317075e-06, Avg Loss : 3.6393\n",
            "Epoch: 0, Step : 160, LR : 6.135670731707318e-06, Avg Loss : 2.9581\n",
            "Epoch: 0, Step : 170, LR : 6.516768292682928e-06, Avg Loss : 2.7773\n",
            "Epoch: 0, Step : 180, LR : 6.897865853658538e-06, Avg Loss : 2.1602\n",
            "Epoch: 0, Step : 190, LR : 7.278963414634146e-06, Avg Loss : 1.8085\n",
            "Epoch: 0, Step : 200, LR : 7.660060975609757e-06, Avg Loss : 1.4144\n",
            "Epoch: 0, Step : 210, LR : 8.041158536585367e-06, Avg Loss : 1.2288\n",
            "Epoch: 0, Step : 220, LR : 8.422256097560977e-06, Avg Loss : 0.9112\n",
            "Epoch: 0, Step : 230, LR : 8.803353658536586e-06, Avg Loss : 0.8578\n",
            "Epoch: 0, Step : 240, LR : 9.184451219512196e-06, Avg Loss : 0.5641\n",
            "Epoch: 0, Step : 250, LR : 9.565548780487806e-06, Avg Loss : 0.5166\n",
            "Epoch: 0, Step : 260, LR : 9.946646341463416e-06, Avg Loss : 0.4599\n",
            "Epoch: 0, Step : 270, LR : 1.0327743902439024e-05, Avg Loss : 0.3540\n",
            "Epoch: 0, Step : 280, LR : 1.0708841463414635e-05, Avg Loss : 0.3498\n",
            "Epoch: 0, Step : 290, LR : 1.1089939024390245e-05, Avg Loss : 0.3070\n",
            "Epoch: 0, Step : 300, LR : 1.1471036585365855e-05, Avg Loss : 0.2404\n",
            "Epoch: 0, Step : 310, LR : 1.1852134146341463e-05, Avg Loss : 0.2518\n",
            "Epoch: 0, Step : 320, LR : 1.2233231707317073e-05, Avg Loss : 0.2646\n"
          ]
        },
        {
          "output_type": "stream",
          "name": "stderr",
          "text": [
            "03/29/2022 08:43:51 - INFO - __main__ -   ***** Running evaluation on valid dataset (328 step) *****\n",
            "03/29/2022 08:43:51 - INFO - __main__ -     Num examples = 1167\n",
            "03/29/2022 08:43:51 - INFO - __main__ -     Eval Batch size = 64\n"
          ]
        },
        {
          "output_type": "stream",
          "name": "stdout",
          "text": [
            "Epoch 0 Train Loss : 3.5253\n",
            "*****Epoch 0 Valid Start*****\n"
          ]
        },
        {
          "output_type": "display_data",
          "data": {
            "text/plain": [
              "<IPython.core.display.HTML object>"
            ],
            "text/html": [
              "\n",
              "<style>\n",
              "    /* Turns off some styling */\n",
              "    progress {\n",
              "        /* gets rid of default border in Firefox and Opera. */\n",
              "        border: none;\n",
              "        /* Needs to be in here for Safari polyfill so background images work as expected. */\n",
              "        background-size: auto;\n",
              "    }\n",
              "    .progress-bar-interrupted, .progress-bar-interrupted::-webkit-progress-bar {\n",
              "        background: #F44336;\n",
              "    }\n",
              "</style>\n"
            ]
          },
          "metadata": {}
        },
        {
          "output_type": "display_data",
          "data": {
            "text/plain": [
              "<IPython.core.display.HTML object>"
            ],
            "text/html": [
              "\n",
              "    <div>\n",
              "      <progress value='19' class='' max='19' style='width:300px; height:20px; vertical-align: middle;'></progress>\n",
              "      100.00% [19/19 00:04<00:00]\n",
              "    </div>\n",
              "    "
            ]
          },
          "metadata": {}
        },
        {
          "output_type": "stream",
          "name": "stdout",
          "text": [
            "Epoch 0 Valid Loss : 0.3274\n",
            "*****Epoch 0 Train and Valid Finish*****\n",
            "\n"
          ]
        },
        {
          "output_type": "stream",
          "name": "stderr",
          "text": [
            "\r1it [02:17, 137.70s/it]"
          ]
        },
        {
          "output_type": "stream",
          "name": "stdout",
          "text": [
            "Saving epoch 0 checkpoint at /content/drive/MyDrive/Colab Notebooks/wanted_preonboarding/기업과제/3.STS/model/model.ckpt.0\n",
            "Epoch: 1, Step : 10, LR : 1.2919207317073171e-05, Avg Loss : 0.2787\n",
            "Epoch: 1, Step : 20, LR : 1.3300304878048781e-05, Avg Loss : 0.2779\n",
            "Epoch: 1, Step : 30, LR : 1.3681402439024391e-05, Avg Loss : 0.2548\n",
            "Epoch: 1, Step : 40, LR : 1.4062500000000001e-05, Avg Loss : 0.2292\n",
            "Epoch: 1, Step : 50, LR : 1.4443597560975611e-05, Avg Loss : 0.1726\n",
            "Epoch: 1, Step : 60, LR : 1.4824695121951221e-05, Avg Loss : 0.1580\n",
            "Epoch: 1, Step : 70, LR : 1.5205792682926832e-05, Avg Loss : 0.2214\n",
            "Epoch: 1, Step : 80, LR : 1.558689024390244e-05, Avg Loss : 0.2292\n",
            "Epoch: 1, Step : 90, LR : 1.596798780487805e-05, Avg Loss : 0.1924\n",
            "Epoch: 1, Step : 100, LR : 1.634908536585366e-05, Avg Loss : 0.1979\n",
            "Epoch: 1, Step : 110, LR : 1.673018292682927e-05, Avg Loss : 0.2058\n",
            "Epoch: 1, Step : 120, LR : 1.711128048780488e-05, Avg Loss : 0.2287\n",
            "Epoch: 1, Step : 130, LR : 1.749237804878049e-05, Avg Loss : 0.1813\n",
            "Epoch: 1, Step : 140, LR : 1.78734756097561e-05, Avg Loss : 0.1714\n",
            "Epoch: 1, Step : 150, LR : 1.825457317073171e-05, Avg Loss : 0.2011\n",
            "Epoch: 1, Step : 160, LR : 1.863567073170732e-05, Avg Loss : 0.2048\n",
            "Epoch: 1, Step : 170, LR : 1.9016768292682927e-05, Avg Loss : 0.2004\n",
            "Epoch: 1, Step : 180, LR : 1.9397865853658538e-05, Avg Loss : 0.1847\n",
            "Epoch: 1, Step : 190, LR : 1.9778963414634148e-05, Avg Loss : 0.1881\n",
            "Epoch: 1, Step : 200, LR : 2.0160060975609758e-05, Avg Loss : 0.1806\n",
            "Epoch: 1, Step : 210, LR : 2.0541158536585368e-05, Avg Loss : 0.1650\n",
            "Epoch: 1, Step : 220, LR : 2.0922256097560978e-05, Avg Loss : 0.1755\n",
            "Epoch: 1, Step : 230, LR : 2.1303353658536588e-05, Avg Loss : 0.1824\n",
            "Epoch: 1, Step : 240, LR : 2.1684451219512198e-05, Avg Loss : 0.1765\n",
            "Epoch: 1, Step : 250, LR : 2.2065548780487805e-05, Avg Loss : 0.1382\n",
            "Epoch: 1, Step : 260, LR : 2.2446646341463415e-05, Avg Loss : 0.1987\n",
            "Epoch: 1, Step : 270, LR : 2.2827743902439025e-05, Avg Loss : 0.2094\n",
            "Epoch: 1, Step : 280, LR : 2.3208841463414635e-05, Avg Loss : 0.1568\n",
            "Epoch: 1, Step : 290, LR : 2.3589939024390245e-05, Avg Loss : 0.1794\n",
            "Epoch: 1, Step : 300, LR : 2.3971036585365855e-05, Avg Loss : 0.1812\n",
            "Epoch: 1, Step : 310, LR : 2.4352134146341465e-05, Avg Loss : 0.2206\n",
            "Epoch: 1, Step : 320, LR : 2.4733231707317075e-05, Avg Loss : 0.1709\n"
          ]
        },
        {
          "output_type": "stream",
          "name": "stderr",
          "text": [
            "03/29/2022 08:46:09 - INFO - __main__ -   ***** Running evaluation on valid dataset (656 step) *****\n",
            "03/29/2022 08:46:09 - INFO - __main__ -     Num examples = 1167\n",
            "03/29/2022 08:46:09 - INFO - __main__ -     Eval Batch size = 64\n"
          ]
        },
        {
          "output_type": "stream",
          "name": "stdout",
          "text": [
            "Epoch 1 Train Loss : 1.8615\n",
            "*****Epoch 1 Valid Start*****\n"
          ]
        },
        {
          "output_type": "display_data",
          "data": {
            "text/plain": [
              "<IPython.core.display.HTML object>"
            ],
            "text/html": [
              "\n",
              "<style>\n",
              "    /* Turns off some styling */\n",
              "    progress {\n",
              "        /* gets rid of default border in Firefox and Opera. */\n",
              "        border: none;\n",
              "        /* Needs to be in here for Safari polyfill so background images work as expected. */\n",
              "        background-size: auto;\n",
              "    }\n",
              "    .progress-bar-interrupted, .progress-bar-interrupted::-webkit-progress-bar {\n",
              "        background: #F44336;\n",
              "    }\n",
              "</style>\n"
            ]
          },
          "metadata": {}
        },
        {
          "output_type": "display_data",
          "data": {
            "text/plain": [
              "<IPython.core.display.HTML object>"
            ],
            "text/html": [
              "\n",
              "    <div>\n",
              "      <progress value='19' class='' max='19' style='width:300px; height:20px; vertical-align: middle;'></progress>\n",
              "      100.00% [19/19 00:04<00:00]\n",
              "    </div>\n",
              "    "
            ]
          },
          "metadata": {}
        },
        {
          "output_type": "stream",
          "name": "stdout",
          "text": [
            "Epoch 1 Valid Loss : 0.3242\n",
            "*****Epoch 1 Train and Valid Finish*****\n",
            "\n"
          ]
        },
        {
          "output_type": "stream",
          "name": "stderr",
          "text": [
            "\r2it [04:34, 136.89s/it]"
          ]
        },
        {
          "output_type": "stream",
          "name": "stdout",
          "text": [
            "Saving epoch 1 checkpoint at /content/drive/MyDrive/Colab Notebooks/wanted_preonboarding/기업과제/3.STS/model/model.ckpt.1\n",
            "Epoch: 2, Step : 10, LR : 2.5419207317073175e-05, Avg Loss : 0.1380\n",
            "Epoch: 2, Step : 20, LR : 2.5800304878048782e-05, Avg Loss : 0.1172\n",
            "Epoch: 2, Step : 30, LR : 2.6181402439024395e-05, Avg Loss : 0.1376\n",
            "Epoch: 2, Step : 40, LR : 2.6562500000000002e-05, Avg Loss : 0.1834\n",
            "Epoch: 2, Step : 50, LR : 2.694359756097561e-05, Avg Loss : 0.1204\n",
            "Epoch: 2, Step : 60, LR : 2.7324695121951222e-05, Avg Loss : 0.1329\n",
            "Epoch: 2, Step : 70, LR : 2.770579268292683e-05, Avg Loss : 0.1055\n",
            "Epoch: 2, Step : 80, LR : 2.8086890243902442e-05, Avg Loss : 0.1351\n",
            "Epoch: 2, Step : 90, LR : 2.846798780487805e-05, Avg Loss : 0.1345\n",
            "Epoch: 2, Step : 100, LR : 2.8849085365853662e-05, Avg Loss : 0.1144\n",
            "Epoch: 2, Step : 110, LR : 2.923018292682927e-05, Avg Loss : 0.3073\n",
            "Epoch: 2, Step : 120, LR : 2.9611280487804883e-05, Avg Loss : 0.3317\n",
            "Epoch: 2, Step : 130, LR : 2.999237804878049e-05, Avg Loss : 0.2132\n",
            "Epoch: 2, Step : 140, LR : 3.0373475609756096e-05, Avg Loss : 0.3223\n",
            "Epoch: 2, Step : 150, LR : 3.075457317073171e-05, Avg Loss : 0.1697\n",
            "Epoch: 2, Step : 160, LR : 3.1135670731707316e-05, Avg Loss : 0.2041\n",
            "Epoch: 2, Step : 170, LR : 3.151676829268293e-05, Avg Loss : 0.1788\n",
            "Epoch: 2, Step : 180, LR : 3.1897865853658536e-05, Avg Loss : 0.1737\n",
            "Epoch: 2, Step : 190, LR : 3.227896341463415e-05, Avg Loss : 0.1627\n",
            "Epoch: 2, Step : 200, LR : 3.266006097560976e-05, Avg Loss : 0.1378\n",
            "Epoch: 2, Step : 210, LR : 3.304115853658537e-05, Avg Loss : 0.1508\n",
            "Epoch: 2, Step : 220, LR : 3.342225609756098e-05, Avg Loss : 0.1898\n",
            "Epoch: 2, Step : 230, LR : 3.380335365853659e-05, Avg Loss : 0.1660\n",
            "Epoch: 2, Step : 240, LR : 3.41844512195122e-05, Avg Loss : 0.1798\n",
            "Epoch: 2, Step : 250, LR : 3.456554878048781e-05, Avg Loss : 0.1660\n",
            "Epoch: 2, Step : 260, LR : 3.494664634146342e-05, Avg Loss : 0.1862\n",
            "Epoch: 2, Step : 270, LR : 3.532774390243903e-05, Avg Loss : 0.1853\n",
            "Epoch: 2, Step : 280, LR : 3.570884146341464e-05, Avg Loss : 0.1201\n",
            "Epoch: 2, Step : 290, LR : 3.608993902439025e-05, Avg Loss : 0.1364\n",
            "Epoch: 2, Step : 300, LR : 3.647103658536585e-05, Avg Loss : 0.1289\n",
            "Epoch: 2, Step : 310, LR : 3.685213414634147e-05, Avg Loss : 0.1426\n",
            "Epoch: 2, Step : 320, LR : 3.723323170731707e-05, Avg Loss : 0.2092\n"
          ]
        },
        {
          "output_type": "stream",
          "name": "stderr",
          "text": [
            "03/29/2022 08:48:25 - INFO - __main__ -   ***** Running evaluation on valid dataset (984 step) *****\n",
            "03/29/2022 08:48:25 - INFO - __main__ -     Num examples = 1167\n",
            "03/29/2022 08:48:25 - INFO - __main__ -     Eval Batch size = 64\n"
          ]
        },
        {
          "output_type": "stream",
          "name": "stdout",
          "text": [
            "Epoch 2 Train Loss : 1.2984\n",
            "*****Epoch 2 Valid Start*****\n"
          ]
        },
        {
          "output_type": "display_data",
          "data": {
            "text/plain": [
              "<IPython.core.display.HTML object>"
            ],
            "text/html": [
              "\n",
              "<style>\n",
              "    /* Turns off some styling */\n",
              "    progress {\n",
              "        /* gets rid of default border in Firefox and Opera. */\n",
              "        border: none;\n",
              "        /* Needs to be in here for Safari polyfill so background images work as expected. */\n",
              "        background-size: auto;\n",
              "    }\n",
              "    .progress-bar-interrupted, .progress-bar-interrupted::-webkit-progress-bar {\n",
              "        background: #F44336;\n",
              "    }\n",
              "</style>\n"
            ]
          },
          "metadata": {}
        },
        {
          "output_type": "display_data",
          "data": {
            "text/plain": [
              "<IPython.core.display.HTML object>"
            ],
            "text/html": [
              "\n",
              "    <div>\n",
              "      <progress value='19' class='' max='19' style='width:300px; height:20px; vertical-align: middle;'></progress>\n",
              "      100.00% [19/19 00:04<00:00]\n",
              "    </div>\n",
              "    "
            ]
          },
          "metadata": {}
        },
        {
          "output_type": "stream",
          "name": "stdout",
          "text": [
            "Epoch 2 Valid Loss : 0.1465\n",
            "*****Epoch 2 Train and Valid Finish*****\n",
            "\n"
          ]
        },
        {
          "output_type": "stream",
          "name": "stderr",
          "text": [
            "\r3it [06:50, 136.58s/it]"
          ]
        },
        {
          "output_type": "stream",
          "name": "stdout",
          "text": [
            "Saving epoch 2 checkpoint at /content/drive/MyDrive/Colab Notebooks/wanted_preonboarding/기업과제/3.STS/model/model.ckpt.2\n",
            "Epoch: 3, Step : 10, LR : 3.791920731707318e-05, Avg Loss : 0.1627\n",
            "Epoch: 3, Step : 20, LR : 3.830030487804878e-05, Avg Loss : 0.1694\n",
            "Epoch: 3, Step : 30, LR : 3.86814024390244e-05, Avg Loss : 0.1350\n",
            "Epoch: 3, Step : 40, LR : 3.90625e-05, Avg Loss : 0.1262\n",
            "Epoch: 3, Step : 50, LR : 3.944359756097561e-05, Avg Loss : 0.1286\n",
            "Epoch: 3, Step : 60, LR : 3.982469512195122e-05, Avg Loss : 0.1059\n",
            "Epoch: 3, Step : 70, LR : 4.020579268292683e-05, Avg Loss : 0.1186\n",
            "Epoch: 3, Step : 80, LR : 4.058689024390244e-05, Avg Loss : 0.1475\n",
            "Epoch: 3, Step : 90, LR : 4.096798780487805e-05, Avg Loss : 0.1366\n",
            "Epoch: 3, Step : 100, LR : 4.134908536585366e-05, Avg Loss : 0.1731\n",
            "Epoch: 3, Step : 110, LR : 4.173018292682927e-05, Avg Loss : 0.1212\n",
            "Epoch: 3, Step : 120, LR : 4.211128048780488e-05, Avg Loss : 0.1666\n",
            "Epoch: 3, Step : 130, LR : 4.249237804878049e-05, Avg Loss : 0.1853\n",
            "Epoch: 3, Step : 140, LR : 4.2873475609756095e-05, Avg Loss : 0.1356\n",
            "Epoch: 3, Step : 150, LR : 4.325457317073171e-05, Avg Loss : 0.1418\n",
            "Epoch: 3, Step : 160, LR : 4.3635670731707315e-05, Avg Loss : 0.1414\n",
            "Epoch: 3, Step : 170, LR : 4.401676829268293e-05, Avg Loss : 0.1423\n",
            "Epoch: 3, Step : 180, LR : 4.4397865853658535e-05, Avg Loss : 0.1262\n",
            "Epoch: 3, Step : 190, LR : 4.477896341463415e-05, Avg Loss : 0.1157\n",
            "Epoch: 3, Step : 200, LR : 4.5160060975609756e-05, Avg Loss : 0.0992\n",
            "Epoch: 3, Step : 210, LR : 4.5541158536585366e-05, Avg Loss : 0.1195\n",
            "Epoch: 3, Step : 220, LR : 4.5922256097560976e-05, Avg Loss : 0.1883\n",
            "Epoch: 3, Step : 230, LR : 4.6303353658536586e-05, Avg Loss : 0.1877\n",
            "Epoch: 3, Step : 240, LR : 4.6684451219512196e-05, Avg Loss : 0.1735\n",
            "Epoch: 3, Step : 250, LR : 4.7065548780487806e-05, Avg Loss : 0.1235\n",
            "Epoch: 3, Step : 260, LR : 4.7446646341463416e-05, Avg Loss : 0.1665\n",
            "Epoch: 3, Step : 270, LR : 4.7827743902439026e-05, Avg Loss : 0.1376\n",
            "Epoch: 3, Step : 280, LR : 4.8208841463414636e-05, Avg Loss : 0.1156\n",
            "Epoch: 3, Step : 290, LR : 4.8589939024390246e-05, Avg Loss : 0.1008\n",
            "Epoch: 3, Step : 300, LR : 4.8971036585365856e-05, Avg Loss : 0.1395\n",
            "Epoch: 3, Step : 310, LR : 4.9352134146341467e-05, Avg Loss : 0.1247\n",
            "Epoch: 3, Step : 320, LR : 4.973323170731708e-05, Avg Loss : 0.1401\n"
          ]
        },
        {
          "output_type": "stream",
          "name": "stderr",
          "text": [
            "03/29/2022 08:50:42 - INFO - __main__ -   ***** Running evaluation on valid dataset (1312 step) *****\n",
            "03/29/2022 08:50:42 - INFO - __main__ -     Num examples = 1167\n",
            "03/29/2022 08:50:42 - INFO - __main__ -     Eval Batch size = 64\n"
          ]
        },
        {
          "output_type": "stream",
          "name": "stdout",
          "text": [
            "Epoch 3 Train Loss : 1.0089\n",
            "*****Epoch 3 Valid Start*****\n"
          ]
        },
        {
          "output_type": "display_data",
          "data": {
            "text/plain": [
              "<IPython.core.display.HTML object>"
            ],
            "text/html": [
              "\n",
              "<style>\n",
              "    /* Turns off some styling */\n",
              "    progress {\n",
              "        /* gets rid of default border in Firefox and Opera. */\n",
              "        border: none;\n",
              "        /* Needs to be in here for Safari polyfill so background images work as expected. */\n",
              "        background-size: auto;\n",
              "    }\n",
              "    .progress-bar-interrupted, .progress-bar-interrupted::-webkit-progress-bar {\n",
              "        background: #F44336;\n",
              "    }\n",
              "</style>\n"
            ]
          },
          "metadata": {}
        },
        {
          "output_type": "display_data",
          "data": {
            "text/plain": [
              "<IPython.core.display.HTML object>"
            ],
            "text/html": [
              "\n",
              "    <div>\n",
              "      <progress value='19' class='' max='19' style='width:300px; height:20px; vertical-align: middle;'></progress>\n",
              "      100.00% [19/19 00:04<00:00]\n",
              "    </div>\n",
              "    "
            ]
          },
          "metadata": {}
        },
        {
          "output_type": "stream",
          "name": "stdout",
          "text": [
            "Epoch 3 Valid Loss : 0.3338\n",
            "*****Epoch 3 Train and Valid Finish*****\n",
            "\n"
          ]
        },
        {
          "output_type": "stream",
          "name": "stderr",
          "text": [
            "\r4it [09:06, 136.63s/it]"
          ]
        },
        {
          "output_type": "stream",
          "name": "stdout",
          "text": [
            "Saving epoch 3 checkpoint at /content/drive/MyDrive/Colab Notebooks/wanted_preonboarding/기업과제/3.STS/model/model.ckpt.3\n",
            "Epoch: 4, Step : 10, LR : 4.989519817073171e-05, Avg Loss : 0.1485\n",
            "Epoch: 4, Step : 20, LR : 4.97999237804878e-05, Avg Loss : 0.1232\n",
            "Epoch: 4, Step : 30, LR : 4.970464939024391e-05, Avg Loss : 0.1017\n",
            "Epoch: 4, Step : 40, LR : 4.9609375000000005e-05, Avg Loss : 0.0879\n",
            "Epoch: 4, Step : 50, LR : 4.9514100609756095e-05, Avg Loss : 0.1102\n",
            "Epoch: 4, Step : 60, LR : 4.94188262195122e-05, Avg Loss : 0.1369\n",
            "Epoch: 4, Step : 70, LR : 4.93235518292683e-05, Avg Loss : 0.1074\n",
            "Epoch: 4, Step : 80, LR : 4.9228277439024395e-05, Avg Loss : 0.1034\n",
            "Epoch: 4, Step : 90, LR : 4.913300304878049e-05, Avg Loss : 0.1088\n",
            "Epoch: 4, Step : 100, LR : 4.903772865853658e-05, Avg Loss : 0.0943\n",
            "Epoch: 4, Step : 110, LR : 4.894245426829269e-05, Avg Loss : 0.1192\n",
            "Epoch: 4, Step : 120, LR : 4.8847179878048785e-05, Avg Loss : 0.1019\n",
            "Epoch: 4, Step : 130, LR : 4.875190548780488e-05, Avg Loss : 0.1109\n",
            "Epoch: 4, Step : 140, LR : 4.865663109756098e-05, Avg Loss : 0.1058\n",
            "Epoch: 4, Step : 150, LR : 4.856135670731708e-05, Avg Loss : 0.0920\n",
            "Epoch: 4, Step : 160, LR : 4.8466082317073174e-05, Avg Loss : 0.0947\n",
            "Epoch: 4, Step : 170, LR : 4.837080792682927e-05, Avg Loss : 0.1290\n",
            "Epoch: 4, Step : 180, LR : 4.827553353658536e-05, Avg Loss : 0.1363\n",
            "Epoch: 4, Step : 190, LR : 4.818025914634147e-05, Avg Loss : 0.0960\n",
            "Epoch: 4, Step : 200, LR : 4.8084984756097564e-05, Avg Loss : 0.0971\n",
            "Epoch: 4, Step : 210, LR : 4.798971036585366e-05, Avg Loss : 0.0920\n",
            "Epoch: 4, Step : 220, LR : 4.789443597560976e-05, Avg Loss : 0.1038\n",
            "Epoch: 4, Step : 230, LR : 4.779916158536586e-05, Avg Loss : 0.1112\n",
            "Epoch: 4, Step : 240, LR : 4.7703887195121954e-05, Avg Loss : 0.1254\n",
            "Epoch: 4, Step : 250, LR : 4.760861280487805e-05, Avg Loss : 0.1026\n",
            "Epoch: 4, Step : 260, LR : 4.751333841463415e-05, Avg Loss : 0.1026\n",
            "Epoch: 4, Step : 270, LR : 4.741806402439025e-05, Avg Loss : 0.0982\n",
            "Epoch: 4, Step : 280, LR : 4.7322789634146344e-05, Avg Loss : 0.1047\n",
            "Epoch: 4, Step : 290, LR : 4.722751524390244e-05, Avg Loss : 0.0919\n",
            "Epoch: 4, Step : 300, LR : 4.713224085365854e-05, Avg Loss : 0.0919\n",
            "Epoch: 4, Step : 310, LR : 4.703696646341464e-05, Avg Loss : 0.1223\n",
            "Epoch: 4, Step : 320, LR : 4.6941692073170734e-05, Avg Loss : 0.1155\n"
          ]
        },
        {
          "output_type": "stream",
          "name": "stderr",
          "text": [
            "03/29/2022 08:52:58 - INFO - __main__ -   ***** Running evaluation on valid dataset (1640 step) *****\n",
            "03/29/2022 08:52:58 - INFO - __main__ -     Num examples = 1167\n",
            "03/29/2022 08:52:58 - INFO - __main__ -     Eval Batch size = 64\n"
          ]
        },
        {
          "output_type": "stream",
          "name": "stdout",
          "text": [
            "Epoch 4 Train Loss : 0.8287\n",
            "*****Epoch 4 Valid Start*****\n"
          ]
        },
        {
          "output_type": "display_data",
          "data": {
            "text/plain": [
              "<IPython.core.display.HTML object>"
            ],
            "text/html": [
              "\n",
              "<style>\n",
              "    /* Turns off some styling */\n",
              "    progress {\n",
              "        /* gets rid of default border in Firefox and Opera. */\n",
              "        border: none;\n",
              "        /* Needs to be in here for Safari polyfill so background images work as expected. */\n",
              "        background-size: auto;\n",
              "    }\n",
              "    .progress-bar-interrupted, .progress-bar-interrupted::-webkit-progress-bar {\n",
              "        background: #F44336;\n",
              "    }\n",
              "</style>\n"
            ]
          },
          "metadata": {}
        },
        {
          "output_type": "display_data",
          "data": {
            "text/plain": [
              "<IPython.core.display.HTML object>"
            ],
            "text/html": [
              "\n",
              "    <div>\n",
              "      <progress value='19' class='' max='19' style='width:300px; height:20px; vertical-align: middle;'></progress>\n",
              "      100.00% [19/19 00:04<00:00]\n",
              "    </div>\n",
              "    "
            ]
          },
          "metadata": {}
        },
        {
          "output_type": "stream",
          "name": "stdout",
          "text": [
            "Epoch 4 Valid Loss : 0.1522\n",
            "*****Epoch 4 Train and Valid Finish*****\n",
            "\n"
          ]
        },
        {
          "output_type": "stream",
          "name": "stderr",
          "text": [
            "\r5it [11:22, 136.41s/it]"
          ]
        },
        {
          "output_type": "stream",
          "name": "stdout",
          "text": [
            "Saving epoch 4 checkpoint at /content/drive/MyDrive/Colab Notebooks/wanted_preonboarding/기업과제/3.STS/model/model.ckpt.4\n",
            "Epoch: 5, Step : 10, LR : 4.677019817073171e-05, Avg Loss : 0.0900\n",
            "Epoch: 5, Step : 20, LR : 4.667492378048781e-05, Avg Loss : 0.0797\n",
            "Epoch: 5, Step : 30, LR : 4.6579649390243906e-05, Avg Loss : 0.0845\n",
            "Epoch: 5, Step : 40, LR : 4.6484375e-05, Avg Loss : 0.0813\n",
            "Epoch: 5, Step : 50, LR : 4.63891006097561e-05, Avg Loss : 0.0858\n",
            "Epoch: 5, Step : 60, LR : 4.62938262195122e-05, Avg Loss : 0.0745\n",
            "Epoch: 5, Step : 70, LR : 4.6198551829268296e-05, Avg Loss : 0.0916\n",
            "Epoch: 5, Step : 80, LR : 4.610327743902439e-05, Avg Loss : 0.0882\n",
            "Epoch: 5, Step : 90, LR : 4.600800304878049e-05, Avg Loss : 0.0657\n",
            "Epoch: 5, Step : 100, LR : 4.591272865853659e-05, Avg Loss : 0.1012\n",
            "Epoch: 5, Step : 110, LR : 4.5817454268292686e-05, Avg Loss : 0.0776\n",
            "Epoch: 5, Step : 120, LR : 4.572217987804878e-05, Avg Loss : 0.0839\n",
            "Epoch: 5, Step : 130, LR : 4.562690548780488e-05, Avg Loss : 0.0736\n",
            "Epoch: 5, Step : 140, LR : 4.553163109756098e-05, Avg Loss : 0.0978\n",
            "Epoch: 5, Step : 150, LR : 4.5436356707317076e-05, Avg Loss : 0.0736\n",
            "Epoch: 5, Step : 160, LR : 4.534108231707317e-05, Avg Loss : 0.0810\n",
            "Epoch: 5, Step : 170, LR : 4.524580792682927e-05, Avg Loss : 0.0938\n",
            "Epoch: 5, Step : 180, LR : 4.515053353658537e-05, Avg Loss : 0.0832\n",
            "Epoch: 5, Step : 190, LR : 4.5055259146341465e-05, Avg Loss : 0.0871\n",
            "Epoch: 5, Step : 200, LR : 4.495998475609756e-05, Avg Loss : 0.0709\n",
            "Epoch: 5, Step : 210, LR : 4.486471036585366e-05, Avg Loss : 0.0977\n",
            "Epoch: 5, Step : 220, LR : 4.476943597560976e-05, Avg Loss : 0.0719\n",
            "Epoch: 5, Step : 230, LR : 4.4674161585365855e-05, Avg Loss : 0.0678\n",
            "Epoch: 5, Step : 240, LR : 4.457888719512195e-05, Avg Loss : 0.0773\n",
            "Epoch: 5, Step : 250, LR : 4.448361280487805e-05, Avg Loss : 0.0811\n",
            "Epoch: 5, Step : 260, LR : 4.438833841463415e-05, Avg Loss : 0.0799\n",
            "Epoch: 5, Step : 270, LR : 4.4293064024390245e-05, Avg Loss : 0.0775\n",
            "Epoch: 5, Step : 280, LR : 4.419778963414634e-05, Avg Loss : 0.0993\n",
            "Epoch: 5, Step : 290, LR : 4.410251524390244e-05, Avg Loss : 0.0831\n",
            "Epoch: 5, Step : 300, LR : 4.400724085365854e-05, Avg Loss : 0.0794\n",
            "Epoch: 5, Step : 310, LR : 4.391196646341464e-05, Avg Loss : 0.1152\n",
            "Epoch: 5, Step : 320, LR : 4.381669207317073e-05, Avg Loss : 0.0685\n"
          ]
        },
        {
          "output_type": "stream",
          "name": "stderr",
          "text": [
            "03/29/2022 08:55:14 - INFO - __main__ -   ***** Running evaluation on valid dataset (1968 step) *****\n",
            "03/29/2022 08:55:14 - INFO - __main__ -     Num examples = 1167\n",
            "03/29/2022 08:55:14 - INFO - __main__ -     Eval Batch size = 64\n"
          ]
        },
        {
          "output_type": "stream",
          "name": "stdout",
          "text": [
            "Epoch 5 Train Loss : 0.7044\n",
            "*****Epoch 5 Valid Start*****\n"
          ]
        },
        {
          "output_type": "display_data",
          "data": {
            "text/plain": [
              "<IPython.core.display.HTML object>"
            ],
            "text/html": [
              "\n",
              "<style>\n",
              "    /* Turns off some styling */\n",
              "    progress {\n",
              "        /* gets rid of default border in Firefox and Opera. */\n",
              "        border: none;\n",
              "        /* Needs to be in here for Safari polyfill so background images work as expected. */\n",
              "        background-size: auto;\n",
              "    }\n",
              "    .progress-bar-interrupted, .progress-bar-interrupted::-webkit-progress-bar {\n",
              "        background: #F44336;\n",
              "    }\n",
              "</style>\n"
            ]
          },
          "metadata": {}
        },
        {
          "output_type": "display_data",
          "data": {
            "text/plain": [
              "<IPython.core.display.HTML object>"
            ],
            "text/html": [
              "\n",
              "    <div>\n",
              "      <progress value='19' class='' max='19' style='width:300px; height:20px; vertical-align: middle;'></progress>\n",
              "      100.00% [19/19 00:04<00:00]\n",
              "    </div>\n",
              "    "
            ]
          },
          "metadata": {}
        },
        {
          "output_type": "stream",
          "name": "stdout",
          "text": [
            "Epoch 5 Valid Loss : 0.1763\n",
            "*****Epoch 5 Train and Valid Finish*****\n",
            "\n"
          ]
        },
        {
          "output_type": "stream",
          "name": "stderr",
          "text": [
            "\r6it [13:40, 136.69s/it]"
          ]
        },
        {
          "output_type": "stream",
          "name": "stdout",
          "text": [
            "Saving epoch 5 checkpoint at /content/drive/MyDrive/Colab Notebooks/wanted_preonboarding/기업과제/3.STS/model/model.ckpt.5\n",
            "Epoch: 6, Step : 10, LR : 4.364519817073171e-05, Avg Loss : 0.0733\n",
            "Epoch: 6, Step : 20, LR : 4.354992378048781e-05, Avg Loss : 0.0676\n",
            "Epoch: 6, Step : 30, LR : 4.3454649390243904e-05, Avg Loss : 0.0666\n",
            "Epoch: 6, Step : 40, LR : 4.3359375e-05, Avg Loss : 0.0660\n",
            "Epoch: 6, Step : 50, LR : 4.32641006097561e-05, Avg Loss : 0.0595\n",
            "Epoch: 6, Step : 60, LR : 4.31688262195122e-05, Avg Loss : 0.0667\n",
            "Epoch: 6, Step : 70, LR : 4.3073551829268294e-05, Avg Loss : 0.0621\n",
            "Epoch: 6, Step : 80, LR : 4.297827743902439e-05, Avg Loss : 0.0550\n",
            "Epoch: 6, Step : 90, LR : 4.288300304878049e-05, Avg Loss : 0.0714\n",
            "Epoch: 6, Step : 100, LR : 4.278772865853659e-05, Avg Loss : 0.0478\n",
            "Epoch: 6, Step : 110, LR : 4.2692454268292684e-05, Avg Loss : 0.0673\n",
            "Epoch: 6, Step : 120, LR : 4.259717987804878e-05, Avg Loss : 0.0658\n",
            "Epoch: 6, Step : 130, LR : 4.2501905487804886e-05, Avg Loss : 0.0572\n",
            "Epoch: 6, Step : 140, LR : 4.240663109756098e-05, Avg Loss : 0.0626\n",
            "Epoch: 6, Step : 150, LR : 4.2311356707317074e-05, Avg Loss : 0.0527\n",
            "Epoch: 6, Step : 160, LR : 4.221608231707317e-05, Avg Loss : 0.0659\n",
            "Epoch: 6, Step : 170, LR : 4.212080792682927e-05, Avg Loss : 0.0700\n",
            "Epoch: 6, Step : 180, LR : 4.2025533536585367e-05, Avg Loss : 0.0619\n",
            "Epoch: 6, Step : 190, LR : 4.1930259146341464e-05, Avg Loss : 0.0532\n",
            "Epoch: 6, Step : 200, LR : 4.183498475609756e-05, Avg Loss : 0.0532\n",
            "Epoch: 6, Step : 210, LR : 4.1739710365853666e-05, Avg Loss : 0.0669\n",
            "Epoch: 6, Step : 220, LR : 4.1644435975609756e-05, Avg Loss : 0.0647\n",
            "Epoch: 6, Step : 230, LR : 4.1549161585365854e-05, Avg Loss : 0.0650\n",
            "Epoch: 6, Step : 240, LR : 4.145388719512195e-05, Avg Loss : 0.0829\n",
            "Epoch: 6, Step : 250, LR : 4.135861280487805e-05, Avg Loss : 0.0623\n",
            "Epoch: 6, Step : 260, LR : 4.126333841463415e-05, Avg Loss : 0.0708\n",
            "Epoch: 6, Step : 270, LR : 4.1168064024390244e-05, Avg Loss : 0.0697\n",
            "Epoch: 6, Step : 280, LR : 4.107278963414634e-05, Avg Loss : 0.0848\n",
            "Epoch: 6, Step : 290, LR : 4.0977515243902446e-05, Avg Loss : 0.0863\n",
            "Epoch: 6, Step : 300, LR : 4.0882240853658536e-05, Avg Loss : 0.0949\n",
            "Epoch: 6, Step : 310, LR : 4.078696646341464e-05, Avg Loss : 0.0580\n",
            "Epoch: 6, Step : 320, LR : 4.069169207317073e-05, Avg Loss : 0.0521\n"
          ]
        },
        {
          "output_type": "stream",
          "name": "stderr",
          "text": [
            "03/29/2022 08:57:32 - INFO - __main__ -   ***** Running evaluation on valid dataset (2296 step) *****\n",
            "03/29/2022 08:57:32 - INFO - __main__ -     Num examples = 1167\n",
            "03/29/2022 08:57:32 - INFO - __main__ -     Eval Batch size = 64\n"
          ]
        },
        {
          "output_type": "stream",
          "name": "stdout",
          "text": [
            "Epoch 6 Train Loss : 0.613\n",
            "*****Epoch 6 Valid Start*****\n"
          ]
        },
        {
          "output_type": "display_data",
          "data": {
            "text/plain": [
              "<IPython.core.display.HTML object>"
            ],
            "text/html": [
              "\n",
              "<style>\n",
              "    /* Turns off some styling */\n",
              "    progress {\n",
              "        /* gets rid of default border in Firefox and Opera. */\n",
              "        border: none;\n",
              "        /* Needs to be in here for Safari polyfill so background images work as expected. */\n",
              "        background-size: auto;\n",
              "    }\n",
              "    .progress-bar-interrupted, .progress-bar-interrupted::-webkit-progress-bar {\n",
              "        background: #F44336;\n",
              "    }\n",
              "</style>\n"
            ]
          },
          "metadata": {}
        },
        {
          "output_type": "display_data",
          "data": {
            "text/plain": [
              "<IPython.core.display.HTML object>"
            ],
            "text/html": [
              "\n",
              "    <div>\n",
              "      <progress value='19' class='' max='19' style='width:300px; height:20px; vertical-align: middle;'></progress>\n",
              "      100.00% [19/19 00:04<00:00]\n",
              "    </div>\n",
              "    "
            ]
          },
          "metadata": {}
        },
        {
          "output_type": "stream",
          "name": "stdout",
          "text": [
            "Epoch 6 Valid Loss : 0.1612\n",
            "*****Epoch 6 Train and Valid Finish*****\n",
            "\n"
          ]
        },
        {
          "output_type": "stream",
          "name": "stderr",
          "text": [
            "\r7it [15:56, 136.56s/it]"
          ]
        },
        {
          "output_type": "stream",
          "name": "stdout",
          "text": [
            "Saving epoch 6 checkpoint at /content/drive/MyDrive/Colab Notebooks/wanted_preonboarding/기업과제/3.STS/model/model.ckpt.6\n",
            "Epoch: 7, Step : 10, LR : 4.052019817073171e-05, Avg Loss : 0.0488\n",
            "Epoch: 7, Step : 20, LR : 4.0424923780487806e-05, Avg Loss : 0.0610\n",
            "Epoch: 7, Step : 30, LR : 4.032964939024391e-05, Avg Loss : 0.0562\n",
            "Epoch: 7, Step : 40, LR : 4.0234375e-05, Avg Loss : 0.0550\n",
            "Epoch: 7, Step : 50, LR : 4.01391006097561e-05, Avg Loss : 0.0446\n",
            "Epoch: 7, Step : 60, LR : 4.0043826219512195e-05, Avg Loss : 0.0437\n",
            "Epoch: 7, Step : 70, LR : 3.994855182926829e-05, Avg Loss : 0.0477\n",
            "Epoch: 7, Step : 80, LR : 3.98532774390244e-05, Avg Loss : 0.0622\n",
            "Epoch: 7, Step : 90, LR : 3.975800304878049e-05, Avg Loss : 0.0655\n",
            "Epoch: 7, Step : 100, LR : 3.9662728658536585e-05, Avg Loss : 0.0523\n",
            "Epoch: 7, Step : 110, LR : 3.956745426829269e-05, Avg Loss : 0.0588\n",
            "Epoch: 7, Step : 120, LR : 3.947217987804878e-05, Avg Loss : 0.0531\n",
            "Epoch: 7, Step : 130, LR : 3.9376905487804885e-05, Avg Loss : 0.0568\n",
            "Epoch: 7, Step : 140, LR : 3.9281631097560975e-05, Avg Loss : 0.0494\n",
            "Epoch: 7, Step : 150, LR : 3.918635670731707e-05, Avg Loss : 0.0617\n",
            "Epoch: 7, Step : 160, LR : 3.909108231707318e-05, Avg Loss : 0.0630\n",
            "Epoch: 7, Step : 170, LR : 3.899580792682927e-05, Avg Loss : 0.0491\n",
            "Epoch: 7, Step : 180, LR : 3.8900533536585365e-05, Avg Loss : 0.0519\n",
            "Epoch: 7, Step : 190, LR : 3.880525914634147e-05, Avg Loss : 0.0473\n",
            "Epoch: 7, Step : 200, LR : 3.870998475609756e-05, Avg Loss : 0.0510\n",
            "Epoch: 7, Step : 210, LR : 3.8614710365853664e-05, Avg Loss : 0.0507\n",
            "Epoch: 7, Step : 220, LR : 3.8519435975609755e-05, Avg Loss : 0.0482\n",
            "Epoch: 7, Step : 230, LR : 3.842416158536585e-05, Avg Loss : 0.0486\n",
            "Epoch: 7, Step : 240, LR : 3.832888719512196e-05, Avg Loss : 0.0503\n",
            "Epoch: 7, Step : 250, LR : 3.823361280487805e-05, Avg Loss : 0.0531\n",
            "Epoch: 7, Step : 260, LR : 3.813833841463415e-05, Avg Loss : 0.0573\n",
            "Epoch: 7, Step : 270, LR : 3.804306402439025e-05, Avg Loss : 0.0405\n",
            "Epoch: 7, Step : 280, LR : 3.794778963414634e-05, Avg Loss : 0.0492\n",
            "Epoch: 7, Step : 290, LR : 3.7852515243902444e-05, Avg Loss : 0.0436\n",
            "Epoch: 7, Step : 300, LR : 3.7757240853658535e-05, Avg Loss : 0.0513\n",
            "Epoch: 7, Step : 310, LR : 3.766196646341464e-05, Avg Loss : 0.0551\n",
            "Epoch: 7, Step : 320, LR : 3.756669207317074e-05, Avg Loss : 0.0473\n"
          ]
        },
        {
          "output_type": "stream",
          "name": "stderr",
          "text": [
            "03/29/2022 08:59:48 - INFO - __main__ -   ***** Running evaluation on valid dataset (2624 step) *****\n",
            "03/29/2022 08:59:48 - INFO - __main__ -     Num examples = 1167\n",
            "03/29/2022 08:59:48 - INFO - __main__ -     Eval Batch size = 64\n"
          ]
        },
        {
          "output_type": "stream",
          "name": "stdout",
          "text": [
            "Epoch 7 Train Loss : 0.5429\n",
            "*****Epoch 7 Valid Start*****\n"
          ]
        },
        {
          "output_type": "display_data",
          "data": {
            "text/plain": [
              "<IPython.core.display.HTML object>"
            ],
            "text/html": [
              "\n",
              "<style>\n",
              "    /* Turns off some styling */\n",
              "    progress {\n",
              "        /* gets rid of default border in Firefox and Opera. */\n",
              "        border: none;\n",
              "        /* Needs to be in here for Safari polyfill so background images work as expected. */\n",
              "        background-size: auto;\n",
              "    }\n",
              "    .progress-bar-interrupted, .progress-bar-interrupted::-webkit-progress-bar {\n",
              "        background: #F44336;\n",
              "    }\n",
              "</style>\n"
            ]
          },
          "metadata": {}
        },
        {
          "output_type": "display_data",
          "data": {
            "text/plain": [
              "<IPython.core.display.HTML object>"
            ],
            "text/html": [
              "\n",
              "    <div>\n",
              "      <progress value='19' class='' max='19' style='width:300px; height:20px; vertical-align: middle;'></progress>\n",
              "      100.00% [19/19 00:04<00:00]\n",
              "    </div>\n",
              "    "
            ]
          },
          "metadata": {}
        },
        {
          "output_type": "stream",
          "name": "stdout",
          "text": [
            "Epoch 7 Valid Loss : 0.1988\n",
            "*****Epoch 7 Train and Valid Finish*****\n",
            "\n"
          ]
        },
        {
          "output_type": "stream",
          "name": "stderr",
          "text": [
            "\r8it [18:14, 137.11s/it]"
          ]
        },
        {
          "output_type": "stream",
          "name": "stdout",
          "text": [
            "Saving epoch 7 checkpoint at /content/drive/MyDrive/Colab Notebooks/wanted_preonboarding/기업과제/3.STS/model/model.ckpt.7\n",
            "Epoch: 8, Step : 10, LR : 3.7395198170731713e-05, Avg Loss : 0.0483\n",
            "Epoch: 8, Step : 20, LR : 3.7299923780487804e-05, Avg Loss : 0.0379\n",
            "Epoch: 8, Step : 30, LR : 3.720464939024391e-05, Avg Loss : 0.0500\n",
            "Epoch: 8, Step : 40, LR : 3.7109375e-05, Avg Loss : 0.0486\n",
            "Epoch: 8, Step : 50, LR : 3.7014100609756097e-05, Avg Loss : 0.0421\n",
            "Epoch: 8, Step : 60, LR : 3.69188262195122e-05, Avg Loss : 0.0412\n",
            "Epoch: 8, Step : 70, LR : 3.682355182926829e-05, Avg Loss : 0.0333\n",
            "Epoch: 8, Step : 80, LR : 3.6728277439024396e-05, Avg Loss : 0.0394\n",
            "Epoch: 8, Step : 90, LR : 3.6633003048780486e-05, Avg Loss : 0.0482\n",
            "Epoch: 8, Step : 100, LR : 3.6537728658536584e-05, Avg Loss : 0.0371\n",
            "Epoch: 8, Step : 110, LR : 3.644245426829269e-05, Avg Loss : 0.0351\n",
            "Epoch: 8, Step : 120, LR : 3.634717987804878e-05, Avg Loss : 0.0481\n",
            "Epoch: 8, Step : 130, LR : 3.625190548780488e-05, Avg Loss : 0.0452\n",
            "Epoch: 8, Step : 140, LR : 3.615663109756098e-05, Avg Loss : 0.0460\n",
            "Epoch: 8, Step : 150, LR : 3.606135670731707e-05, Avg Loss : 0.0438\n",
            "Epoch: 8, Step : 160, LR : 3.5966082317073176e-05, Avg Loss : 0.0424\n",
            "Epoch: 8, Step : 170, LR : 3.5870807926829266e-05, Avg Loss : 0.0407\n",
            "Epoch: 8, Step : 180, LR : 3.5775533536585364e-05, Avg Loss : 0.0358\n",
            "Epoch: 8, Step : 190, LR : 3.568025914634147e-05, Avg Loss : 0.0387\n",
            "Epoch: 8, Step : 200, LR : 3.558498475609756e-05, Avg Loss : 0.0371\n",
            "Epoch: 8, Step : 210, LR : 3.548971036585366e-05, Avg Loss : 0.0423\n",
            "Epoch: 8, Step : 220, LR : 3.539443597560976e-05, Avg Loss : 0.0461\n",
            "Epoch: 8, Step : 230, LR : 3.529916158536585e-05, Avg Loss : 0.0412\n",
            "Epoch: 8, Step : 240, LR : 3.5203887195121955e-05, Avg Loss : 0.0388\n",
            "Epoch: 8, Step : 250, LR : 3.5108612804878046e-05, Avg Loss : 0.0521\n",
            "Epoch: 8, Step : 260, LR : 3.501333841463415e-05, Avg Loss : 0.0350\n",
            "Epoch: 8, Step : 270, LR : 3.491806402439025e-05, Avg Loss : 0.0393\n",
            "Epoch: 8, Step : 280, LR : 3.482278963414634e-05, Avg Loss : 0.0473\n",
            "Epoch: 8, Step : 290, LR : 3.472751524390244e-05, Avg Loss : 0.0458\n",
            "Epoch: 8, Step : 300, LR : 3.463224085365854e-05, Avg Loss : 0.0375\n",
            "Epoch: 8, Step : 310, LR : 3.453696646341464e-05, Avg Loss : 0.0396\n",
            "Epoch: 8, Step : 320, LR : 3.4441692073170735e-05, Avg Loss : 0.0395\n"
          ]
        },
        {
          "output_type": "stream",
          "name": "stderr",
          "text": [
            "03/29/2022 09:02:06 - INFO - __main__ -   ***** Running evaluation on valid dataset (2952 step) *****\n",
            "03/29/2022 09:02:06 - INFO - __main__ -     Num examples = 1167\n",
            "03/29/2022 09:02:06 - INFO - __main__ -     Eval Batch size = 64\n"
          ]
        },
        {
          "output_type": "stream",
          "name": "stdout",
          "text": [
            "Epoch 8 Train Loss : 0.4873\n",
            "*****Epoch 8 Valid Start*****\n"
          ]
        },
        {
          "output_type": "display_data",
          "data": {
            "text/plain": [
              "<IPython.core.display.HTML object>"
            ],
            "text/html": [
              "\n",
              "<style>\n",
              "    /* Turns off some styling */\n",
              "    progress {\n",
              "        /* gets rid of default border in Firefox and Opera. */\n",
              "        border: none;\n",
              "        /* Needs to be in here for Safari polyfill so background images work as expected. */\n",
              "        background-size: auto;\n",
              "    }\n",
              "    .progress-bar-interrupted, .progress-bar-interrupted::-webkit-progress-bar {\n",
              "        background: #F44336;\n",
              "    }\n",
              "</style>\n"
            ]
          },
          "metadata": {}
        },
        {
          "output_type": "display_data",
          "data": {
            "text/plain": [
              "<IPython.core.display.HTML object>"
            ],
            "text/html": [
              "\n",
              "    <div>\n",
              "      <progress value='19' class='' max='19' style='width:300px; height:20px; vertical-align: middle;'></progress>\n",
              "      100.00% [19/19 00:04<00:00]\n",
              "    </div>\n",
              "    "
            ]
          },
          "metadata": {}
        },
        {
          "output_type": "stream",
          "name": "stdout",
          "text": [
            "Epoch 8 Valid Loss : 0.1840\n",
            "*****Epoch 8 Train and Valid Finish*****\n",
            "\n"
          ]
        },
        {
          "output_type": "stream",
          "name": "stderr",
          "text": [
            "\r9it [20:30, 136.78s/it]"
          ]
        },
        {
          "output_type": "stream",
          "name": "stdout",
          "text": [
            "Saving epoch 8 checkpoint at /content/drive/MyDrive/Colab Notebooks/wanted_preonboarding/기업과제/3.STS/model/model.ckpt.8\n",
            "Epoch: 9, Step : 10, LR : 3.427019817073171e-05, Avg Loss : 0.0431\n",
            "Epoch: 9, Step : 20, LR : 3.41749237804878e-05, Avg Loss : 0.0367\n",
            "Epoch: 9, Step : 30, LR : 3.407964939024391e-05, Avg Loss : 0.0307\n",
            "Epoch: 9, Step : 40, LR : 3.3984375000000004e-05, Avg Loss : 0.0346\n",
            "Epoch: 9, Step : 50, LR : 3.3889100609756095e-05, Avg Loss : 0.0397\n",
            "Epoch: 9, Step : 60, LR : 3.37938262195122e-05, Avg Loss : 0.0353\n",
            "Epoch: 9, Step : 70, LR : 3.369855182926829e-05, Avg Loss : 0.0369\n",
            "Epoch: 9, Step : 80, LR : 3.3603277439024394e-05, Avg Loss : 0.0356\n",
            "Epoch: 9, Step : 90, LR : 3.350800304878049e-05, Avg Loss : 0.0345\n",
            "Epoch: 9, Step : 100, LR : 3.341272865853658e-05, Avg Loss : 0.0369\n",
            "Epoch: 9, Step : 110, LR : 3.331745426829269e-05, Avg Loss : 0.0312\n",
            "Epoch: 9, Step : 120, LR : 3.3222179878048784e-05, Avg Loss : 0.0304\n",
            "Epoch: 9, Step : 130, LR : 3.312690548780488e-05, Avg Loss : 0.0305\n",
            "Epoch: 9, Step : 140, LR : 3.303163109756098e-05, Avg Loss : 0.0408\n",
            "Epoch: 9, Step : 150, LR : 3.293635670731707e-05, Avg Loss : 0.0325\n",
            "Epoch: 9, Step : 160, LR : 3.2841082317073174e-05, Avg Loss : 0.0309\n",
            "Epoch: 9, Step : 170, LR : 3.274580792682927e-05, Avg Loss : 0.0339\n",
            "Epoch: 9, Step : 180, LR : 3.265053353658536e-05, Avg Loss : 0.0312\n",
            "Epoch: 9, Step : 190, LR : 3.2555259146341467e-05, Avg Loss : 0.0307\n",
            "Epoch: 9, Step : 200, LR : 3.2459984756097564e-05, Avg Loss : 0.0384\n",
            "Epoch: 9, Step : 210, LR : 3.236471036585366e-05, Avg Loss : 0.0367\n",
            "Epoch: 9, Step : 220, LR : 3.226943597560976e-05, Avg Loss : 0.0337\n",
            "Epoch: 9, Step : 230, LR : 3.217416158536585e-05, Avg Loss : 0.0386\n",
            "Epoch: 9, Step : 240, LR : 3.2078887195121954e-05, Avg Loss : 0.0370\n",
            "Epoch: 9, Step : 250, LR : 3.198361280487805e-05, Avg Loss : 0.0364\n",
            "Epoch: 9, Step : 260, LR : 3.188833841463415e-05, Avg Loss : 0.0370\n",
            "Epoch: 9, Step : 270, LR : 3.1793064024390246e-05, Avg Loss : 0.0392\n",
            "Epoch: 9, Step : 280, LR : 3.1697789634146344e-05, Avg Loss : 0.0367\n",
            "Epoch: 9, Step : 290, LR : 3.160251524390244e-05, Avg Loss : 0.0407\n",
            "Epoch: 9, Step : 300, LR : 3.150724085365854e-05, Avg Loss : 0.0496\n",
            "Epoch: 9, Step : 310, LR : 3.1411966463414636e-05, Avg Loss : 0.0425\n",
            "Epoch: 9, Step : 320, LR : 3.1316692073170734e-05, Avg Loss : 0.0361\n"
          ]
        },
        {
          "output_type": "stream",
          "name": "stderr",
          "text": [
            "03/29/2022 09:04:22 - INFO - __main__ -   ***** Running evaluation on valid dataset (3280 step) *****\n",
            "03/29/2022 09:04:22 - INFO - __main__ -     Num examples = 1167\n",
            "03/29/2022 09:04:22 - INFO - __main__ -     Eval Batch size = 64\n"
          ]
        },
        {
          "output_type": "stream",
          "name": "stdout",
          "text": [
            "Epoch 9 Train Loss : 0.4422\n",
            "*****Epoch 9 Valid Start*****\n"
          ]
        },
        {
          "output_type": "display_data",
          "data": {
            "text/plain": [
              "<IPython.core.display.HTML object>"
            ],
            "text/html": [
              "\n",
              "<style>\n",
              "    /* Turns off some styling */\n",
              "    progress {\n",
              "        /* gets rid of default border in Firefox and Opera. */\n",
              "        border: none;\n",
              "        /* Needs to be in here for Safari polyfill so background images work as expected. */\n",
              "        background-size: auto;\n",
              "    }\n",
              "    .progress-bar-interrupted, .progress-bar-interrupted::-webkit-progress-bar {\n",
              "        background: #F44336;\n",
              "    }\n",
              "</style>\n"
            ]
          },
          "metadata": {}
        },
        {
          "output_type": "display_data",
          "data": {
            "text/plain": [
              "<IPython.core.display.HTML object>"
            ],
            "text/html": [
              "\n",
              "    <div>\n",
              "      <progress value='19' class='' max='19' style='width:300px; height:20px; vertical-align: middle;'></progress>\n",
              "      100.00% [19/19 00:04<00:00]\n",
              "    </div>\n",
              "    "
            ]
          },
          "metadata": {}
        },
        {
          "output_type": "stream",
          "name": "stdout",
          "text": [
            "Epoch 9 Valid Loss : 0.1842\n",
            "*****Epoch 9 Train and Valid Finish*****\n",
            "\n"
          ]
        },
        {
          "output_type": "stream",
          "name": "stderr",
          "text": [
            "\r10it [22:46, 136.49s/it]"
          ]
        },
        {
          "output_type": "stream",
          "name": "stdout",
          "text": [
            "Saving epoch 9 checkpoint at /content/drive/MyDrive/Colab Notebooks/wanted_preonboarding/기업과제/3.STS/model/model.ckpt.9\n",
            "Epoch: 10, Step : 10, LR : 3.114519817073171e-05, Avg Loss : 0.0292\n",
            "Epoch: 10, Step : 20, LR : 3.104992378048781e-05, Avg Loss : 0.0348\n",
            "Epoch: 10, Step : 30, LR : 3.0954649390243906e-05, Avg Loss : 0.0316\n",
            "Epoch: 10, Step : 40, LR : 3.0859375e-05, Avg Loss : 0.0309\n",
            "Epoch: 10, Step : 50, LR : 3.0764100609756094e-05, Avg Loss : 0.0302\n",
            "Epoch: 10, Step : 60, LR : 3.06688262195122e-05, Avg Loss : 0.0321\n",
            "Epoch: 10, Step : 70, LR : 3.0573551829268295e-05, Avg Loss : 0.0356\n",
            "Epoch: 10, Step : 80, LR : 3.0478277439024393e-05, Avg Loss : 0.0279\n",
            "Epoch: 10, Step : 90, LR : 3.038300304878049e-05, Avg Loss : 0.0279\n",
            "Epoch: 10, Step : 100, LR : 3.0287728658536584e-05, Avg Loss : 0.0294\n",
            "Epoch: 10, Step : 110, LR : 3.0192454268292685e-05, Avg Loss : 0.0300\n",
            "Epoch: 10, Step : 120, LR : 3.0097179878048783e-05, Avg Loss : 0.0390\n",
            "Epoch: 10, Step : 130, LR : 3.0001905487804884e-05, Avg Loss : 0.0431\n",
            "Epoch: 10, Step : 140, LR : 2.9906631097560978e-05, Avg Loss : 0.0232\n",
            "Epoch: 10, Step : 150, LR : 2.9811356707317072e-05, Avg Loss : 0.0253\n",
            "Epoch: 10, Step : 160, LR : 2.9716082317073173e-05, Avg Loss : 0.0314\n",
            "Epoch: 10, Step : 170, LR : 2.962080792682927e-05, Avg Loss : 0.0312\n",
            "Epoch: 10, Step : 180, LR : 2.9525533536585364e-05, Avg Loss : 0.0308\n",
            "Epoch: 10, Step : 190, LR : 2.9430259146341465e-05, Avg Loss : 0.0352\n",
            "Epoch: 10, Step : 200, LR : 2.9334984756097563e-05, Avg Loss : 0.0347\n",
            "Epoch: 10, Step : 210, LR : 2.9239710365853664e-05, Avg Loss : 0.0400\n",
            "Epoch: 10, Step : 220, LR : 2.9144435975609758e-05, Avg Loss : 0.0297\n",
            "Epoch: 10, Step : 230, LR : 2.904916158536585e-05, Avg Loss : 0.0277\n",
            "Epoch: 10, Step : 240, LR : 2.8953887195121953e-05, Avg Loss : 0.0297\n",
            "Epoch: 10, Step : 250, LR : 2.885861280487805e-05, Avg Loss : 0.0316\n",
            "Epoch: 10, Step : 260, LR : 2.876333841463415e-05, Avg Loss : 0.0298\n",
            "Epoch: 10, Step : 270, LR : 2.8668064024390245e-05, Avg Loss : 0.0453\n",
            "Epoch: 10, Step : 280, LR : 2.8572789634146342e-05, Avg Loss : 0.0373\n",
            "Epoch: 10, Step : 290, LR : 2.8477515243902443e-05, Avg Loss : 0.0323\n",
            "Epoch: 10, Step : 300, LR : 2.8382240853658537e-05, Avg Loss : 0.0407\n",
            "Epoch: 10, Step : 310, LR : 2.8286966463414638e-05, Avg Loss : 0.0376\n",
            "Epoch: 10, Step : 320, LR : 2.8191692073170732e-05, Avg Loss : 0.0316\n"
          ]
        },
        {
          "output_type": "stream",
          "name": "stderr",
          "text": [
            "03/29/2022 09:06:38 - INFO - __main__ -   ***** Running evaluation on valid dataset (3608 step) *****\n",
            "03/29/2022 09:06:38 - INFO - __main__ -     Num examples = 1167\n",
            "03/29/2022 09:06:38 - INFO - __main__ -     Eval Batch size = 64\n"
          ]
        },
        {
          "output_type": "stream",
          "name": "stdout",
          "text": [
            "Epoch 10 Train Loss : 0.4049\n",
            "*****Epoch 10 Valid Start*****\n"
          ]
        },
        {
          "output_type": "display_data",
          "data": {
            "text/plain": [
              "<IPython.core.display.HTML object>"
            ],
            "text/html": [
              "\n",
              "<style>\n",
              "    /* Turns off some styling */\n",
              "    progress {\n",
              "        /* gets rid of default border in Firefox and Opera. */\n",
              "        border: none;\n",
              "        /* Needs to be in here for Safari polyfill so background images work as expected. */\n",
              "        background-size: auto;\n",
              "    }\n",
              "    .progress-bar-interrupted, .progress-bar-interrupted::-webkit-progress-bar {\n",
              "        background: #F44336;\n",
              "    }\n",
              "</style>\n"
            ]
          },
          "metadata": {}
        },
        {
          "output_type": "display_data",
          "data": {
            "text/plain": [
              "<IPython.core.display.HTML object>"
            ],
            "text/html": [
              "\n",
              "    <div>\n",
              "      <progress value='19' class='' max='19' style='width:300px; height:20px; vertical-align: middle;'></progress>\n",
              "      100.00% [19/19 00:04<00:00]\n",
              "    </div>\n",
              "    "
            ]
          },
          "metadata": {}
        },
        {
          "output_type": "stream",
          "name": "stdout",
          "text": [
            "Epoch 10 Valid Loss : 0.1807\n",
            "*****Epoch 10 Train and Valid Finish*****\n",
            "\n"
          ]
        },
        {
          "output_type": "stream",
          "name": "stderr",
          "text": [
            "\r11it [25:02, 136.31s/it]"
          ]
        },
        {
          "output_type": "stream",
          "name": "stdout",
          "text": [
            "Saving epoch 10 checkpoint at /content/drive/MyDrive/Colab Notebooks/wanted_preonboarding/기업과제/3.STS/model/model.ckpt.10\n",
            "Epoch: 11, Step : 10, LR : 2.802019817073171e-05, Avg Loss : 0.0291\n",
            "Epoch: 11, Step : 20, LR : 2.7924923780487807e-05, Avg Loss : 0.0265\n",
            "Epoch: 11, Step : 30, LR : 2.7829649390243908e-05, Avg Loss : 0.0282\n",
            "Epoch: 11, Step : 40, LR : 2.7734375e-05, Avg Loss : 0.0301\n",
            "Epoch: 11, Step : 50, LR : 2.7639100609756096e-05, Avg Loss : 0.0225\n",
            "Epoch: 11, Step : 60, LR : 2.7543826219512197e-05, Avg Loss : 0.0269\n",
            "Epoch: 11, Step : 70, LR : 2.7448551829268294e-05, Avg Loss : 0.0278\n",
            "Epoch: 11, Step : 80, LR : 2.7353277439024395e-05, Avg Loss : 0.0256\n",
            "Epoch: 11, Step : 90, LR : 2.725800304878049e-05, Avg Loss : 0.0254\n",
            "Epoch: 11, Step : 100, LR : 2.7162728658536586e-05, Avg Loss : 0.0326\n",
            "Epoch: 11, Step : 110, LR : 2.7067454268292687e-05, Avg Loss : 0.0254\n",
            "Epoch: 11, Step : 120, LR : 2.697217987804878e-05, Avg Loss : 0.0268\n",
            "Epoch: 11, Step : 130, LR : 2.6876905487804882e-05, Avg Loss : 0.0262\n",
            "Epoch: 11, Step : 140, LR : 2.6781631097560976e-05, Avg Loss : 0.0320\n",
            "Epoch: 11, Step : 150, LR : 2.6686356707317074e-05, Avg Loss : 0.0280\n",
            "Epoch: 11, Step : 160, LR : 2.6591082317073175e-05, Avg Loss : 0.0345\n",
            "Epoch: 11, Step : 170, LR : 2.649580792682927e-05, Avg Loss : 0.0280\n",
            "Epoch: 11, Step : 180, LR : 2.6400533536585363e-05, Avg Loss : 0.0323\n",
            "Epoch: 11, Step : 190, LR : 2.6305259146341467e-05, Avg Loss : 0.0439\n",
            "Epoch: 11, Step : 200, LR : 2.620998475609756e-05, Avg Loss : 0.0300\n",
            "Epoch: 11, Step : 210, LR : 2.6114710365853662e-05, Avg Loss : 0.0314\n",
            "Epoch: 11, Step : 220, LR : 2.6019435975609756e-05, Avg Loss : 0.0289\n",
            "Epoch: 11, Step : 230, LR : 2.5924161585365854e-05, Avg Loss : 0.0294\n",
            "Epoch: 11, Step : 240, LR : 2.5828887195121955e-05, Avg Loss : 0.0309\n",
            "Epoch: 11, Step : 250, LR : 2.573361280487805e-05, Avg Loss : 0.0293\n",
            "Epoch: 11, Step : 260, LR : 2.563833841463415e-05, Avg Loss : 0.0294\n",
            "Epoch: 11, Step : 270, LR : 2.5543064024390247e-05, Avg Loss : 0.0261\n",
            "Epoch: 11, Step : 280, LR : 2.544778963414634e-05, Avg Loss : 0.0262\n",
            "Epoch: 11, Step : 290, LR : 2.5352515243902442e-05, Avg Loss : 0.0270\n",
            "Epoch: 11, Step : 300, LR : 2.5257240853658536e-05, Avg Loss : 0.0206\n",
            "Epoch: 11, Step : 310, LR : 2.5161966463414637e-05, Avg Loss : 0.0314\n",
            "Epoch: 11, Step : 320, LR : 2.5066692073170734e-05, Avg Loss : 0.0285\n"
          ]
        },
        {
          "output_type": "stream",
          "name": "stderr",
          "text": [
            "03/29/2022 09:08:54 - INFO - __main__ -   ***** Running evaluation on valid dataset (3936 step) *****\n",
            "03/29/2022 09:08:54 - INFO - __main__ -     Num examples = 1167\n",
            "03/29/2022 09:08:54 - INFO - __main__ -     Eval Batch size = 64\n"
          ]
        },
        {
          "output_type": "stream",
          "name": "stdout",
          "text": [
            "Epoch 11 Train Loss : 0.3736\n",
            "*****Epoch 11 Valid Start*****\n"
          ]
        },
        {
          "output_type": "display_data",
          "data": {
            "text/plain": [
              "<IPython.core.display.HTML object>"
            ],
            "text/html": [
              "\n",
              "<style>\n",
              "    /* Turns off some styling */\n",
              "    progress {\n",
              "        /* gets rid of default border in Firefox and Opera. */\n",
              "        border: none;\n",
              "        /* Needs to be in here for Safari polyfill so background images work as expected. */\n",
              "        background-size: auto;\n",
              "    }\n",
              "    .progress-bar-interrupted, .progress-bar-interrupted::-webkit-progress-bar {\n",
              "        background: #F44336;\n",
              "    }\n",
              "</style>\n"
            ]
          },
          "metadata": {}
        },
        {
          "output_type": "display_data",
          "data": {
            "text/plain": [
              "<IPython.core.display.HTML object>"
            ],
            "text/html": [
              "\n",
              "    <div>\n",
              "      <progress value='19' class='' max='19' style='width:300px; height:20px; vertical-align: middle;'></progress>\n",
              "      100.00% [19/19 00:04<00:00]\n",
              "    </div>\n",
              "    "
            ]
          },
          "metadata": {}
        },
        {
          "output_type": "stream",
          "name": "stdout",
          "text": [
            "Epoch 11 Valid Loss : 0.1810\n",
            "*****Epoch 11 Train and Valid Finish*****\n",
            "\n"
          ]
        },
        {
          "output_type": "stream",
          "name": "stderr",
          "text": [
            "\r12it [27:19, 136.54s/it]"
          ]
        },
        {
          "output_type": "stream",
          "name": "stdout",
          "text": [
            "Saving epoch 11 checkpoint at /content/drive/MyDrive/Colab Notebooks/wanted_preonboarding/기업과제/3.STS/model/model.ckpt.11\n",
            "Epoch: 12, Step : 10, LR : 2.489519817073171e-05, Avg Loss : 0.0289\n",
            "Epoch: 12, Step : 20, LR : 2.4799923780487805e-05, Avg Loss : 0.0264\n",
            "Epoch: 12, Step : 30, LR : 2.4704649390243903e-05, Avg Loss : 0.0271\n",
            "Epoch: 12, Step : 40, LR : 2.4609375e-05, Avg Loss : 0.0268\n",
            "Epoch: 12, Step : 50, LR : 2.45141006097561e-05, Avg Loss : 0.0261\n",
            "Epoch: 12, Step : 60, LR : 2.44188262195122e-05, Avg Loss : 0.0228\n",
            "Epoch: 12, Step : 70, LR : 2.4323551829268293e-05, Avg Loss : 0.0234\n",
            "Epoch: 12, Step : 80, LR : 2.422827743902439e-05, Avg Loss : 0.0226\n",
            "Epoch: 12, Step : 90, LR : 2.4133003048780488e-05, Avg Loss : 0.0198\n",
            "Epoch: 12, Step : 100, LR : 2.403772865853659e-05, Avg Loss : 0.0283\n",
            "Epoch: 12, Step : 110, LR : 2.3942454268292683e-05, Avg Loss : 0.0230\n",
            "Epoch: 12, Step : 120, LR : 2.384717987804878e-05, Avg Loss : 0.0215\n",
            "Epoch: 12, Step : 130, LR : 2.3751905487804877e-05, Avg Loss : 0.0200\n",
            "Epoch: 12, Step : 140, LR : 2.365663109756098e-05, Avg Loss : 0.0228\n",
            "Epoch: 12, Step : 150, LR : 2.3561356707317076e-05, Avg Loss : 0.0245\n",
            "Epoch: 12, Step : 160, LR : 2.346608231707317e-05, Avg Loss : 0.0216\n",
            "Epoch: 12, Step : 170, LR : 2.3370807926829267e-05, Avg Loss : 0.0175\n",
            "Epoch: 12, Step : 180, LR : 2.3275533536585368e-05, Avg Loss : 0.0287\n",
            "Epoch: 12, Step : 190, LR : 2.3180259146341466e-05, Avg Loss : 0.0216\n",
            "Epoch: 12, Step : 200, LR : 2.308498475609756e-05, Avg Loss : 0.0265\n",
            "Epoch: 12, Step : 210, LR : 2.2989710365853657e-05, Avg Loss : 0.0214\n",
            "Epoch: 12, Step : 220, LR : 2.2894435975609758e-05, Avg Loss : 0.0292\n",
            "Epoch: 12, Step : 230, LR : 2.2799161585365856e-05, Avg Loss : 0.0229\n",
            "Epoch: 12, Step : 240, LR : 2.2703887195121953e-05, Avg Loss : 0.0238\n",
            "Epoch: 12, Step : 250, LR : 2.2608612804878047e-05, Avg Loss : 0.0228\n",
            "Epoch: 12, Step : 260, LR : 2.2513338414634148e-05, Avg Loss : 0.0205\n",
            "Epoch: 12, Step : 270, LR : 2.2418064024390246e-05, Avg Loss : 0.0262\n",
            "Epoch: 12, Step : 280, LR : 2.2322789634146343e-05, Avg Loss : 0.0265\n",
            "Epoch: 12, Step : 290, LR : 2.222751524390244e-05, Avg Loss : 0.0221\n",
            "Epoch: 12, Step : 300, LR : 2.2132240853658538e-05, Avg Loss : 0.0207\n",
            "Epoch: 12, Step : 310, LR : 2.2036966463414635e-05, Avg Loss : 0.0239\n",
            "Epoch: 12, Step : 320, LR : 2.1941692073170733e-05, Avg Loss : 0.0237\n"
          ]
        },
        {
          "output_type": "stream",
          "name": "stderr",
          "text": [
            "03/29/2022 09:11:11 - INFO - __main__ -   ***** Running evaluation on valid dataset (4264 step) *****\n",
            "03/29/2022 09:11:11 - INFO - __main__ -     Num examples = 1167\n",
            "03/29/2022 09:11:11 - INFO - __main__ -     Eval Batch size = 64\n"
          ]
        },
        {
          "output_type": "stream",
          "name": "stdout",
          "text": [
            "Epoch 12 Train Loss : 0.3467\n",
            "*****Epoch 12 Valid Start*****\n"
          ]
        },
        {
          "output_type": "display_data",
          "data": {
            "text/plain": [
              "<IPython.core.display.HTML object>"
            ],
            "text/html": [
              "\n",
              "<style>\n",
              "    /* Turns off some styling */\n",
              "    progress {\n",
              "        /* gets rid of default border in Firefox and Opera. */\n",
              "        border: none;\n",
              "        /* Needs to be in here for Safari polyfill so background images work as expected. */\n",
              "        background-size: auto;\n",
              "    }\n",
              "    .progress-bar-interrupted, .progress-bar-interrupted::-webkit-progress-bar {\n",
              "        background: #F44336;\n",
              "    }\n",
              "</style>\n"
            ]
          },
          "metadata": {}
        },
        {
          "output_type": "display_data",
          "data": {
            "text/plain": [
              "<IPython.core.display.HTML object>"
            ],
            "text/html": [
              "\n",
              "    <div>\n",
              "      <progress value='19' class='' max='19' style='width:300px; height:20px; vertical-align: middle;'></progress>\n",
              "      100.00% [19/19 00:04<00:00]\n",
              "    </div>\n",
              "    "
            ]
          },
          "metadata": {}
        },
        {
          "output_type": "stream",
          "name": "stdout",
          "text": [
            "Epoch 12 Valid Loss : 0.2045\n",
            "*****Epoch 12 Train and Valid Finish*****\n",
            "\n"
          ]
        },
        {
          "output_type": "stream",
          "name": "stderr",
          "text": [
            "\r13it [29:36, 136.74s/it]"
          ]
        },
        {
          "output_type": "stream",
          "name": "stdout",
          "text": [
            "Saving epoch 12 checkpoint at /content/drive/MyDrive/Colab Notebooks/wanted_preonboarding/기업과제/3.STS/model/model.ckpt.12\n",
            "Epoch: 13, Step : 10, LR : 2.177019817073171e-05, Avg Loss : 0.0245\n",
            "Epoch: 13, Step : 20, LR : 2.1674923780487804e-05, Avg Loss : 0.0196\n",
            "Epoch: 13, Step : 30, LR : 2.15796493902439e-05, Avg Loss : 0.0188\n",
            "Epoch: 13, Step : 40, LR : 2.1484375000000002e-05, Avg Loss : 0.0191\n",
            "Epoch: 13, Step : 50, LR : 2.13891006097561e-05, Avg Loss : 0.0187\n",
            "Epoch: 13, Step : 60, LR : 2.1293826219512197e-05, Avg Loss : 0.0164\n",
            "Epoch: 13, Step : 70, LR : 2.119855182926829e-05, Avg Loss : 0.0201\n",
            "Epoch: 13, Step : 80, LR : 2.1103277439024392e-05, Avg Loss : 0.0179\n",
            "Epoch: 13, Step : 90, LR : 2.100800304878049e-05, Avg Loss : 0.0175\n",
            "Epoch: 13, Step : 100, LR : 2.0912728658536587e-05, Avg Loss : 0.0217\n",
            "Epoch: 13, Step : 110, LR : 2.081745426829268e-05, Avg Loss : 0.0209\n",
            "Epoch: 13, Step : 120, LR : 2.0722179878048782e-05, Avg Loss : 0.0210\n",
            "Epoch: 13, Step : 130, LR : 2.062690548780488e-05, Avg Loss : 0.0193\n",
            "Epoch: 13, Step : 140, LR : 2.0531631097560977e-05, Avg Loss : 0.0198\n",
            "Epoch: 13, Step : 150, LR : 2.0436356707317074e-05, Avg Loss : 0.0212\n",
            "Epoch: 13, Step : 160, LR : 2.0341082317073172e-05, Avg Loss : 0.0178\n",
            "Epoch: 13, Step : 170, LR : 2.024580792682927e-05, Avg Loss : 0.0181\n",
            "Epoch: 13, Step : 180, LR : 2.0150533536585367e-05, Avg Loss : 0.0279\n",
            "Epoch: 13, Step : 190, LR : 2.0055259146341464e-05, Avg Loss : 0.0212\n",
            "Epoch: 13, Step : 200, LR : 1.9959984756097562e-05, Avg Loss : 0.0222\n",
            "Epoch: 13, Step : 210, LR : 1.986471036585366e-05, Avg Loss : 0.0195\n",
            "Epoch: 13, Step : 220, LR : 1.9769435975609757e-05, Avg Loss : 0.0194\n",
            "Epoch: 13, Step : 230, LR : 1.9674161585365854e-05, Avg Loss : 0.0180\n",
            "Epoch: 13, Step : 240, LR : 1.957888719512195e-05, Avg Loss : 0.0203\n",
            "Epoch: 13, Step : 250, LR : 1.948361280487805e-05, Avg Loss : 0.0192\n",
            "Epoch: 13, Step : 260, LR : 1.9388338414634147e-05, Avg Loss : 0.0162\n",
            "Epoch: 13, Step : 270, LR : 1.9293064024390244e-05, Avg Loss : 0.0215\n",
            "Epoch: 13, Step : 280, LR : 1.919778963414634e-05, Avg Loss : 0.0178\n",
            "Epoch: 13, Step : 290, LR : 1.9102515243902442e-05, Avg Loss : 0.0215\n",
            "Epoch: 13, Step : 300, LR : 1.9007240853658537e-05, Avg Loss : 0.0235\n",
            "Epoch: 13, Step : 310, LR : 1.8911966463414634e-05, Avg Loss : 0.0203\n",
            "Epoch: 13, Step : 320, LR : 1.881669207317073e-05, Avg Loss : 0.0181\n"
          ]
        },
        {
          "output_type": "stream",
          "name": "stderr",
          "text": [
            "03/29/2022 09:13:28 - INFO - __main__ -   ***** Running evaluation on valid dataset (4592 step) *****\n",
            "03/29/2022 09:13:28 - INFO - __main__ -     Num examples = 1167\n",
            "03/29/2022 09:13:28 - INFO - __main__ -     Eval Batch size = 64\n"
          ]
        },
        {
          "output_type": "stream",
          "name": "stdout",
          "text": [
            "Epoch 13 Train Loss : 0.3233\n",
            "*****Epoch 13 Valid Start*****\n"
          ]
        },
        {
          "output_type": "display_data",
          "data": {
            "text/plain": [
              "<IPython.core.display.HTML object>"
            ],
            "text/html": [
              "\n",
              "<style>\n",
              "    /* Turns off some styling */\n",
              "    progress {\n",
              "        /* gets rid of default border in Firefox and Opera. */\n",
              "        border: none;\n",
              "        /* Needs to be in here for Safari polyfill so background images work as expected. */\n",
              "        background-size: auto;\n",
              "    }\n",
              "    .progress-bar-interrupted, .progress-bar-interrupted::-webkit-progress-bar {\n",
              "        background: #F44336;\n",
              "    }\n",
              "</style>\n"
            ]
          },
          "metadata": {}
        },
        {
          "output_type": "display_data",
          "data": {
            "text/plain": [
              "<IPython.core.display.HTML object>"
            ],
            "text/html": [
              "\n",
              "    <div>\n",
              "      <progress value='19' class='' max='19' style='width:300px; height:20px; vertical-align: middle;'></progress>\n",
              "      100.00% [19/19 00:04<00:00]\n",
              "    </div>\n",
              "    "
            ]
          },
          "metadata": {}
        },
        {
          "output_type": "stream",
          "name": "stdout",
          "text": [
            "Epoch 13 Valid Loss : 0.1779\n",
            "*****Epoch 13 Train and Valid Finish*****\n",
            "\n"
          ]
        },
        {
          "output_type": "stream",
          "name": "stderr",
          "text": [
            "\r14it [31:54, 136.92s/it]"
          ]
        },
        {
          "output_type": "stream",
          "name": "stdout",
          "text": [
            "Saving epoch 13 checkpoint at /content/drive/MyDrive/Colab Notebooks/wanted_preonboarding/기업과제/3.STS/model/model.ckpt.13\n",
            "Epoch: 14, Step : 10, LR : 1.8645198170731708e-05, Avg Loss : 0.0166\n",
            "Epoch: 14, Step : 20, LR : 1.8549923780487806e-05, Avg Loss : 0.0199\n",
            "Epoch: 14, Step : 30, LR : 1.8454649390243903e-05, Avg Loss : 0.0206\n",
            "Epoch: 14, Step : 40, LR : 1.8359375e-05, Avg Loss : 0.0197\n",
            "Epoch: 14, Step : 50, LR : 1.8264100609756098e-05, Avg Loss : 0.0163\n",
            "Epoch: 14, Step : 60, LR : 1.8168826219512196e-05, Avg Loss : 0.0184\n",
            "Epoch: 14, Step : 70, LR : 1.8073551829268293e-05, Avg Loss : 0.0181\n",
            "Epoch: 14, Step : 80, LR : 1.797827743902439e-05, Avg Loss : 0.0189\n",
            "Epoch: 14, Step : 90, LR : 1.7883003048780488e-05, Avg Loss : 0.0169\n",
            "Epoch: 14, Step : 100, LR : 1.7787728658536586e-05, Avg Loss : 0.0206\n",
            "Epoch: 14, Step : 110, LR : 1.7692454268292683e-05, Avg Loss : 0.0169\n",
            "Epoch: 14, Step : 120, LR : 1.759717987804878e-05, Avg Loss : 0.0198\n",
            "Epoch: 14, Step : 130, LR : 1.7501905487804878e-05, Avg Loss : 0.0182\n",
            "Epoch: 14, Step : 140, LR : 1.7406631097560975e-05, Avg Loss : 0.0161\n",
            "Epoch: 14, Step : 150, LR : 1.7311356707317076e-05, Avg Loss : 0.0216\n",
            "Epoch: 14, Step : 160, LR : 1.721608231707317e-05, Avg Loss : 0.0279\n",
            "Epoch: 14, Step : 170, LR : 1.7120807926829268e-05, Avg Loss : 0.0172\n",
            "Epoch: 14, Step : 180, LR : 1.7025533536585365e-05, Avg Loss : 0.0196\n",
            "Epoch: 14, Step : 190, LR : 1.6930259146341466e-05, Avg Loss : 0.0203\n",
            "Epoch: 14, Step : 200, LR : 1.683498475609756e-05, Avg Loss : 0.0150\n",
            "Epoch: 14, Step : 210, LR : 1.6739710365853658e-05, Avg Loss : 0.0208\n",
            "Epoch: 14, Step : 220, LR : 1.6644435975609755e-05, Avg Loss : 0.0157\n",
            "Epoch: 14, Step : 230, LR : 1.6549161585365856e-05, Avg Loss : 0.0182\n",
            "Epoch: 14, Step : 240, LR : 1.6453887195121954e-05, Avg Loss : 0.0162\n",
            "Epoch: 14, Step : 250, LR : 1.6358612804878048e-05, Avg Loss : 0.0153\n",
            "Epoch: 14, Step : 260, LR : 1.6263338414634145e-05, Avg Loss : 0.0177\n",
            "Epoch: 14, Step : 270, LR : 1.6168064024390246e-05, Avg Loss : 0.0149\n",
            "Epoch: 14, Step : 280, LR : 1.6072789634146344e-05, Avg Loss : 0.0195\n",
            "Epoch: 14, Step : 290, LR : 1.597751524390244e-05, Avg Loss : 0.0195\n",
            "Epoch: 14, Step : 300, LR : 1.5882240853658535e-05, Avg Loss : 0.0168\n",
            "Epoch: 14, Step : 310, LR : 1.5786966463414636e-05, Avg Loss : 0.0179\n",
            "Epoch: 14, Step : 320, LR : 1.5691692073170733e-05, Avg Loss : 0.0170\n"
          ]
        },
        {
          "output_type": "stream",
          "name": "stderr",
          "text": [
            "03/29/2022 09:15:45 - INFO - __main__ -   ***** Running evaluation on valid dataset (4920 step) *****\n",
            "03/29/2022 09:15:45 - INFO - __main__ -     Num examples = 1167\n",
            "03/29/2022 09:15:45 - INFO - __main__ -     Eval Batch size = 64\n"
          ]
        },
        {
          "output_type": "stream",
          "name": "stdout",
          "text": [
            "Epoch 14 Train Loss : 0.303\n",
            "*****Epoch 14 Valid Start*****\n"
          ]
        },
        {
          "output_type": "display_data",
          "data": {
            "text/plain": [
              "<IPython.core.display.HTML object>"
            ],
            "text/html": [
              "\n",
              "<style>\n",
              "    /* Turns off some styling */\n",
              "    progress {\n",
              "        /* gets rid of default border in Firefox and Opera. */\n",
              "        border: none;\n",
              "        /* Needs to be in here for Safari polyfill so background images work as expected. */\n",
              "        background-size: auto;\n",
              "    }\n",
              "    .progress-bar-interrupted, .progress-bar-interrupted::-webkit-progress-bar {\n",
              "        background: #F44336;\n",
              "    }\n",
              "</style>\n"
            ]
          },
          "metadata": {}
        },
        {
          "output_type": "display_data",
          "data": {
            "text/plain": [
              "<IPython.core.display.HTML object>"
            ],
            "text/html": [
              "\n",
              "    <div>\n",
              "      <progress value='19' class='' max='19' style='width:300px; height:20px; vertical-align: middle;'></progress>\n",
              "      100.00% [19/19 00:04<00:00]\n",
              "    </div>\n",
              "    "
            ]
          },
          "metadata": {}
        },
        {
          "output_type": "stream",
          "name": "stdout",
          "text": [
            "Epoch 14 Valid Loss : 0.1483\n",
            "*****Epoch 14 Train and Valid Finish*****\n",
            "\n"
          ]
        },
        {
          "output_type": "stream",
          "name": "stderr",
          "text": [
            "\r15it [34:10, 136.78s/it]"
          ]
        },
        {
          "output_type": "stream",
          "name": "stdout",
          "text": [
            "Saving epoch 14 checkpoint at /content/drive/MyDrive/Colab Notebooks/wanted_preonboarding/기업과제/3.STS/model/model.ckpt.14\n",
            "Epoch: 15, Step : 10, LR : 1.552019817073171e-05, Avg Loss : 0.0142\n",
            "Epoch: 15, Step : 20, LR : 1.5424923780487804e-05, Avg Loss : 0.0165\n",
            "Epoch: 15, Step : 30, LR : 1.5329649390243902e-05, Avg Loss : 0.0164\n",
            "Epoch: 15, Step : 40, LR : 1.5234375000000001e-05, Avg Loss : 0.0167\n",
            "Epoch: 15, Step : 50, LR : 1.5139100609756098e-05, Avg Loss : 0.0144\n",
            "Epoch: 15, Step : 60, LR : 1.5043826219512198e-05, Avg Loss : 0.0173\n",
            "Epoch: 15, Step : 70, LR : 1.4948551829268292e-05, Avg Loss : 0.0162\n",
            "Epoch: 15, Step : 80, LR : 1.4853277439024391e-05, Avg Loss : 0.0135\n",
            "Epoch: 15, Step : 90, LR : 1.4758003048780488e-05, Avg Loss : 0.0132\n",
            "Epoch: 15, Step : 100, LR : 1.4662728658536588e-05, Avg Loss : 0.0151\n",
            "Epoch: 15, Step : 110, LR : 1.4567454268292682e-05, Avg Loss : 0.0167\n",
            "Epoch: 15, Step : 120, LR : 1.447217987804878e-05, Avg Loss : 0.0260\n",
            "Epoch: 15, Step : 130, LR : 1.4376905487804878e-05, Avg Loss : 0.0176\n",
            "Epoch: 15, Step : 140, LR : 1.4281631097560977e-05, Avg Loss : 0.0147\n",
            "Epoch: 15, Step : 150, LR : 1.4186356707317075e-05, Avg Loss : 0.0133\n",
            "Epoch: 15, Step : 160, LR : 1.409108231707317e-05, Avg Loss : 0.0155\n",
            "Epoch: 15, Step : 170, LR : 1.3995807926829268e-05, Avg Loss : 0.0177\n",
            "Epoch: 15, Step : 180, LR : 1.3900533536585367e-05, Avg Loss : 0.0140\n",
            "Epoch: 15, Step : 190, LR : 1.3805259146341465e-05, Avg Loss : 0.0155\n",
            "Epoch: 15, Step : 200, LR : 1.370998475609756e-05, Avg Loss : 0.0167\n",
            "Epoch: 15, Step : 210, LR : 1.3614710365853658e-05, Avg Loss : 0.0163\n",
            "Epoch: 15, Step : 220, LR : 1.3519435975609757e-05, Avg Loss : 0.0129\n",
            "Epoch: 15, Step : 230, LR : 1.3424161585365855e-05, Avg Loss : 0.0152\n",
            "Epoch: 15, Step : 240, LR : 1.3328887195121952e-05, Avg Loss : 0.0171\n",
            "Epoch: 15, Step : 250, LR : 1.3233612804878048e-05, Avg Loss : 0.0171\n",
            "Epoch: 15, Step : 260, LR : 1.3138338414634147e-05, Avg Loss : 0.0183\n",
            "Epoch: 15, Step : 270, LR : 1.3043064024390245e-05, Avg Loss : 0.0181\n",
            "Epoch: 15, Step : 280, LR : 1.2947789634146342e-05, Avg Loss : 0.0156\n",
            "Epoch: 15, Step : 290, LR : 1.2852515243902441e-05, Avg Loss : 0.0146\n",
            "Epoch: 15, Step : 300, LR : 1.2757240853658537e-05, Avg Loss : 0.0179\n",
            "Epoch: 15, Step : 310, LR : 1.2661966463414635e-05, Avg Loss : 0.0146\n",
            "Epoch: 15, Step : 320, LR : 1.2566692073170732e-05, Avg Loss : 0.0143\n"
          ]
        },
        {
          "output_type": "stream",
          "name": "stderr",
          "text": [
            "03/29/2022 09:18:02 - INFO - __main__ -   ***** Running evaluation on valid dataset (5248 step) *****\n",
            "03/29/2022 09:18:02 - INFO - __main__ -     Num examples = 1167\n",
            "03/29/2022 09:18:02 - INFO - __main__ -     Eval Batch size = 64\n"
          ]
        },
        {
          "output_type": "stream",
          "name": "stdout",
          "text": [
            "Epoch 15 Train Loss : 0.2851\n",
            "*****Epoch 15 Valid Start*****\n"
          ]
        },
        {
          "output_type": "display_data",
          "data": {
            "text/plain": [
              "<IPython.core.display.HTML object>"
            ],
            "text/html": [
              "\n",
              "<style>\n",
              "    /* Turns off some styling */\n",
              "    progress {\n",
              "        /* gets rid of default border in Firefox and Opera. */\n",
              "        border: none;\n",
              "        /* Needs to be in here for Safari polyfill so background images work as expected. */\n",
              "        background-size: auto;\n",
              "    }\n",
              "    .progress-bar-interrupted, .progress-bar-interrupted::-webkit-progress-bar {\n",
              "        background: #F44336;\n",
              "    }\n",
              "</style>\n"
            ]
          },
          "metadata": {}
        },
        {
          "output_type": "display_data",
          "data": {
            "text/plain": [
              "<IPython.core.display.HTML object>"
            ],
            "text/html": [
              "\n",
              "    <div>\n",
              "      <progress value='19' class='' max='19' style='width:300px; height:20px; vertical-align: middle;'></progress>\n",
              "      100.00% [19/19 00:04<00:00]\n",
              "    </div>\n",
              "    "
            ]
          },
          "metadata": {}
        },
        {
          "output_type": "stream",
          "name": "stdout",
          "text": [
            "Epoch 15 Valid Loss : 0.1510\n",
            "*****Epoch 15 Train and Valid Finish*****\n",
            "\n"
          ]
        },
        {
          "output_type": "stream",
          "name": "stderr",
          "text": [
            "\r16it [36:26, 136.49s/it]"
          ]
        },
        {
          "output_type": "stream",
          "name": "stdout",
          "text": [
            "Saving epoch 15 checkpoint at /content/drive/MyDrive/Colab Notebooks/wanted_preonboarding/기업과제/3.STS/model/model.ckpt.15\n",
            "Epoch: 16, Step : 10, LR : 1.2395198170731707e-05, Avg Loss : 0.0140\n",
            "Epoch: 16, Step : 20, LR : 1.2299923780487806e-05, Avg Loss : 0.0139\n",
            "Epoch: 16, Step : 30, LR : 1.2204649390243902e-05, Avg Loss : 0.0127\n",
            "Epoch: 16, Step : 40, LR : 1.2109375000000001e-05, Avg Loss : 0.0146\n",
            "Epoch: 16, Step : 50, LR : 1.2014100609756099e-05, Avg Loss : 0.0135\n",
            "Epoch: 16, Step : 60, LR : 1.1918826219512196e-05, Avg Loss : 0.0124\n",
            "Epoch: 16, Step : 70, LR : 1.1823551829268294e-05, Avg Loss : 0.0120\n",
            "Epoch: 16, Step : 80, LR : 1.1728277439024391e-05, Avg Loss : 0.0155\n",
            "Epoch: 16, Step : 90, LR : 1.1633003048780489e-05, Avg Loss : 0.0140\n",
            "Epoch: 16, Step : 100, LR : 1.1537728658536586e-05, Avg Loss : 0.0146\n",
            "Epoch: 16, Step : 110, LR : 1.1442454268292684e-05, Avg Loss : 0.0130\n",
            "Epoch: 16, Step : 120, LR : 1.1347179878048781e-05, Avg Loss : 0.0138\n",
            "Epoch: 16, Step : 130, LR : 1.1251905487804879e-05, Avg Loss : 0.0148\n",
            "Epoch: 16, Step : 140, LR : 1.1156631097560976e-05, Avg Loss : 0.0135\n",
            "Epoch: 16, Step : 150, LR : 1.1061356707317074e-05, Avg Loss : 0.0127\n",
            "Epoch: 16, Step : 160, LR : 1.0966082317073171e-05, Avg Loss : 0.0145\n",
            "Epoch: 16, Step : 170, LR : 1.0870807926829268e-05, Avg Loss : 0.0147\n",
            "Epoch: 16, Step : 180, LR : 1.0775533536585366e-05, Avg Loss : 0.0103\n",
            "Epoch: 16, Step : 190, LR : 1.0680259146341463e-05, Avg Loss : 0.0160\n",
            "Epoch: 16, Step : 200, LR : 1.0584984756097561e-05, Avg Loss : 0.0133\n",
            "Epoch: 16, Step : 210, LR : 1.048971036585366e-05, Avg Loss : 0.0139\n",
            "Epoch: 16, Step : 220, LR : 1.0394435975609756e-05, Avg Loss : 0.0253\n",
            "Epoch: 16, Step : 230, LR : 1.0299161585365855e-05, Avg Loss : 0.0148\n",
            "Epoch: 16, Step : 240, LR : 1.020388719512195e-05, Avg Loss : 0.0128\n",
            "Epoch: 16, Step : 250, LR : 1.010861280487805e-05, Avg Loss : 0.0121\n",
            "Epoch: 16, Step : 260, LR : 1.0013338414634146e-05, Avg Loss : 0.0138\n",
            "Epoch: 16, Step : 270, LR : 9.918064024390245e-06, Avg Loss : 0.0129\n",
            "Epoch: 16, Step : 280, LR : 9.82278963414634e-06, Avg Loss : 0.0128\n",
            "Epoch: 16, Step : 290, LR : 9.72751524390244e-06, Avg Loss : 0.0140\n",
            "Epoch: 16, Step : 300, LR : 9.632240853658537e-06, Avg Loss : 0.0143\n",
            "Epoch: 16, Step : 310, LR : 9.536966463414635e-06, Avg Loss : 0.0138\n",
            "Epoch: 16, Step : 320, LR : 9.441692073170732e-06, Avg Loss : 0.0125\n"
          ]
        },
        {
          "output_type": "stream",
          "name": "stderr",
          "text": [
            "03/29/2022 09:20:18 - INFO - __main__ -   ***** Running evaluation on valid dataset (5576 step) *****\n",
            "03/29/2022 09:20:18 - INFO - __main__ -     Num examples = 1167\n",
            "03/29/2022 09:20:18 - INFO - __main__ -     Eval Batch size = 64\n"
          ]
        },
        {
          "output_type": "stream",
          "name": "stdout",
          "text": [
            "Epoch 16 Train Loss : 0.2691\n",
            "*****Epoch 16 Valid Start*****\n"
          ]
        },
        {
          "output_type": "display_data",
          "data": {
            "text/plain": [
              "<IPython.core.display.HTML object>"
            ],
            "text/html": [
              "\n",
              "<style>\n",
              "    /* Turns off some styling */\n",
              "    progress {\n",
              "        /* gets rid of default border in Firefox and Opera. */\n",
              "        border: none;\n",
              "        /* Needs to be in here for Safari polyfill so background images work as expected. */\n",
              "        background-size: auto;\n",
              "    }\n",
              "    .progress-bar-interrupted, .progress-bar-interrupted::-webkit-progress-bar {\n",
              "        background: #F44336;\n",
              "    }\n",
              "</style>\n"
            ]
          },
          "metadata": {}
        },
        {
          "output_type": "display_data",
          "data": {
            "text/plain": [
              "<IPython.core.display.HTML object>"
            ],
            "text/html": [
              "\n",
              "    <div>\n",
              "      <progress value='19' class='' max='19' style='width:300px; height:20px; vertical-align: middle;'></progress>\n",
              "      100.00% [19/19 00:04<00:00]\n",
              "    </div>\n",
              "    "
            ]
          },
          "metadata": {}
        },
        {
          "output_type": "stream",
          "name": "stdout",
          "text": [
            "Epoch 16 Valid Loss : 0.1729\n",
            "*****Epoch 16 Train and Valid Finish*****\n",
            "\n"
          ]
        },
        {
          "output_type": "stream",
          "name": "stderr",
          "text": [
            "\r17it [38:42, 136.39s/it]"
          ]
        },
        {
          "output_type": "stream",
          "name": "stdout",
          "text": [
            "Saving epoch 16 checkpoint at /content/drive/MyDrive/Colab Notebooks/wanted_preonboarding/기업과제/3.STS/model/model.ckpt.16\n",
            "Epoch: 17, Step : 10, LR : 9.270198170731707e-06, Avg Loss : 0.0174\n",
            "Epoch: 17, Step : 20, LR : 9.174923780487805e-06, Avg Loss : 0.0130\n",
            "Epoch: 17, Step : 30, LR : 9.079649390243902e-06, Avg Loss : 0.0141\n",
            "Epoch: 17, Step : 40, LR : 8.984375e-06, Avg Loss : 0.0121\n",
            "Epoch: 17, Step : 50, LR : 8.889100609756099e-06, Avg Loss : 0.0121\n",
            "Epoch: 17, Step : 60, LR : 8.793826219512195e-06, Avg Loss : 0.0152\n",
            "Epoch: 17, Step : 70, LR : 8.698551829268294e-06, Avg Loss : 0.0136\n",
            "Epoch: 17, Step : 80, LR : 8.60327743902439e-06, Avg Loss : 0.0118\n",
            "Epoch: 17, Step : 90, LR : 8.508003048780489e-06, Avg Loss : 0.0114\n",
            "Epoch: 17, Step : 100, LR : 8.412728658536585e-06, Avg Loss : 0.0132\n",
            "Epoch: 17, Step : 110, LR : 8.317454268292684e-06, Avg Loss : 0.0117\n",
            "Epoch: 17, Step : 120, LR : 8.22217987804878e-06, Avg Loss : 0.0126\n",
            "Epoch: 17, Step : 130, LR : 8.126905487804879e-06, Avg Loss : 0.0116\n",
            "Epoch: 17, Step : 140, LR : 8.031631097560976e-06, Avg Loss : 0.0141\n",
            "Epoch: 17, Step : 150, LR : 7.936356707317074e-06, Avg Loss : 0.0106\n",
            "Epoch: 17, Step : 160, LR : 7.841082317073171e-06, Avg Loss : 0.0112\n",
            "Epoch: 17, Step : 170, LR : 7.745807926829269e-06, Avg Loss : 0.0144\n",
            "Epoch: 17, Step : 180, LR : 7.650533536585366e-06, Avg Loss : 0.0108\n",
            "Epoch: 17, Step : 190, LR : 7.555259146341463e-06, Avg Loss : 0.0116\n",
            "Epoch: 17, Step : 200, LR : 7.459984756097561e-06, Avg Loss : 0.0116\n",
            "Epoch: 17, Step : 210, LR : 7.3647103658536595e-06, Avg Loss : 0.0126\n",
            "Epoch: 17, Step : 220, LR : 7.269435975609756e-06, Avg Loss : 0.0125\n",
            "Epoch: 17, Step : 230, LR : 7.1741615853658544e-06, Avg Loss : 0.0128\n",
            "Epoch: 17, Step : 240, LR : 7.078887195121951e-06, Avg Loss : 0.0128\n",
            "Epoch: 17, Step : 250, LR : 6.983612804878049e-06, Avg Loss : 0.0150\n",
            "Epoch: 17, Step : 260, LR : 6.888338414634146e-06, Avg Loss : 0.0130\n",
            "Epoch: 17, Step : 270, LR : 6.793064024390244e-06, Avg Loss : 0.0097\n",
            "Epoch: 17, Step : 280, LR : 6.697789634146341e-06, Avg Loss : 0.0126\n",
            "Epoch: 17, Step : 290, LR : 6.602515243902439e-06, Avg Loss : 0.0129\n",
            "Epoch: 17, Step : 300, LR : 6.507240853658538e-06, Avg Loss : 0.0119\n",
            "Epoch: 17, Step : 310, LR : 6.411966463414634e-06, Avg Loss : 0.0127\n",
            "Epoch: 17, Step : 320, LR : 6.3166920731707326e-06, Avg Loss : 0.0134\n"
          ]
        },
        {
          "output_type": "stream",
          "name": "stderr",
          "text": [
            "03/29/2022 09:22:34 - INFO - __main__ -   ***** Running evaluation on valid dataset (5904 step) *****\n",
            "03/29/2022 09:22:34 - INFO - __main__ -     Num examples = 1167\n",
            "03/29/2022 09:22:34 - INFO - __main__ -     Eval Batch size = 64\n"
          ]
        },
        {
          "output_type": "stream",
          "name": "stdout",
          "text": [
            "Epoch 17 Train Loss : 0.2549\n",
            "*****Epoch 17 Valid Start*****\n"
          ]
        },
        {
          "output_type": "display_data",
          "data": {
            "text/plain": [
              "<IPython.core.display.HTML object>"
            ],
            "text/html": [
              "\n",
              "<style>\n",
              "    /* Turns off some styling */\n",
              "    progress {\n",
              "        /* gets rid of default border in Firefox and Opera. */\n",
              "        border: none;\n",
              "        /* Needs to be in here for Safari polyfill so background images work as expected. */\n",
              "        background-size: auto;\n",
              "    }\n",
              "    .progress-bar-interrupted, .progress-bar-interrupted::-webkit-progress-bar {\n",
              "        background: #F44336;\n",
              "    }\n",
              "</style>\n"
            ]
          },
          "metadata": {}
        },
        {
          "output_type": "display_data",
          "data": {
            "text/plain": [
              "<IPython.core.display.HTML object>"
            ],
            "text/html": [
              "\n",
              "    <div>\n",
              "      <progress value='19' class='' max='19' style='width:300px; height:20px; vertical-align: middle;'></progress>\n",
              "      100.00% [19/19 00:04<00:00]\n",
              "    </div>\n",
              "    "
            ]
          },
          "metadata": {}
        },
        {
          "output_type": "stream",
          "name": "stdout",
          "text": [
            "Epoch 17 Valid Loss : 0.1623\n",
            "*****Epoch 17 Train and Valid Finish*****\n",
            "\n"
          ]
        },
        {
          "output_type": "stream",
          "name": "stderr",
          "text": [
            "\r18it [40:59, 136.53s/it]"
          ]
        },
        {
          "output_type": "stream",
          "name": "stdout",
          "text": [
            "Saving epoch 17 checkpoint at /content/drive/MyDrive/Colab Notebooks/wanted_preonboarding/기업과제/3.STS/model/model.ckpt.17\n",
            "Epoch: 18, Step : 10, LR : 6.145198170731708e-06, Avg Loss : 0.0119\n",
            "Epoch: 18, Step : 20, LR : 6.049923780487805e-06, Avg Loss : 0.0130\n",
            "Epoch: 18, Step : 30, LR : 5.954649390243903e-06, Avg Loss : 0.0107\n",
            "Epoch: 18, Step : 40, LR : 5.859375e-06, Avg Loss : 0.0107\n",
            "Epoch: 18, Step : 50, LR : 5.764100609756098e-06, Avg Loss : 0.0111\n",
            "Epoch: 18, Step : 60, LR : 5.668826219512195e-06, Avg Loss : 0.0115\n",
            "Epoch: 18, Step : 70, LR : 5.5735518292682926e-06, Avg Loss : 0.0099\n",
            "Epoch: 18, Step : 80, LR : 5.47827743902439e-06, Avg Loss : 0.0111\n",
            "Epoch: 18, Step : 90, LR : 5.383003048780488e-06, Avg Loss : 0.0102\n",
            "Epoch: 18, Step : 100, LR : 5.287728658536586e-06, Avg Loss : 0.0102\n",
            "Epoch: 18, Step : 110, LR : 5.192454268292683e-06, Avg Loss : 0.0120\n",
            "Epoch: 18, Step : 120, LR : 5.097179878048781e-06, Avg Loss : 0.0107\n",
            "Epoch: 18, Step : 130, LR : 5.001905487804878e-06, Avg Loss : 0.0111\n",
            "Epoch: 18, Step : 140, LR : 4.906631097560976e-06, Avg Loss : 0.0130\n",
            "Epoch: 18, Step : 150, LR : 4.811356707317073e-06, Avg Loss : 0.0110\n",
            "Epoch: 18, Step : 160, LR : 4.716082317073171e-06, Avg Loss : 0.0099\n",
            "Epoch: 18, Step : 170, LR : 4.620807926829269e-06, Avg Loss : 0.0112\n",
            "Epoch: 18, Step : 180, LR : 4.5255335365853665e-06, Avg Loss : 0.0126\n",
            "Epoch: 18, Step : 190, LR : 4.430259146341464e-06, Avg Loss : 0.0110\n",
            "Epoch: 18, Step : 200, LR : 4.3349847560975614e-06, Avg Loss : 0.0105\n",
            "Epoch: 18, Step : 210, LR : 4.239710365853659e-06, Avg Loss : 0.0118\n",
            "Epoch: 18, Step : 220, LR : 4.144435975609756e-06, Avg Loss : 0.0110\n",
            "Epoch: 18, Step : 230, LR : 4.049161585365854e-06, Avg Loss : 0.0112\n",
            "Epoch: 18, Step : 240, LR : 3.953887195121951e-06, Avg Loss : 0.0134\n",
            "Epoch: 18, Step : 250, LR : 3.85861280487805e-06, Avg Loss : 0.0108\n",
            "Epoch: 18, Step : 260, LR : 3.7633384146341467e-06, Avg Loss : 0.0112\n",
            "Epoch: 18, Step : 270, LR : 3.668064024390244e-06, Avg Loss : 0.0121\n",
            "Epoch: 18, Step : 280, LR : 3.5727896341463417e-06, Avg Loss : 0.0116\n",
            "Epoch: 18, Step : 290, LR : 3.477515243902439e-06, Avg Loss : 0.0113\n",
            "Epoch: 18, Step : 300, LR : 3.3822408536585366e-06, Avg Loss : 0.0102\n",
            "Epoch: 18, Step : 310, LR : 3.286966463414634e-06, Avg Loss : 0.0104\n",
            "Epoch: 18, Step : 320, LR : 3.1916920731707316e-06, Avg Loss : 0.0111\n"
          ]
        },
        {
          "output_type": "stream",
          "name": "stderr",
          "text": [
            "03/29/2022 09:24:51 - INFO - __main__ -   ***** Running evaluation on valid dataset (6232 step) *****\n",
            "03/29/2022 09:24:51 - INFO - __main__ -     Num examples = 1167\n",
            "03/29/2022 09:24:51 - INFO - __main__ -     Eval Batch size = 64\n"
          ]
        },
        {
          "output_type": "stream",
          "name": "stdout",
          "text": [
            "Epoch 18 Train Loss : 0.2421\n",
            "*****Epoch 18 Valid Start*****\n"
          ]
        },
        {
          "output_type": "display_data",
          "data": {
            "text/plain": [
              "<IPython.core.display.HTML object>"
            ],
            "text/html": [
              "\n",
              "<style>\n",
              "    /* Turns off some styling */\n",
              "    progress {\n",
              "        /* gets rid of default border in Firefox and Opera. */\n",
              "        border: none;\n",
              "        /* Needs to be in here for Safari polyfill so background images work as expected. */\n",
              "        background-size: auto;\n",
              "    }\n",
              "    .progress-bar-interrupted, .progress-bar-interrupted::-webkit-progress-bar {\n",
              "        background: #F44336;\n",
              "    }\n",
              "</style>\n"
            ]
          },
          "metadata": {}
        },
        {
          "output_type": "display_data",
          "data": {
            "text/plain": [
              "<IPython.core.display.HTML object>"
            ],
            "text/html": [
              "\n",
              "    <div>\n",
              "      <progress value='19' class='' max='19' style='width:300px; height:20px; vertical-align: middle;'></progress>\n",
              "      100.00% [19/19 00:04<00:00]\n",
              "    </div>\n",
              "    "
            ]
          },
          "metadata": {}
        },
        {
          "output_type": "stream",
          "name": "stdout",
          "text": [
            "Epoch 18 Valid Loss : 0.1557\n",
            "*****Epoch 18 Train and Valid Finish*****\n",
            "\n"
          ]
        },
        {
          "output_type": "stream",
          "name": "stderr",
          "text": [
            "\r19it [43:15, 136.36s/it]"
          ]
        },
        {
          "output_type": "stream",
          "name": "stdout",
          "text": [
            "Saving epoch 18 checkpoint at /content/drive/MyDrive/Colab Notebooks/wanted_preonboarding/기업과제/3.STS/model/model.ckpt.18\n",
            "Epoch: 19, Step : 10, LR : 3.0201981707317075e-06, Avg Loss : 0.0104\n",
            "Epoch: 19, Step : 20, LR : 2.924923780487805e-06, Avg Loss : 0.0107\n",
            "Epoch: 19, Step : 30, LR : 2.8296493902439025e-06, Avg Loss : 0.0110\n",
            "Epoch: 19, Step : 40, LR : 2.734375e-06, Avg Loss : 0.0111\n",
            "Epoch: 19, Step : 50, LR : 2.6391006097560974e-06, Avg Loss : 0.0094\n",
            "Epoch: 19, Step : 60, LR : 2.543826219512195e-06, Avg Loss : 0.0128\n",
            "Epoch: 19, Step : 70, LR : 2.448551829268293e-06, Avg Loss : 0.0114\n",
            "Epoch: 19, Step : 80, LR : 2.3532774390243903e-06, Avg Loss : 0.0118\n",
            "Epoch: 19, Step : 90, LR : 2.2580030487804878e-06, Avg Loss : 0.0126\n",
            "Epoch: 19, Step : 100, LR : 2.1627286585365853e-06, Avg Loss : 0.0112\n",
            "Epoch: 19, Step : 110, LR : 2.067454268292683e-06, Avg Loss : 0.0118\n",
            "Epoch: 19, Step : 120, LR : 1.9721798780487806e-06, Avg Loss : 0.0097\n",
            "Epoch: 19, Step : 130, LR : 1.8769054878048781e-06, Avg Loss : 0.0122\n",
            "Epoch: 19, Step : 140, LR : 1.7816310975609756e-06, Avg Loss : 0.0104\n",
            "Epoch: 19, Step : 150, LR : 1.6863567073170733e-06, Avg Loss : 0.0123\n",
            "Epoch: 19, Step : 160, LR : 1.5910823170731707e-06, Avg Loss : 0.0109\n",
            "Epoch: 19, Step : 170, LR : 1.4958079268292682e-06, Avg Loss : 0.0137\n",
            "Epoch: 19, Step : 180, LR : 1.400533536585366e-06, Avg Loss : 0.0120\n",
            "Epoch: 19, Step : 190, LR : 1.3052591463414634e-06, Avg Loss : 0.0090\n",
            "Epoch: 19, Step : 200, LR : 1.209984756097561e-06, Avg Loss : 0.0109\n",
            "Epoch: 19, Step : 210, LR : 1.1147103658536586e-06, Avg Loss : 0.0111\n",
            "Epoch: 19, Step : 220, LR : 1.0194359756097562e-06, Avg Loss : 0.0128\n",
            "Epoch: 19, Step : 230, LR : 9.241615853658536e-07, Avg Loss : 0.0117\n",
            "Epoch: 19, Step : 240, LR : 8.288871951219513e-07, Avg Loss : 0.0118\n",
            "Epoch: 19, Step : 250, LR : 7.336128048780488e-07, Avg Loss : 0.0127\n",
            "Epoch: 19, Step : 260, LR : 6.383384146341464e-07, Avg Loss : 0.0119\n",
            "Epoch: 19, Step : 270, LR : 5.430640243902439e-07, Avg Loss : 0.0092\n",
            "Epoch: 19, Step : 280, LR : 4.4778963414634147e-07, Avg Loss : 0.0122\n",
            "Epoch: 19, Step : 290, LR : 3.5251524390243905e-07, Avg Loss : 0.0109\n",
            "Epoch: 19, Step : 300, LR : 2.5724085365853663e-07, Avg Loss : 0.0107\n",
            "Epoch: 19, Step : 310, LR : 1.6196646341463414e-07, Avg Loss : 0.0099\n",
            "Epoch: 19, Step : 320, LR : 6.669207317073172e-08, Avg Loss : 0.0122\n"
          ]
        },
        {
          "output_type": "stream",
          "name": "stderr",
          "text": [
            "03/29/2022 09:27:07 - INFO - __main__ -   ***** Running evaluation on valid dataset (6560 step) *****\n",
            "03/29/2022 09:27:07 - INFO - __main__ -     Num examples = 1167\n",
            "03/29/2022 09:27:07 - INFO - __main__ -     Eval Batch size = 64\n"
          ]
        },
        {
          "output_type": "stream",
          "name": "stdout",
          "text": [
            "Epoch 19 Train Loss : 0.2305\n",
            "*****Epoch 19 Valid Start*****\n"
          ]
        },
        {
          "output_type": "display_data",
          "data": {
            "text/plain": [
              "<IPython.core.display.HTML object>"
            ],
            "text/html": [
              "\n",
              "<style>\n",
              "    /* Turns off some styling */\n",
              "    progress {\n",
              "        /* gets rid of default border in Firefox and Opera. */\n",
              "        border: none;\n",
              "        /* Needs to be in here for Safari polyfill so background images work as expected. */\n",
              "        background-size: auto;\n",
              "    }\n",
              "    .progress-bar-interrupted, .progress-bar-interrupted::-webkit-progress-bar {\n",
              "        background: #F44336;\n",
              "    }\n",
              "</style>\n"
            ]
          },
          "metadata": {}
        },
        {
          "output_type": "display_data",
          "data": {
            "text/plain": [
              "<IPython.core.display.HTML object>"
            ],
            "text/html": [
              "\n",
              "    <div>\n",
              "      <progress value='19' class='' max='19' style='width:300px; height:20px; vertical-align: middle;'></progress>\n",
              "      100.00% [19/19 00:04<00:00]\n",
              "    </div>\n",
              "    "
            ]
          },
          "metadata": {}
        },
        {
          "output_type": "stream",
          "name": "stdout",
          "text": [
            "Epoch 19 Valid Loss : 0.1580\n",
            "*****Epoch 19 Train and Valid Finish*****\n",
            "\n"
          ]
        },
        {
          "output_type": "stream",
          "name": "stderr",
          "text": [
            "\r20it [45:31, 136.27s/it]"
          ]
        },
        {
          "output_type": "stream",
          "name": "stdout",
          "text": [
            "Saving epoch 19 checkpoint at /content/drive/MyDrive/Colab Notebooks/wanted_preonboarding/기업과제/3.STS/model/model.ckpt.19\n"
          ]
        },
        {
          "output_type": "stream",
          "name": "stderr",
          "text": [
            "\r20it [45:31, 136.57s/it]\n",
            "03/29/2022 09:27:16 - INFO - __main__ -    global_step = 6560, average loss = 0.23051498633335207\n"
          ]
        },
        {
          "output_type": "stream",
          "name": "stdout",
          "text": [
            "Train Completed. End Program.\n"
          ]
        }
      ]
    },
    {
      "cell_type": "code",
      "source": [
        "# train time : 1시간 28분"
      ],
      "metadata": {
        "id": "2p7IX2RqhysQ"
      },
      "execution_count": null,
      "outputs": []
    },
    {
      "cell_type": "code",
      "source": [
        "print(global_step)\n",
        "print(tr_loss)"
      ],
      "metadata": {
        "colab": {
          "base_uri": "https://localhost:8080/"
        },
        "id": "SCGmx4bPKj6C",
        "outputId": "b37bf60b-a558-474e-c5bb-18bdc4b38e18"
      },
      "execution_count": null,
      "outputs": [
        {
          "output_type": "stream",
          "name": "stdout",
          "text": [
            "6560\n",
            "0.23051498633335207\n"
          ]
        }
      ]
    },
    {
      "cell_type": "markdown",
      "source": [
        "## Visualize Loss curve"
      ],
      "metadata": {
        "id": "GKL-FJx2r_dE"
      }
    },
    {
      "cell_type": "code",
      "source": [
        "# loss 변화 시각화\n",
        "val_loss = {'train_loss' : avg_tr_loss_li,\n",
        "            'val_loss' : avg_val_loss_li,\n",
        "            'epoch' : [1, 2, 3, 4, 5, 6, 7, 8, 9, 10, 11, 12, 13, 14, 15, 16, 17, 18, 19, 20]}\n",
        "loss_df = pd.DataFrame(data=val_loss)\n",
        "\n",
        "sns.lineplot(x='epoch', y='train_loss', data=loss_df, label='train_loss')\n",
        "sns.lineplot(x='epoch', y='val_loss', data=loss_df, label='val_loss')\n",
        "\n",
        "plt.xlabel('EPOCH')\n",
        "plt.ylabel('LOSS')\n",
        "plt.show();"
      ],
      "metadata": {
        "id": "P_Tmm8YRLeHy",
        "colab": {
          "base_uri": "https://localhost:8080/",
          "height": 279
        },
        "outputId": "66b00da1-bdd5-425e-825e-22fc30cfc30a"
      },
      "execution_count": null,
      "outputs": [
        {
          "output_type": "display_data",
          "data": {
            "text/plain": [
              "<Figure size 432x288 with 1 Axes>"
            ],
            "image/png": "[encoded data removed]"
          },
          "metadata": {
            "needs_background": "light"
          }
        }
      ]
    },
    {
      "cell_type": "code",
      "source": [
        "%load_ext tensorboard"
      ],
      "metadata": {
        "id": "bxK5hyXvoVP3",
        "colab": {
          "base_uri": "https://localhost:8080/"
        },
        "outputId": "c27b9a25-2d66-42f7-e574-40db411a3a22"
      },
      "execution_count": null,
      "outputs": [
        {
          "output_type": "stream",
          "name": "stdout",
          "text": [
            "The tensorboard extension is already loaded. To reload it, use:\n",
            "  %reload_ext tensorboard\n"
          ]
        }
      ]
    },
    {
      "cell_type": "code",
      "source": [
        "%tensorboard --logdir {logdir_path}"
      ],
      "metadata": {
        "id": "IIIbLDs9oUgG",
        "colab": {
          "base_uri": "https://localhost:8080/",
          "height": 400
        },
        "outputId": "61134c4f-fdff-48dc-cddd-13bd6869d0dc"
      },
      "execution_count": null,
      "outputs": [
        {
          "output_type": "display_data",
          "data": {
            "text/plain": [
              "ERROR: Failed to launch TensorBoard (exited with 2).\n",
              "Contents of stderr:\n",
              "usage: tensorboard [-h] [--helpfull] [--logdir PATH] [--logdir_spec PATH_SPEC]\n",
              "                   [--host ADDR] [--bind_all] [--port PORT]\n",
              "                   [--reuse_port BOOL] [--load_fast {false,auto,true}]\n",
              "                   [--extra_data_server_flags EXTRA_DATA_SERVER_FLAGS]\n",
              "                   [--grpc_creds_type {local,ssl,ssl_dev}]\n",
              "                   [--grpc_data_provider PORT] [--purge_orphaned_data BOOL]\n",
              "                   [--db URI] [--db_import] [--inspect] [--version_tb]\n",
              "                   [--tag TAG] [--event_file PATH] [--path_prefix PATH]\n",
              "                   [--window_title TEXT] [--max_reload_threads COUNT]\n",
              "                   [--reload_interval SECONDS] [--reload_task TYPE]\n",
              "                   [--reload_multifile BOOL]\n",
              "                   [--reload_multifile_inactive_secs SECONDS]\n",
              "                   [--generic_data TYPE]\n",
              "                   [--samples_per_plugin SAMPLES_PER_PLUGIN]\n",
              "                   [--whatif-use-unsafe-custom-prediction YOUR_CUSTOM_PREDICT_FUNCTION.py]\n",
              "                   [--whatif-data-dir PATH]\n",
              "                   {serve,dev} ...\n",
              "tensorboard: error: invalid choice: 'Notebooks/wanted_preonboarding/기업과제/3.STS/logdir' (choose from 'serve', 'dev')"
            ]
          },
          "metadata": {}
        }
      ]
    },
    {
      "cell_type": "markdown",
      "source": [
        "# Predict"
      ],
      "metadata": {
        "id": "0FHE-EnUWl0M"
      }
    },
    {
      "cell_type": "markdown",
      "source": [
        "## Load Model"
      ],
      "metadata": {
        "id": "TSG1U6J6sNlT"
      }
    },
    {
      "cell_type": "code",
      "source": [
        "# Load model\n",
        "path = '/content/drive/MyDrive/Colab Notebooks/wanted_preonboarding/기업과제/3.STS/model'\n",
        "checkpoint = torch.load(os.path.join(path, 'model.ckpt.19'))"
      ],
      "metadata": {
        "id": "sYMzss35WlkE"
      },
      "execution_count": null,
      "outputs": []
    },
    {
      "cell_type": "code",
      "source": [
        "# ckpt keys\n",
        "checkpoint.keys()"
      ],
      "metadata": {
        "colab": {
          "base_uri": "https://localhost:8080/"
        },
        "id": "ef51UHkgX_O5",
        "outputId": "7102ad08-61a2-4b7b-fb0d-7e930deb2944"
      },
      "execution_count": null,
      "outputs": [
        {
          "output_type": "execute_result",
          "data": {
            "text/plain": [
              "dict_keys(['epoch', 'model_state_dict', 'optimizer_state_dict', 'scheduler_state_dict', 'loss'])"
            ]
          },
          "metadata": {},
          "execution_count": 90
        }
      ]
    },
    {
      "cell_type": "code",
      "source": [
        "# Initialize model & optimizer & scheduler\n",
        "initializer = Initializer(args)\n",
        "model = initializer.model_initializer()\n",
        "# optimizer, scheduler, _ = initializer.opt_sch_initializer(model, train_dataloader)"
      ],
      "metadata": {
        "id": "FOyQx705X_K8",
        "colab": {
          "base_uri": "https://localhost:8080/"
        },
        "outputId": "70eec366-8319-457d-cb83-00aa58d54892"
      },
      "execution_count": null,
      "outputs": [
        {
          "output_type": "stream",
          "name": "stderr",
          "text": [
            "Some weights of the model checkpoint at monologg/koelectra-base-v3-discriminator were not used when initializing ElectraForSequenceClassification: ['discriminator_predictions.dense_prediction.bias', 'discriminator_predictions.dense.weight', 'discriminator_predictions.dense_prediction.weight', 'discriminator_predictions.dense.bias']\n",
            "- This IS expected if you are initializing ElectraForSequenceClassification from the checkpoint of a model trained on another task or with another architecture (e.g. initializing a BertForSequenceClassification model from a BertForPreTraining model).\n",
            "- This IS NOT expected if you are initializing ElectraForSequenceClassification from the checkpoint of a model that you expect to be exactly identical (initializing a BertForSequenceClassification model from a BertForSequenceClassification model).\n",
            "Some weights of ElectraForSequenceClassification were not initialized from the model checkpoint at monologg/koelectra-base-v3-discriminator and are newly initialized: ['classifier.out_proj.weight', 'classifier.dense.weight', 'classifier.out_proj.bias', 'classifier.dense.bias']\n",
            "You should probably TRAIN this model on a down-stream task to be able to use it for predictions and inference.\n"
          ]
        }
      ]
    },
    {
      "cell_type": "code",
      "source": [
        "# model_state_dict\n",
        "model.load_state_dict(checkpoint[\"model_state_dict\"])"
      ],
      "metadata": {
        "colab": {
          "base_uri": "https://localhost:8080/"
        },
        "id": "LYWrqgSmYHt8",
        "outputId": "74515d94-6a28-4e47-ebe6-47c823ea2257"
      },
      "execution_count": null,
      "outputs": [
        {
          "output_type": "execute_result",
          "data": {
            "text/plain": [
              "<All keys matched successfully>"
            ]
          },
          "metadata": {},
          "execution_count": 92
        }
      ]
    },
    {
      "cell_type": "markdown",
      "source": [
        "## Predict"
      ],
      "metadata": {
        "id": "T7qt9Hqesgo_"
      }
    },
    {
      "cell_type": "code",
      "source": [
        "def predict(args, model, dev_dataloader, mode, global_step=None):\n",
        "    \n",
        "    # logger info\n",
        "    if global_step != None:\n",
        "        logger.info(\"***** Running test on {} dataset ({} step) *****\".format(mode, global_step))\n",
        "    else:\n",
        "        logger.info(\"***** Running test on {} dataset *****\".format(mode))\n",
        "    logger.info(\"  Num examples = {}\".format(len(d_dataset)))\n",
        "    logger.info(\"  Eval Batch size = {}\".format(args['eval_batch_size']))\n",
        "    \n",
        "    # loss, steps, preds, labels\n",
        "    loss = 0.0\n",
        "    nb_test_steps = 0\n",
        "    preds = None\n",
        "    out_label_ids = None\n",
        "    \n",
        "    # eval mode\n",
        "    model.eval()\n",
        "\n",
        "    # model to device\n",
        "    model.to(device)\n",
        "\n",
        "    # Predict !\n",
        "    for batch in progress_bar(dev_dataloader):\n",
        "        batch = tuple(item.to(device) for item in batch)\n",
        "\n",
        "        # no_grad\n",
        "        with torch.no_grad():\n",
        "            # inputs\n",
        "            inputs = {\n",
        "                \"input_ids\": batch[0],\n",
        "                \"attention_mask\": batch[1],\n",
        "                \"token_type_ids\": batch[2],\n",
        "                \"labels\": batch[3]\n",
        "            }\n",
        "\n",
        "            # outputs\n",
        "            outputs = model(**inputs)\n",
        "\n",
        "            # loss and logits\n",
        "            tmp_test_loss, logits = outputs[:2]\n",
        "            loss += tmp_test_loss.mean().item()\n",
        "        \n",
        "        nb_test_steps += 1\n",
        "\n",
        "        # preds and labels\n",
        "        if preds is None:\n",
        "            preds = logits.detach().cpu().numpy()\n",
        "            out_label_ids = inputs[\"labels\"].detach().cpu().numpy()\n",
        "        else:\n",
        "            preds = np.append(preds, logits.detach().cpu().numpy(), axis=0)\n",
        "            out_label_ids = np.append(out_label_ids, inputs[\"labels\"].detach().cpu().numpy(), axis=0)\n",
        "    \n",
        "    # average loss\n",
        "    loss = loss / nb_test_steps\n",
        "    \n",
        "    # preds\n",
        "    if seq_cls_output_modes[args['task']] == \"classification\":\n",
        "        preds = np.argmax(preds, axis=1)\n",
        "    elif seq_cls_output_modes[args['task']] == \"regression\":\n",
        "        preds = np.squeeze(preds)\n",
        "\n",
        "    \"\"\" returns info\n",
        "    preds           :  predictions(float)\n",
        "    out_label_ids   :  labels(float)\n",
        "    loss            :  loss of prediction\n",
        "    \"\"\"\n",
        "    return preds, out_label_ids, loss"
      ],
      "metadata": {
        "id": "biDCR1AiOcb_"
      },
      "execution_count": null,
      "outputs": []
    },
    {
      "cell_type": "code",
      "source": [
        "# Predict !\n",
        "preds, out_label_ids, loss = predict(args, model, dev_dataloader, 'test')"
      ],
      "metadata": {
        "colab": {
          "base_uri": "https://localhost:8080/",
          "height": 92
        },
        "id": "4-El5gKHOcZL",
        "outputId": "d04f3653-668c-488c-a60e-9720b5566e04"
      },
      "execution_count": null,
      "outputs": [
        {
          "output_type": "stream",
          "name": "stderr",
          "text": [
            "03/29/2022 10:06:53 - INFO - __main__ -   ***** Running test on test dataset *****\n",
            "03/29/2022 10:06:53 - INFO - __main__ -     Num examples = 519\n",
            "03/29/2022 10:06:53 - INFO - __main__ -     Eval Batch size = 64\n"
          ]
        },
        {
          "output_type": "display_data",
          "data": {
            "text/plain": [
              "<IPython.core.display.HTML object>"
            ],
            "text/html": [
              "\n",
              "<style>\n",
              "    /* Turns off some styling */\n",
              "    progress {\n",
              "        /* gets rid of default border in Firefox and Opera. */\n",
              "        border: none;\n",
              "        /* Needs to be in here for Safari polyfill so background images work as expected. */\n",
              "        background-size: auto;\n",
              "    }\n",
              "    .progress-bar-interrupted, .progress-bar-interrupted::-webkit-progress-bar {\n",
              "        background: #F44336;\n",
              "    }\n",
              "</style>\n"
            ]
          },
          "metadata": {}
        },
        {
          "output_type": "display_data",
          "data": {
            "text/plain": [
              "<IPython.core.display.HTML object>"
            ],
            "text/html": [
              "\n",
              "    <div>\n",
              "      <progress value='9' class='' max='9' style='width:300px; height:20px; vertical-align: middle;'></progress>\n",
              "      100.00% [9/9 00:02<00:00]\n",
              "    </div>\n",
              "    "
            ]
          },
          "metadata": {}
        }
      ]
    },
    {
      "cell_type": "markdown",
      "source": [
        "# dev_score to_csv \n",
        "> 함께 제출하는 'dev_set_score.csv' 파일로 평가하시면 됩니다."
      ],
      "metadata": {
        "id": "DQNB6WTXH27f"
      }
    },
    {
      "cell_type": "code",
      "source": [
        "# pred 실수 라벨 \n",
        "pred_real_label = [pred for pred in preds]\n",
        "\n",
        "# pred binary 라벨 생성 (원 데이터 기준 3.000점 이상일 시 1, 미만일 시 0)\n",
        "pred_bi_label = [1 if i >= 3 else 0 for i in preds]\n",
        "\n",
        "# dev_set_score file to_csv\n",
        "dev['pred_real_f_label'] = pred_real_label\n",
        "dev['pred_b_label'] = pred_bi_label\n",
        "\n",
        "dev_set_score = dev[['guid', 'real_f_label', 'b_label', 'pred_real_f_label', 'pred_b_label']].rename(columns={'real_f_label':'true_real_label',\n",
        "                                                                                                              'b_label':'true_binary_label',\n",
        "                                                                                                              'pred_real_f_label':'predict_real_label',\n",
        "                                                                                                              'pred_b_label':'predict_binary_label'})\n",
        "dev_set_score.head(5)"
      ],
      "metadata": {
        "id": "mGoZPYDKIDTH",
        "colab": {
          "base_uri": "https://localhost:8080/",
          "height": 357
        },
        "outputId": "7ddebffa-55eb-4c48-e1be-6624aeb3e395"
      },
      "execution_count": null,
      "outputs": [
        {
          "output_type": "execute_result",
          "data": {
            "text/plain": [
              "                    guid  true_real_label  true_binary_label  \\\n",
              "0  klue-sts-v1_dev_00000         4.857143                  1   \n",
              "1  klue-sts-v1_dev_00001         1.428571                  0   \n",
              "2  klue-sts-v1_dev_00002         1.285714                  0   \n",
              "3  klue-sts-v1_dev_00003         3.714286                  1   \n",
              "4  klue-sts-v1_dev_00004         2.500000                  0   \n",
              "\n",
              "   predict_real_label  predict_binary_label  \n",
              "0            4.910949                     1  \n",
              "1            2.225322                     0  \n",
              "2            1.288716                     0  \n",
              "3            3.990324                     1  \n",
              "4            2.774911                     0  "
            ],
            "text/html": [
              "\n",
              "  <div id=\"df-ddd8ce25-7fd4-49db-9d98-7c5c89d90f67\">\n",
              "    <div class=\"colab-df-container\">\n",
              "      <div>\n",
              "<style scoped>\n",
              "    .dataframe tbody tr th:only-of-type {\n",
              "        vertical-align: middle;\n",
              "    }\n",
              "\n",
              "    .dataframe tbody tr th {\n",
              "        vertical-align: top;\n",
              "    }\n",
              "\n",
              "    .dataframe thead th {\n",
              "        text-align: right;\n",
              "    }\n",
              "</style>\n",
              "<table border=\"1\" class=\"dataframe\">\n",
              "  <thead>\n",
              "    <tr style=\"text-align: right;\">\n",
              "      <th></th>\n",
              "      <th>guid</th>\n",
              "      <th>true_real_label</th>\n",
              "      <th>true_binary_label</th>\n",
              "      <th>predict_real_label</th>\n",
              "      <th>predict_binary_label</th>\n",
              "    </tr>\n",
              "  </thead>\n",
              "  <tbody>\n",
              "    <tr>\n",
              "      <th>0</th>\n",
              "      <td>klue-sts-v1_dev_00000</td>\n",
              "      <td>4.857143</td>\n",
              "      <td>1</td>\n",
              "      <td>4.910949</td>\n",
              "      <td>1</td>\n",
              "    </tr>\n",
              "    <tr>\n",
              "      <th>1</th>\n",
              "      <td>klue-sts-v1_dev_00001</td>\n",
              "      <td>1.428571</td>\n",
              "      <td>0</td>\n",
              "      <td>2.225322</td>\n",
              "      <td>0</td>\n",
              "    </tr>\n",
              "    <tr>\n",
              "      <th>2</th>\n",
              "      <td>klue-sts-v1_dev_00002</td>\n",
              "      <td>1.285714</td>\n",
              "      <td>0</td>\n",
              "      <td>1.288716</td>\n",
              "      <td>0</td>\n",
              "    </tr>\n",
              "    <tr>\n",
              "      <th>3</th>\n",
              "      <td>klue-sts-v1_dev_00003</td>\n",
              "      <td>3.714286</td>\n",
              "      <td>1</td>\n",
              "      <td>3.990324</td>\n",
              "      <td>1</td>\n",
              "    </tr>\n",
              "    <tr>\n",
              "      <th>4</th>\n",
              "      <td>klue-sts-v1_dev_00004</td>\n",
              "      <td>2.500000</td>\n",
              "      <td>0</td>\n",
              "      <td>2.774911</td>\n",
              "      <td>0</td>\n",
              "    </tr>\n",
              "  </tbody>\n",
              "</table>\n",
              "</div>\n",
              "      <button class=\"colab-df-convert\" onclick=\"convertToInteractive('df-ddd8ce25-7fd4-49db-9d98-7c5c89d90f67')\"\n",
              "              title=\"Convert this dataframe to an interactive table.\"\n",
              "              style=\"display:none;\">\n",
              "        \n",
              "  <svg xmlns=\"http://www.w3.org/2000/svg\" height=\"24px\"viewBox=\"0 0 24 24\"\n",
              "       width=\"24px\">\n",
              "    <path d=\"M0 0h24v24H0V0z\" fill=\"none\"/>\n",
              "    <path d=\"M18.56 5.44l.94 2.06.94-2.06 2.06-.94-2.06-.94-.94-2.06-.94 2.06-2.06.94zm-11 1L8.5 8.5l.94-2.06 2.06-.94-2.06-.94L8.5 2.5l-.94 2.06-2.06.94zm10 10l.94 2.06.94-2.06 2.06-.94-2.06-.94-.94-2.06-.94 2.06-2.06.94z\"/><path d=\"M17.41 7.96l-1.37-1.37c-.4-.4-.92-.59-1.43-.59-.52 0-1.04.2-1.43.59L10.3 9.45l-7.72 7.72c-.78.78-.78 2.05 0 2.83L4 21.41c.39.39.9.59 1.41.59.51 0 1.02-.2 1.41-.59l7.78-7.78 2.81-2.81c.8-.78.8-2.07 0-2.86zM5.41 20L4 18.59l7.72-7.72 1.47 1.35L5.41 20z\"/>\n",
              "  </svg>\n",
              "      </button>\n",
              "      \n",
              "  <style>\n",
              "    .colab-df-container {\n",
              "      display:flex;\n",
              "      flex-wrap:wrap;\n",
              "      gap: 12px;\n",
              "    }\n",
              "\n",
              "    .colab-df-convert {\n",
              "      background-color: #E8F0FE;\n",
              "      border: none;\n",
              "      border-radius: 50%;\n",
              "      cursor: pointer;\n",
              "      display: none;\n",
              "      fill: #1967D2;\n",
              "      height: 32px;\n",
              "      padding: 0 0 0 0;\n",
              "      width: 32px;\n",
              "    }\n",
              "\n",
              "    .colab-df-convert:hover {\n",
              "      background-color: #E2EBFA;\n",
              "      box-shadow: 0px 1px 2px rgba(60, 64, 67, 0.3), 0px 1px 3px 1px rgba(60, 64, 67, 0.15);\n",
              "      fill: #174EA6;\n",
              "    }\n",
              "\n",
              "    [theme=dark] .colab-df-convert {\n",
              "      background-color: #3B4455;\n",
              "      fill: #D2E3FC;\n",
              "    }\n",
              "\n",
              "    [theme=dark] .colab-df-convert:hover {\n",
              "      background-color: #434B5C;\n",
              "      box-shadow: 0px 1px 3px 1px rgba(0, 0, 0, 0.15);\n",
              "      filter: drop-shadow(0px 1px 2px rgba(0, 0, 0, 0.3));\n",
              "      fill: #FFFFFF;\n",
              "    }\n",
              "  </style>\n",
              "\n",
              "      <script>\n",
              "        const buttonEl =\n",
              "          document.querySelector('#df-ddd8ce25-7fd4-49db-9d98-7c5c89d90f67 button.colab-df-convert');\n",
              "        buttonEl.style.display =\n",
              "          google.colab.kernel.accessAllowed ? 'block' : 'none';\n",
              "\n",
              "        async function convertToInteractive(key) {\n",
              "          const element = document.querySelector('#df-ddd8ce25-7fd4-49db-9d98-7c5c89d90f67');\n",
              "          const dataTable =\n",
              "            await google.colab.kernel.invokeFunction('convertToInteractive',\n",
              "                                                     [key], {});\n",
              "          if (!dataTable) return;\n",
              "\n",
              "          const docLinkHtml = 'Like what you see? Visit the ' +\n",
              "            '<a target=\"_blank\" href=https://colab.research.google.com/notebooks/data_table.ipynb>data table notebook</a>'\n",
              "            + ' to learn more about interactive tables.';\n",
              "          element.innerHTML = '';\n",
              "          dataTable['output_type'] = 'display_data';\n",
              "          await google.colab.output.renderOutput(dataTable, element);\n",
              "          const docLink = document.createElement('div');\n",
              "          docLink.innerHTML = docLinkHtml;\n",
              "          element.appendChild(docLink);\n",
              "        }\n",
              "      </script>\n",
              "    </div>\n",
              "  </div>\n",
              "  "
            ]
          },
          "metadata": {},
          "execution_count": 95
        }
      ]
    },
    {
      "cell_type": "code",
      "source": [
        "fname = 'dev_set_score.csv'\n",
        "dev_set_score.to_csv(f'/content/drive/MyDrive/Colab Notebooks/wanted_preonboarding/기업과제/3.STS/data/{fname}')"
      ],
      "metadata": {
        "id": "dVjllfC9IxB7"
      },
      "execution_count": null,
      "outputs": []
    }
  ]
}