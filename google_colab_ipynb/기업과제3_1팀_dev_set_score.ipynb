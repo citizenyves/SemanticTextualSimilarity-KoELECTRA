{
  "nbformat": 4,
  "nbformat_minor": 0,
  "metadata": {
    "colab": {
      "name": "기업과제3_1팀_dev_set_score.ipynb",
      "provenance": [],
      "collapsed_sections": [],
      "include_colab_link": true
    },
    "kernelspec": {
      "name": "python3",
      "display_name": "Python 3"
    },
    "language_info": {
      "name": "python"
    }
  },
  "cells": [
    {
      "cell_type": "markdown",
      "metadata": {
        "id": "view-in-github",
        "colab_type": "text"
      },
      "source": [
        "<a href=\"https://colab.research.google.com/github/citizenyves/SemanticTextualSimilarity-KoELECTRA/blob/main/google_colab_ipynb/%E1%84%80%E1%85%B5%E1%84%8B%E1%85%A5%E1%86%B8%E1%84%80%E1%85%AA%E1%84%8C%E1%85%A63_1%E1%84%90%E1%85%B5%E1%86%B7_dev_set_score.ipynb\" target=\"_parent\"><img src=\"https://colab.research.google.com/assets/colab-badge.svg\" alt=\"Open In Colab\"/></a>"
      ]
    },
    {
      "cell_type": "code",
      "source": [
        "from google.colab import drive\n",
        "drive.mount('/content/drive')"
      ],
      "metadata": {
        "colab": {
          "base_uri": "https://localhost:8080/"
        },
        "id": "U0tdq0PDQoK-",
        "outputId": "610698ce-a577-4199-ec8d-2ad99b7e53bb"
      },
      "execution_count": null,
      "outputs": [
        {
          "output_type": "stream",
          "name": "stdout",
          "text": [
            "Mounted at /content/drive\n"
          ]
        }
      ]
    },
    {
      "cell_type": "code",
      "source": [
        "import pandas as pd\n",
        "from scipy.stats import pearsonr, spearmanr\n",
        "from sklearn import metrics as sklearn_metrics"
      ],
      "metadata": {
        "id": "fCfivq62n3-v"
      },
      "execution_count": null,
      "outputs": []
    },
    {
      "cell_type": "code",
      "source": [
        "fname = 'dev_set_score.csv'\n",
        "dev_score_path = f'/content/drive/MyDrive/Colab Notebooks/wanted_preonboarding/기업과제/3.STS/data/{fname}'\n",
        "dev_df = pd.read_csv(dev_score_path, index_col = 0)"
      ],
      "metadata": {
        "id": "gX9OrWQo6Hr-"
      },
      "execution_count": null,
      "outputs": []
    },
    {
      "cell_type": "code",
      "source": [
        "def pearson_and_spearman(labels, preds):\n",
        "    pearson_corr = pearsonr(preds, labels)[0]\n",
        "    spearman_corr = spearmanr(preds, labels)[0]\n",
        "    return {\n",
        "        \"pearson\": pearson_corr,\n",
        "        \"spearmanr\": spearman_corr,\n",
        "        \"corr\": (pearson_corr + spearman_corr) / 2,\n",
        "    }\n",
        "\n",
        "\n",
        "def f1_pre_rec(labels, preds):\n",
        "    return {\n",
        "        \"precision\": sklearn_metrics.precision_score(labels, preds, average=\"macro\"),\n",
        "        \"recall\": sklearn_metrics.recall_score(labels, preds, average=\"macro\"),\n",
        "        \"f1\": sklearn_metrics.f1_score(labels, preds, average=\"macro\"),\n",
        "    }\n",
        "\n",
        "\n",
        "def compute_metrics(metric_name, labels, preds):\n",
        "    assert len(preds) == len(labels)\n",
        "    if metric_name == \"pearson_and_spearman\":\n",
        "        return pearson_and_spearman(labels, preds)\n",
        "    elif metric_name == \"f1_pre_rec\":\n",
        "        return f1_pre_rec(labels, preds)\n",
        "    else:\n",
        "        raise KeyError(metric_name)"
      ],
      "metadata": {
        "id": "xmd6_JnFu_Ky"
      },
      "execution_count": null,
      "outputs": []
    },
    {
      "cell_type": "code",
      "source": [
        "## pearson & spearman\n",
        "corr = compute_metrics(\"pearson_and_spearman\", dev_df['true_real_label'], dev_df['predict_real_label'])\n",
        "print(corr)"
      ],
      "metadata": {
        "id": "wwyy66nadJSS",
        "outputId": "a18598e9-69ee-4c64-948b-b0e6b5235dd7",
        "colab": {
          "base_uri": "https://localhost:8080/"
        }
      },
      "execution_count": null,
      "outputs": [
        {
          "output_type": "stream",
          "name": "stdout",
          "text": [
            "{'pearson': 0.9329926209588465, 'spearmanr': 0.930158418864974, 'corr': 0.9315755199119102}\n"
          ]
        }
      ]
    },
    {
      "cell_type": "code",
      "source": [
        "f1 = compute_metrics(\"f1_pre_rec\",dev_df['true_binary_label'], dev_df['predict_binary_label'])['f1']\n",
        "precision = compute_metrics(\"f1_pre_rec\",dev_df['true_binary_label'], dev_df['predict_binary_label'])['precision']\n",
        "recall = compute_metrics(\"f1_pre_rec\",dev_df['true_binary_label'], dev_df['predict_binary_label'])['recall']  "
      ],
      "metadata": {
        "id": "J5gBFdGxdKy_"
      },
      "execution_count": null,
      "outputs": []
    },
    {
      "cell_type": "code",
      "source": [
        "print(f\"f1 score  : {f1}\")\n",
        "print(f\"precision : {precision}\")\n",
        "print(f\"recall    : {recall}\")"
      ],
      "metadata": {
        "colab": {
          "base_uri": "https://localhost:8080/"
        },
        "id": "0xBghODKI2ib",
        "outputId": "848ba3bc-a485-4af2-e255-5d84c2d76735"
      },
      "execution_count": null,
      "outputs": [
        {
          "output_type": "stream",
          "name": "stdout",
          "text": [
            "f1 score  : 0.8780258519388955\n",
            "precision : 0.8797082937262357\n",
            "recall    : 0.8886439647309212\n"
          ]
        }
      ]
    }
  ]
}